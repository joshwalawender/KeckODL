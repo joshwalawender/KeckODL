{
 "cells": [
  {
   "cell_type": "markdown",
   "metadata": {},
   "source": [
    "# Observing Blocks"
   ]
  },
  {
   "cell_type": "code",
   "execution_count": 1,
   "metadata": {},
   "outputs": [],
   "source": [
    "from keckODL.target import Target, TargetList\n",
    "from keckODL.kcwi import KCWIblueDetectorConfig, KCWIredDetectorConfig\n",
    "from keckODL.kcwi import KCWIConfig\n",
    "from keckODL.offset import Stare, StarSkyStar\n",
    "from keckODL.block import ObservingBlock, ObservingBlockList\n",
    "\n",
    "from astropy import units as u"
   ]
  },
  {
   "cell_type": "markdown",
   "metadata": {},
   "source": [
    "# KCWI + KCRM Example"
   ]
  },
  {
   "cell_type": "code",
   "execution_count": 2,
   "metadata": {},
   "outputs": [],
   "source": [
    "ngc1333 = Target('NGC1333', rotmode='PA', PA=22.5,\n",
    "                 objecttype='science',\n",
    "                 acquisition='blind')"
   ]
  },
  {
   "cell_type": "code",
   "execution_count": 3,
   "metadata": {},
   "outputs": [],
   "source": [
    "# Let's set up detector configurations for the red and blue arm\n",
    "# For the blue side we'll take a single 1800s exposure\n",
    "# For the red side, we'll do two 900s exposures\n",
    "kcwib_1800s = KCWIblueDetectorConfig(exptime=1800, nexp=1, binning='2x2', readoutmode=0, ampmode=9)\n",
    "kcwir_1800s = KCWIredDetectorConfig(exptime=900, nexp=2, binning='2x2', readoutmode=0, ampmode=9)\n",
    "kcwib_1800s.write('detector_KCWIb_1800s.txt')\n",
    "kcwir_1800s.write('detector_KCWIr_1800s.txt')"
   ]
  },
  {
   "cell_type": "code",
   "execution_count": 4,
   "metadata": {},
   "outputs": [
    {
     "data": {
      "text/plain": [
       "1853"
      ]
     },
     "execution_count": 4,
     "metadata": {},
     "output_type": "execute_result"
    }
   ],
   "source": [
    "# How long will the blue side exposure take with overheads?\n",
    "kcwib_1800s.estimate_clock_time()"
   ]
  },
  {
   "cell_type": "code",
   "execution_count": 5,
   "metadata": {},
   "outputs": [
    {
     "data": {
      "text/plain": [
       "1800"
      ]
     },
     "execution_count": 5,
     "metadata": {},
     "output_type": "execute_result"
    }
   ],
   "source": [
    "# How long will the red side exposure take with overheads?\n",
    "kcwir_1800s.estimate_clock_time()"
   ]
  },
  {
   "cell_type": "code",
   "execution_count": 6,
   "metadata": {},
   "outputs": [
    {
     "data": {
      "text/plain": [
       "926.5"
      ]
     },
     "execution_count": 6,
     "metadata": {},
     "output_type": "execute_result"
    }
   ],
   "source": [
    "# Let's ask the red side to adjust the exposure time to \n",
    "# match the time it takes for the blue side to finish\n",
    "kcwir_1800s.match_time(kcwib_1800s.estimate_clock_time())\n",
    "kcwir_1800s.exptime"
   ]
  },
  {
   "cell_type": "code",
   "execution_count": 7,
   "metadata": {},
   "outputs": [
    {
     "data": {
      "text/plain": [
       "1853.0"
      ]
     },
     "execution_count": 7,
     "metadata": {},
     "output_type": "execute_result"
    }
   ],
   "source": [
    "# Now the red side will finish at the same time the blue side does\n",
    "kcwir_1800s.estimate_clock_time()"
   ]
  },
  {
   "cell_type": "code",
   "execution_count": 8,
   "metadata": {},
   "outputs": [
    {
     "data": {
      "text/plain": [
       "medium BH3 4800 A"
      ]
     },
     "execution_count": 8,
     "metadata": {},
     "output_type": "execute_result"
    }
   ],
   "source": [
    "med_slicer_b4800_r6500 = KCWIConfig(slicer='medium', bluegrating='BH3', bluecwave=4800,\n",
    "                                    redgrating='RH3', redcwave=6563,)\n",
    "med_slicer_b4800_r6500.write('KCWIconfig_medslicer_red_blue.txt')\n",
    "med_slicer_b4800_r6500"
   ]
  },
  {
   "cell_type": "code",
   "execution_count": 9,
   "metadata": {},
   "outputs": [],
   "source": [
    "skyoffset = StarSkyStar(dx=60*u.arcsec, dy=30*u.arcsec, repeat=3)\n",
    "skyoffset.write('offset_customStarSkyStar.txt')"
   ]
  },
  {
   "cell_type": "code",
   "execution_count": 10,
   "metadata": {},
   "outputs": [],
   "source": [
    "OB1 = ObservingBlock(target=ngc1333, pattern=skyoffset,\n",
    "                            detconfig=(kcwib_1800s, kcwir_1800s),\n",
    "                            instconfig=med_slicer_b4800_r6500,\n",
    "                            )"
   ]
  },
  {
   "cell_type": "code",
   "execution_count": 11,
   "metadata": {},
   "outputs": [
    {
     "data": {
      "text/plain": [
       "Target         |Pattern               |DetectorConfig                      |InstrumentConfig                             \n",
       "---------------|----------------------|------------------------------------|---------------------------------------------\n",
       "NGC1333        |StarSkyStar (60 30) x3|(KCWIblue 1800s x1, KCWIred 926s x2)|medium BH3 4800 A                            "
      ]
     },
     "execution_count": 11,
     "metadata": {},
     "output_type": "execute_result"
    }
   ],
   "source": [
    "OBlist = ObservingBlockList([OB1])\n",
    "OBlist"
   ]
  },
  {
   "cell_type": "code",
   "execution_count": 12,
   "metadata": {},
   "outputs": [
    {
     "name": "stdout",
     "output_type": "stream",
     "text": [
      "Shutter Open Time: 16677.0 s (4.6 hrs)\n",
      "Wall Clock Time: 16677 s (4.6 hrs)\n"
     ]
    }
   ],
   "source": [
    "OBlist.estimate_time()"
   ]
  },
  {
   "cell_type": "code",
   "execution_count": 13,
   "metadata": {},
   "outputs": [
    {
     "data": {
      "text/plain": [
       "Target         |Pattern               |DetectorConfig                      |InstrumentConfig                             \n",
       "---------------|----------------------|------------------------------------|---------------------------------------------\n",
       "None           |Stare x1              |KCWIblue 6s x1                      |medium BH3 4800 A arclamp=CONT calobj=MedBarsA\n",
       "None           |Stare x1              |KCWIblue 30s x1                     |medium BH3 4800 A arclamp=FEAR calobj=FlatA  \n",
       "None           |Stare x1              |KCWIblue 45s x1                     |medium BH3 4800 A arclamp=THAR calobj=FlatA  \n",
       "None           |Stare x6              |KCWIblue 6s x1                      |medium BH3 4800 A arclamp=CONT calobj=FlatA  \n",
       "None           |Stare x7              |KCWIblue 0s (Dark) x1               |medium BH3 4800 A                            \n",
       "DomeFlats      |Stare x3              |KCWIblue 100s x1                    |medium BH3 4800 A domeflatlamp=True          "
      ]
     },
     "execution_count": 13,
     "metadata": {},
     "output_type": "execute_result"
    }
   ],
   "source": [
    "cals_I_need = OBlist.cals()\n",
    "cals_I_need"
   ]
  },
  {
   "cell_type": "code",
   "execution_count": 14,
   "metadata": {},
   "outputs": [
    {
     "name": "stdout",
     "output_type": "stream",
     "text": [
      "Shutter Open Time: 417 s (0.1 hrs)\n",
      "Wall Clock Time: 3647 s (1.0 hrs)\n"
     ]
    }
   ],
   "source": [
    "cals_I_need.estimate_time()"
   ]
  },
  {
   "cell_type": "markdown",
   "metadata": {},
   "source": [
    "## MOSFIRE Example"
   ]
  },
  {
   "cell_type": "code",
   "execution_count": 15,
   "metadata": {},
   "outputs": [],
   "source": [
    "from keckODL.target import Target, TargetList\n",
    "from keckODL.mosfire import MOSFIREConfig, MOSFIREDetectorConfig, long2pos, ABBA\n",
    "from keckODL.offset import Stare\n",
    "from keckODL.block import ObservingBlock, ObservingBlockList"
   ]
  },
  {
   "cell_type": "code",
   "execution_count": 16,
   "metadata": {},
   "outputs": [],
   "source": [
    "v1647Ori = Target('V1647 Ori', rotmode='PA', PA=22.5,\n",
    "                  objecttype='science',\n",
    "                  acquisition='blind')"
   ]
  },
  {
   "cell_type": "code",
   "execution_count": 17,
   "metadata": {},
   "outputs": [
    {
     "name": "stdout",
     "output_type": "stream",
     "text": [
      "MOSFIRE 180s (MCDS16, 1 coadds) x1\n",
      "MOSFIRE 120s (MCDS16, 1 coadds) x1\n"
     ]
    }
   ],
   "source": [
    "# For MOSFIRE we leave nexp=1 in the detector configs because we only\n",
    "# want one exposure at each point in the dither pattern.\n",
    "mosfire_180s = MOSFIREDetectorConfig(exptime=180, readoutmode='MCDS16', coadds=1)\n",
    "mosfire_120s = MOSFIREDetectorConfig(exptime=120, readoutmode='MCDS16', coadds=1)\n",
    "print(mosfire_180s)\n",
    "print(mosfire_120s)"
   ]
  },
  {
   "cell_type": "code",
   "execution_count": 18,
   "metadata": {},
   "outputs": [
    {
     "name": "stdout",
     "output_type": "stream",
     "text": [
      "my_MOS_mask Y-spectroscopy\n",
      "my_MOS_mask J-spectroscopy\n",
      "my_MOS_mask H-spectroscopy\n",
      "my_MOS_mask K-spectroscopy\n"
     ]
    }
   ],
   "source": [
    "# instrument configs\n",
    "mosfire_Y = MOSFIREConfig(mode='spectroscopy', filter='Y', mask='my_MOS_mask')\n",
    "mosfire_J = MOSFIREConfig(mode='spectroscopy', filter='J', mask='my_MOS_mask')\n",
    "mosfire_H = MOSFIREConfig(mode='spectroscopy', filter='H', mask='my_MOS_mask')\n",
    "mosfire_K = MOSFIREConfig(mode='spectroscopy', filter='K', mask='my_MOS_mask')\n",
    "print(mosfire_Y)\n",
    "print(mosfire_J)\n",
    "print(mosfire_H)\n",
    "print(mosfire_K)"
   ]
  },
  {
   "cell_type": "code",
   "execution_count": 19,
   "metadata": {},
   "outputs": [
    {
     "name": "stdout",
     "output_type": "stream",
     "text": [
      "ABBA (1.25 arcsec) x5\n",
      "ABBA (1.25 arcsec) x8\n"
     ]
    }
   ],
   "source": [
    "abba5 = ABBA(offset=1.25*u.arcsec, repeat=5)\n",
    "print(abba5)\n",
    "abba8 = ABBA(offset=1.25*u.arcsec, repeat=8)\n",
    "print(abba8)"
   ]
  },
  {
   "cell_type": "code",
   "execution_count": 20,
   "metadata": {},
   "outputs": [
    {
     "data": {
      "text/plain": [
       "Frame: MOSFIRE Slit (INSTXOFF INSTYOFF)\n",
       "Repeats: 5\n",
       " dx(\")| dy(\")| dr(deg)|    name|guide?\n",
       "------|------|--------|--------|------\n",
       "  +0.0|  +1.2|    +0.0|       A|  True\n",
       "  +0.0|  -1.2|    +0.0|       B|  True\n",
       "  +0.0|  -1.2|    +0.0|       B|  True\n",
       "  +0.0|  +1.2|    +0.0|       A|  True"
      ]
     },
     "execution_count": 20,
     "metadata": {},
     "output_type": "execute_result"
    }
   ],
   "source": [
    "abba5"
   ]
  },
  {
   "cell_type": "code",
   "execution_count": 21,
   "metadata": {},
   "outputs": [
    {
     "name": "stdout",
     "output_type": "stream",
     "text": [
      "Executing offset: 0\n",
      "'INSTXOFF'.write(0.0, rel2base=t)\n",
      "'INSTYOFF'.write(1.25, rel2base=t)\n",
      "Executing offset: 1\n",
      "'INSTXOFF'.write(0.0, rel2base=t)\n",
      "'INSTYOFF'.write(-1.25, rel2base=t)\n",
      "Executing offset: 2\n",
      "'INSTXOFF'.write(0.0, rel2base=t)\n",
      "'INSTYOFF'.write(-1.25, rel2base=t)\n",
      "Executing offset: 3\n",
      "'INSTXOFF'.write(0.0, rel2base=t)\n",
      "'INSTYOFF'.write(1.25, rel2base=t)\n"
     ]
    }
   ],
   "source": [
    "for i,offset in enumerate(abba5):\n",
    "    print(f'Executing offset: {i}')\n",
    "    offset.execute()"
   ]
  },
  {
   "cell_type": "code",
   "execution_count": 22,
   "metadata": {},
   "outputs": [
    {
     "name": "stdout",
     "output_type": "stream",
     "text": [
      "Target         |Pattern               |DetectorConfig                      |InstrumentConfig                             \n",
      "---------------|----------------------|------------------------------------|---------------------------------------------\n",
      "V1647 Ori      |ABBA (1.25 arcsec) x5 |MOSFIRE 180s (MCDS16, 1 coadds) x1  |my_MOS_mask Y-spectroscopy                   \n",
      "V1647 Ori      |ABBA (1.25 arcsec) x8 |MOSFIRE 120s (MCDS16, 1 coadds) x1  |my_MOS_mask J-spectroscopy                   \n",
      "V1647 Ori      |ABBA (1.25 arcsec) x8 |MOSFIRE 120s (MCDS16, 1 coadds) x1  |my_MOS_mask H-spectroscopy                   \n",
      "V1647 Ori      |ABBA (1.25 arcsec) x5 |MOSFIRE 180s (MCDS16, 1 coadds) x1  |my_MOS_mask K-spectroscopy                   \n"
     ]
    }
   ],
   "source": [
    "myOBs = ObservingBlockList([ObservingBlock(target=v1647Ori, pattern=abba5, detconfig=mosfire_180s, instconfig=mosfire_Y),\n",
    "                            ObservingBlock(target=v1647Ori, pattern=abba8, detconfig=mosfire_120s, instconfig=mosfire_J),\n",
    "                            ObservingBlock(target=v1647Ori, pattern=abba8, detconfig=mosfire_120s, instconfig=mosfire_H),\n",
    "                            ObservingBlock(target=v1647Ori, pattern=abba5, detconfig=mosfire_180s, instconfig=mosfire_K),\n",
    "                           ])\n",
    "print(myOBs)"
   ]
  },
  {
   "cell_type": "code",
   "execution_count": 23,
   "metadata": {},
   "outputs": [
    {
     "name": "stdout",
     "output_type": "stream",
     "text": [
      "Shutter Open Time: 14880 s (4.1 hrs)\n",
      "Wall Clock Time: 14880 s (4.1 hrs)\n"
     ]
    }
   ],
   "source": [
    "myOBs.estimate_time()"
   ]
  },
  {
   "cell_type": "code",
   "execution_count": 24,
   "metadata": {},
   "outputs": [
    {
     "name": "stdout",
     "output_type": "stream",
     "text": [
      "Target         |Pattern               |DetectorConfig                      |InstrumentConfig                             \n",
      "---------------|----------------------|------------------------------------|---------------------------------------------\n",
      "DomeFlats      |Stare x7              |MOSFIRE 11s (CDS, 1 coadds) x1      |my_MOS_mask Y-spectroscopy domeflatlamp=True \n",
      "DomeFlats      |Stare x7              |MOSFIRE 11s (CDS, 1 coadds) x1      |my_MOS_mask J-spectroscopy domeflatlamp=True \n",
      "DomeFlats      |Stare x7              |MOSFIRE 11s (CDS, 1 coadds) x1      |my_MOS_mask H-spectroscopy domeflatlamp=True \n",
      "DomeFlats      |Stare x7              |MOSFIRE 11s (CDS, 1 coadds) x1      |my_MOS_mask K-spectroscopy domeflatlamp=True \n",
      "DomeFlats      |Stare x7              |MOSFIRE 11s (CDS, 1 coadds) x1      |my_MOS_mask K-spectroscopy domeflatlamp=False\n",
      "None           |Stare x2              |MOSFIRE 1s (CDS, 1 coadds) x1       |my_MOS_mask K-spectroscopy arclamp=Ne        \n",
      "None           |Stare x2              |MOSFIRE 1s (CDS, 1 coadds) x1       |my_MOS_mask K-spectroscopy arclamp=Ar        \n"
     ]
    }
   ],
   "source": [
    "cals_I_need = mosfire_Y.cals()\n",
    "cals_I_need.extend( mosfire_J.cals() )\n",
    "cals_I_need.extend( mosfire_H.cals() )\n",
    "cals_I_need.extend( mosfire_K.cals() )\n",
    "print(cals_I_need)"
   ]
  },
  {
   "cell_type": "code",
   "execution_count": 25,
   "metadata": {},
   "outputs": [
    {
     "name": "stdout",
     "output_type": "stream",
     "text": [
      "Shutter Open Time: 389 s (0.1 hrs)\n",
      "Wall Clock Time: 389 s (0.1 hrs)\n"
     ]
    }
   ],
   "source": [
    "cals_I_need.estimate_time()"
   ]
  },
  {
   "cell_type": "markdown",
   "metadata": {},
   "source": [
    "## MOSFIRE Example 2"
   ]
  },
  {
   "cell_type": "code",
   "execution_count": 26,
   "metadata": {},
   "outputs": [
    {
     "name": "stdout",
     "output_type": "stream",
     "text": [
      "longslit_3x0.7 Y-spectroscopy\n",
      "longslit_3x0.7 J-spectroscopy\n",
      "long2pos H-spectroscopy\n",
      "long2pos K-spectroscopy\n"
     ]
    }
   ],
   "source": [
    "singleobj_Y = MOSFIREConfig(mode='spectroscopy', filter='Y', mask='longslit_3x0.7')\n",
    "singleobj_J = MOSFIREConfig(mode='spectroscopy', filter='J', mask='longslit_3x0.7')\n",
    "singleobj_H = MOSFIREConfig(mode='spectroscopy', filter='H', mask='long2pos')\n",
    "singleobj_K = MOSFIREConfig(mode='spectroscopy', filter='K', mask='long2pos')\n",
    "print(singleobj_Y)\n",
    "print(singleobj_J)\n",
    "print(singleobj_H)\n",
    "print(singleobj_K)"
   ]
  },
  {
   "cell_type": "code",
   "execution_count": 27,
   "metadata": {},
   "outputs": [
    {
     "name": "stdout",
     "output_type": "stream",
     "text": [
      "ABBA (1.25 arcsec) x2\n",
      "long2pos x2\n"
     ]
    }
   ],
   "source": [
    "abba2 = ABBA(offset=1.25*u.arcsec, repeat=2)\n",
    "print(abba2)\n",
    "long2pos_pattern = long2pos(repeat=2)\n",
    "print(long2pos_pattern)"
   ]
  },
  {
   "cell_type": "code",
   "execution_count": 28,
   "metadata": {},
   "outputs": [
    {
     "data": {
      "text/plain": [
       "Frame: MOSFIRE Detector (INSTXOFF INSTYOFF)\n",
       "Repeats: 2\n",
       " dx(\")| dy(\")| dr(deg)|    name|guide?\n",
       "------|------|--------|--------|------\n",
       " +45.0| -23.0|    +0.0|       A|  True\n",
       " +45.0|  -9.0|    +0.0|       B|  True\n",
       " -45.0|  +9.0|    +0.0|       A|  True\n",
       " -45.0| +23.0|    +0.0|       B|  True"
      ]
     },
     "execution_count": 28,
     "metadata": {},
     "output_type": "execute_result"
    }
   ],
   "source": [
    "long2pos_pattern"
   ]
  },
  {
   "cell_type": "code",
   "execution_count": 29,
   "metadata": {},
   "outputs": [
    {
     "name": "stdout",
     "output_type": "stream",
     "text": [
      "'INSTXOFF'.write(45.0, rel2base=t)\n",
      "'INSTYOFF'.write(-23.0, rel2base=t)\n"
     ]
    }
   ],
   "source": [
    "long2pos_pattern[0].execute()"
   ]
  },
  {
   "cell_type": "code",
   "execution_count": 30,
   "metadata": {},
   "outputs": [
    {
     "name": "stdout",
     "output_type": "stream",
     "text": [
      "Target         |Pattern               |DetectorConfig                      |InstrumentConfig                             \n",
      "---------------|----------------------|------------------------------------|---------------------------------------------\n",
      "V1647 Ori      |ABBA (1.25 arcsec) x2 |MOSFIRE 180s (MCDS16, 1 coadds) x1  |longslit_3x0.7 Y-spectroscopy                \n",
      "V1647 Ori      |ABBA (1.25 arcsec) x2 |MOSFIRE 120s (MCDS16, 1 coadds) x1  |longslit_3x0.7 J-spectroscopy                \n",
      "V1647 Ori      |long2pos x2           |MOSFIRE 120s (MCDS16, 1 coadds) x1  |long2pos H-spectroscopy                      \n",
      "V1647 Ori      |long2pos x2           |MOSFIRE 180s (MCDS16, 1 coadds) x1  |long2pos K-spectroscopy                      \n"
     ]
    }
   ],
   "source": [
    "myOBs2 = ObservingBlockList([ObservingBlock(target=v1647Ori, pattern=abba2, detconfig=mosfire_180s, instconfig=singleobj_Y),\n",
    "                             ObservingBlock(target=v1647Ori, pattern=abba2, detconfig=mosfire_120s, instconfig=singleobj_J),\n",
    "                             ObservingBlock(target=v1647Ori, pattern=long2pos_pattern, detconfig=mosfire_120s, instconfig=singleobj_H),\n",
    "                             ObservingBlock(target=v1647Ori, pattern=long2pos_pattern, detconfig=mosfire_180s, instconfig=singleobj_K),\n",
    "                            ])\n",
    "print(myOBs2)"
   ]
  },
  {
   "cell_type": "code",
   "execution_count": 31,
   "metadata": {},
   "outputs": [
    {
     "name": "stdout",
     "output_type": "stream",
     "text": [
      "Shutter Open Time: 4800 s (1.3 hrs)\n",
      "Wall Clock Time: 4800 s (1.3 hrs)\n"
     ]
    }
   ],
   "source": [
    "myOBs2.estimate_time()"
   ]
  },
  {
   "cell_type": "code",
   "execution_count": 32,
   "metadata": {},
   "outputs": [
    {
     "name": "stdout",
     "output_type": "stream",
     "text": [
      "Target         |Pattern               |DetectorConfig                      |InstrumentConfig                             \n",
      "---------------|----------------------|------------------------------------|---------------------------------------------\n",
      "DomeFlats      |Stare x7              |MOSFIRE 11s (CDS, 1 coadds) x1      |longslit_3x0.7 Y-spectroscopy domeflatlamp=True\n",
      "DomeFlats      |Stare x7              |MOSFIRE 11s (CDS, 1 coadds) x1      |longslit_3x0.7 J-spectroscopy domeflatlamp=True\n",
      "DomeFlats      |Stare x7              |MOSFIRE 11s (CDS, 1 coadds) x1      |long2pos H-spectroscopy domeflatlamp=True    \n",
      "DomeFlats      |Stare x7              |MOSFIRE 11s (CDS, 1 coadds) x1      |long2pos K-spectroscopy domeflatlamp=True    \n",
      "DomeFlats      |Stare x7              |MOSFIRE 11s (CDS, 1 coadds) x1      |long2pos K-spectroscopy domeflatlamp=False   \n",
      "None           |Stare x2              |MOSFIRE 1s (CDS, 1 coadds) x1       |long2pos K-spectroscopy arclamp=Ne           \n",
      "None           |Stare x2              |MOSFIRE 1s (CDS, 1 coadds) x1       |long2pos K-spectroscopy arclamp=Ar           \n"
     ]
    }
   ],
   "source": [
    "cals_I_need = singleobj_Y.cals()\n",
    "cals_I_need.extend(singleobj_J.cals())\n",
    "cals_I_need.extend(singleobj_H.cals())\n",
    "cals_I_need.extend(singleobj_K.cals())\n",
    "print(cals_I_need)"
   ]
  },
  {
   "cell_type": "code",
   "execution_count": 33,
   "metadata": {},
   "outputs": [
    {
     "name": "stdout",
     "output_type": "stream",
     "text": [
      "Shutter Open Time: 389 s (0.1 hrs)\n",
      "Wall Clock Time: 389 s (0.1 hrs)\n"
     ]
    }
   ],
   "source": [
    "cals_I_need.estimate_time()"
   ]
  },
  {
   "cell_type": "markdown",
   "metadata": {},
   "source": [
    "# MOSFIRE Night Example"
   ]
  },
  {
   "cell_type": "code",
   "execution_count": 34,
   "metadata": {},
   "outputs": [
    {
     "name": "stdout",
     "output_type": "stream",
     "text": [
      "Target         |Pattern               |DetectorConfig                      |InstrumentConfig                             \n",
      "---------------|----------------------|------------------------------------|---------------------------------------------\n",
      "NGC1333        |ABBA (1.25 arcsec) x2 |MOSFIRE 180s (MCDS16, 1 coadds) x1  |longslit_3x0.7 Y-spectroscopy                \n",
      "NGC1333        |ABBA (1.25 arcsec) x2 |MOSFIRE 120s (MCDS16, 1 coadds) x1  |longslit_3x0.7 J-spectroscopy                \n",
      "NGC1333        |long2pos x2           |MOSFIRE 120s (MCDS16, 1 coadds) x1  |long2pos H-spectroscopy                      \n",
      "NGC1333        |long2pos x2           |MOSFIRE 180s (MCDS16, 1 coadds) x1  |long2pos K-spectroscopy                      \n"
     ]
    }
   ],
   "source": [
    "myOBs3 = ObservingBlockList([ObservingBlock(target=ngc1333, pattern=abba2, detconfig=mosfire_180s, instconfig=singleobj_Y),\n",
    "                             ObservingBlock(target=ngc1333, pattern=abba2, detconfig=mosfire_120s, instconfig=singleobj_J),\n",
    "                             ObservingBlock(target=ngc1333, pattern=long2pos_pattern, detconfig=mosfire_120s, instconfig=singleobj_H),\n",
    "                             ObservingBlock(target=ngc1333, pattern=long2pos_pattern, detconfig=mosfire_180s, instconfig=singleobj_K),\n",
    "                            ])\n",
    "print(myOBs3)"
   ]
  },
  {
   "cell_type": "code",
   "execution_count": 35,
   "metadata": {},
   "outputs": [],
   "source": [
    "myOBs.extend(myOBs2)\n",
    "myOBs.extend(myOBs3)"
   ]
  },
  {
   "cell_type": "code",
   "execution_count": 36,
   "metadata": {},
   "outputs": [
    {
     "data": {
      "text/plain": [
       "Target         |Pattern               |DetectorConfig                      |InstrumentConfig                             \n",
       "---------------|----------------------|------------------------------------|---------------------------------------------\n",
       "V1647 Ori      |ABBA (1.25 arcsec) x5 |MOSFIRE 180s (MCDS16, 1 coadds) x1  |my_MOS_mask Y-spectroscopy                   \n",
       "V1647 Ori      |ABBA (1.25 arcsec) x8 |MOSFIRE 120s (MCDS16, 1 coadds) x1  |my_MOS_mask J-spectroscopy                   \n",
       "V1647 Ori      |ABBA (1.25 arcsec) x8 |MOSFIRE 120s (MCDS16, 1 coadds) x1  |my_MOS_mask H-spectroscopy                   \n",
       "V1647 Ori      |ABBA (1.25 arcsec) x5 |MOSFIRE 180s (MCDS16, 1 coadds) x1  |my_MOS_mask K-spectroscopy                   \n",
       "V1647 Ori      |ABBA (1.25 arcsec) x2 |MOSFIRE 180s (MCDS16, 1 coadds) x1  |longslit_3x0.7 Y-spectroscopy                \n",
       "V1647 Ori      |ABBA (1.25 arcsec) x2 |MOSFIRE 120s (MCDS16, 1 coadds) x1  |longslit_3x0.7 J-spectroscopy                \n",
       "V1647 Ori      |long2pos x2           |MOSFIRE 120s (MCDS16, 1 coadds) x1  |long2pos H-spectroscopy                      \n",
       "V1647 Ori      |long2pos x2           |MOSFIRE 180s (MCDS16, 1 coadds) x1  |long2pos K-spectroscopy                      \n",
       "NGC1333        |ABBA (1.25 arcsec) x2 |MOSFIRE 180s (MCDS16, 1 coadds) x1  |longslit_3x0.7 Y-spectroscopy                \n",
       "NGC1333        |ABBA (1.25 arcsec) x2 |MOSFIRE 120s (MCDS16, 1 coadds) x1  |longslit_3x0.7 J-spectroscopy                \n",
       "NGC1333        |long2pos x2           |MOSFIRE 120s (MCDS16, 1 coadds) x1  |long2pos H-spectroscopy                      \n",
       "NGC1333        |long2pos x2           |MOSFIRE 180s (MCDS16, 1 coadds) x1  |long2pos K-spectroscopy                      "
      ]
     },
     "execution_count": 36,
     "metadata": {},
     "output_type": "execute_result"
    }
   ],
   "source": [
    "myOBs"
   ]
  },
  {
   "cell_type": "code",
   "execution_count": 37,
   "metadata": {},
   "outputs": [
    {
     "data": {
      "text/plain": [
       "Target         |Pattern               |DetectorConfig                      |InstrumentConfig                             \n",
       "---------------|----------------------|------------------------------------|---------------------------------------------\n",
       "DomeFlats      |Stare x7              |MOSFIRE 11s (CDS, 1 coadds) x1      |my_MOS_mask K-spectroscopy domeflatlamp=True \n",
       "DomeFlats      |Stare x7              |MOSFIRE 11s (CDS, 1 coadds) x1      |my_MOS_mask K-spectroscopy domeflatlamp=False\n",
       "None           |Stare x2              |MOSFIRE 1s (CDS, 1 coadds) x1       |my_MOS_mask K-spectroscopy arclamp=Ne        \n",
       "None           |Stare x2              |MOSFIRE 1s (CDS, 1 coadds) x1       |my_MOS_mask K-spectroscopy arclamp=Ar        \n",
       "DomeFlats      |Stare x7              |MOSFIRE 11s (CDS, 1 coadds) x1      |long2pos H-spectroscopy domeflatlamp=True    \n",
       "DomeFlats      |Stare x7              |MOSFIRE 11s (CDS, 1 coadds) x1      |longslit_3x0.7 J-spectroscopy domeflatlamp=True\n",
       "DomeFlats      |Stare x7              |MOSFIRE 11s (CDS, 1 coadds) x1      |long2pos K-spectroscopy domeflatlamp=True    \n",
       "DomeFlats      |Stare x7              |MOSFIRE 11s (CDS, 1 coadds) x1      |long2pos K-spectroscopy domeflatlamp=False   \n",
       "None           |Stare x2              |MOSFIRE 1s (CDS, 1 coadds) x1       |long2pos K-spectroscopy arclamp=Ne           \n",
       "None           |Stare x2              |MOSFIRE 1s (CDS, 1 coadds) x1       |long2pos K-spectroscopy arclamp=Ar           \n",
       "DomeFlats      |Stare x7              |MOSFIRE 11s (CDS, 1 coadds) x1      |my_MOS_mask J-spectroscopy domeflatlamp=True \n",
       "DomeFlats      |Stare x7              |MOSFIRE 11s (CDS, 1 coadds) x1      |my_MOS_mask Y-spectroscopy domeflatlamp=True \n",
       "DomeFlats      |Stare x7              |MOSFIRE 11s (CDS, 1 coadds) x1      |longslit_3x0.7 Y-spectroscopy domeflatlamp=True\n",
       "DomeFlats      |Stare x7              |MOSFIRE 11s (CDS, 1 coadds) x1      |my_MOS_mask H-spectroscopy domeflatlamp=True "
      ]
     },
     "execution_count": 37,
     "metadata": {},
     "output_type": "execute_result"
    }
   ],
   "source": [
    "myOBs.cals()"
   ]
  },
  {
   "cell_type": "code",
   "execution_count": null,
   "metadata": {},
   "outputs": [],
   "source": []
  }
 ],
 "metadata": {
  "kernelspec": {
   "display_name": "Python 3",
   "language": "python",
   "name": "python3"
  },
  "language_info": {
   "codemirror_mode": {
    "name": "ipython",
    "version": 3
   },
   "file_extension": ".py",
   "mimetype": "text/x-python",
   "name": "python",
   "nbconvert_exporter": "python",
   "pygments_lexer": "ipython3",
   "version": "3.7.6"
  }
 },
 "nbformat": 4,
 "nbformat_minor": 4
}
