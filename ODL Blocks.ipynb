{
 "cells": [
  {
   "cell_type": "markdown",
   "metadata": {},
   "source": [
    "# Observing Blocks"
   ]
  },
  {
   "cell_type": "code",
   "execution_count": 1,
   "metadata": {},
   "outputs": [],
   "source": [
    "from keckODL.target import Target, TargetList\n",
    "from keckODL.kcwi import KCWIblueDetectorConfig, KCWIredDetectorConfig, KCWIConfig, mira\n",
    "from keckODL.offset import Stare, StarSkyStar, SkyStar\n",
    "from keckODL.block import ObservingBlockList, ScienceBlock, StandardStarBlock\n",
    "from keckODL.alignment import BlindAlign, GuiderAlign, MaskAlign\n",
    "from keckODL import upload_to_DB\n",
    "\n",
    "from astropy import units as u"
   ]
  },
  {
   "cell_type": "markdown",
   "metadata": {},
   "source": [
    "# KCWI + KCRM Example"
   ]
  },
  {
   "cell_type": "code",
   "execution_count": 2,
   "metadata": {},
   "outputs": [],
   "source": [
    "ngc1333 = Target('NGC1333', rotmode='PA', PA=22.5,\n",
    "                 objecttype='science')"
   ]
  },
  {
   "cell_type": "code",
   "execution_count": 3,
   "metadata": {},
   "outputs": [],
   "source": [
    "# Let's set up detector configurations for the red and blue arm\n",
    "# For the blue side we'll take a single 1800s exposure\n",
    "# For the red side, we'll do two 900s exposures\n",
    "kcwib_1800s = KCWIblueDetectorConfig(exptime=1800, nexp=1, binning='2x2', readoutmode=0, ampmode=9)\n",
    "kcwir_1800s = KCWIredDetectorConfig(exptime=900, nexp=2, binning='2x2', readoutmode=0, ampmode=9)\n",
    "kcwib_1800s.write('detector_KCWIb_1800s.txt')\n",
    "kcwir_1800s.write('detector_KCWIr_1800s.txt')"
   ]
  },
  {
   "cell_type": "code",
   "execution_count": 4,
   "metadata": {},
   "outputs": [
    {
     "data": {
      "text/plain": [
       "1853"
      ]
     },
     "execution_count": 4,
     "metadata": {},
     "output_type": "execute_result"
    }
   ],
   "source": [
    "# How long will the blue side exposure take with overheads?\n",
    "kcwib_1800s.estimate_clock_time()"
   ]
  },
  {
   "cell_type": "code",
   "execution_count": 5,
   "metadata": {},
   "outputs": [
    {
     "data": {
      "text/plain": [
       "1800"
      ]
     },
     "execution_count": 5,
     "metadata": {},
     "output_type": "execute_result"
    }
   ],
   "source": [
    "# How long will the red side exposure take with overheads?\n",
    "kcwir_1800s.estimate_clock_time()"
   ]
  },
  {
   "cell_type": "code",
   "execution_count": 6,
   "metadata": {},
   "outputs": [
    {
     "data": {
      "text/plain": [
       "926.5"
      ]
     },
     "execution_count": 6,
     "metadata": {},
     "output_type": "execute_result"
    }
   ],
   "source": [
    "# Let's ask the red side to adjust the exposure time to \n",
    "# match the time it takes for the blue side to finish\n",
    "kcwir_1800s.match_time(kcwib_1800s.estimate_clock_time())\n",
    "kcwir_1800s.exptime"
   ]
  },
  {
   "cell_type": "code",
   "execution_count": 7,
   "metadata": {},
   "outputs": [
    {
     "data": {
      "text/plain": [
       "1853.0"
      ]
     },
     "execution_count": 7,
     "metadata": {},
     "output_type": "execute_result"
    }
   ],
   "source": [
    "# Now the red side will finish at the same time the blue side does\n",
    "kcwir_1800s.estimate_clock_time()"
   ]
  },
  {
   "cell_type": "code",
   "execution_count": 8,
   "metadata": {},
   "outputs": [],
   "source": [
    "feige110 = Target('Feige110',\n",
    "                  objecttype='flux standard')"
   ]
  },
  {
   "cell_type": "code",
   "execution_count": 9,
   "metadata": {},
   "outputs": [],
   "source": [
    "kcwib_10s = KCWIblueDetectorConfig(exptime=10, nexp=1, binning='2x2', readoutmode=0, ampmode=9)\n",
    "kcwir_10s = KCWIredDetectorConfig(exptime=10, nexp=1, binning='2x2', readoutmode=0, ampmode=9)"
   ]
  },
  {
   "cell_type": "code",
   "execution_count": 10,
   "metadata": {},
   "outputs": [],
   "source": [
    "stare = Stare()"
   ]
  },
  {
   "cell_type": "code",
   "execution_count": 11,
   "metadata": {},
   "outputs": [
    {
     "data": {
      "text/plain": [
       "medium BH3 4800 A"
      ]
     },
     "execution_count": 11,
     "metadata": {},
     "output_type": "execute_result"
    }
   ],
   "source": [
    "med_slicer_b4800_r6500 = KCWIConfig(slicer='medium', bluegrating='BH3', bluecwave=4800,\n",
    "                                    redgrating='RH3', redcwave=6563)\n",
    "med_slicer_b4800_r6500.write('instrument_KCWI_medslicer_red_blue.txt')\n",
    "med_slicer_b4800_r6500"
   ]
  },
  {
   "cell_type": "code",
   "execution_count": 12,
   "metadata": {},
   "outputs": [],
   "source": [
    "skyoffset = StarSkyStar(dx=60*u.arcsec, dy=30*u.arcsec, repeat=3)\n",
    "skyoffset.write('offset_customStarSkyStar.txt')"
   ]
  },
  {
   "cell_type": "code",
   "execution_count": 13,
   "metadata": {},
   "outputs": [],
   "source": [
    "sci1 = ScienceBlock(target=ngc1333, pattern=skyoffset,\n",
    "                    instconfig=med_slicer_b4800_r6500,\n",
    "                    detconfig=(kcwib_1800s, kcwir_1800s),\n",
    "                    align=BlindAlign(),\n",
    "                   )\n",
    "std1 = StandardStarBlock(target=feige110, pattern=stare,\n",
    "                         instconfig=med_slicer_b4800_r6500,\n",
    "                         detconfig=(kcwib_10s, kcwir_10s),\n",
    "                         align=BlindAlign(),\n",
    "                        )"
   ]
  },
  {
   "cell_type": "code",
   "execution_count": 14,
   "metadata": {},
   "outputs": [
    {
     "data": {
      "text/plain": [
       "Target         |Pattern               |InstrumentConfig                             |DetectorConfig                      |AlignmentMethod     \n",
       "---------------|----------------------|---------------------------------------------|------------------------------------|--------------------\n",
       "None           |PMFM +/-350 x1        |FPC                                          |[KCWI 5s x1]                        |None                \n",
       "NGC1333        |StarSkyStar (60 30) x3|medium BH3 4800 A                            |(KCWI 1800s x1, KCWI 926s x2)       |Blind Align         \n",
       "Feige110       |Stare x1              |medium BH3 4800 A                            |(KCWI 10s x1, KCWI 10s x1)          |Blind Align         "
      ]
     },
     "execution_count": 14,
     "metadata": {},
     "output_type": "execute_result"
    }
   ],
   "source": [
    "OBlist = ObservingBlockList([mira(), sci1, std1])\n",
    "OBlist"
   ]
  },
  {
   "cell_type": "code",
   "execution_count": 15,
   "metadata": {},
   "outputs": [
    {
     "name": "stdout",
     "output_type": "stream",
     "text": [
      "Unable to connect to Keck DB\n"
     ]
    }
   ],
   "source": [
    "upload_to_DB([skyoffset, ngc1333, med_slicer_b4800_r6500]) # Will fail if not inside Keck network"
   ]
  },
  {
   "cell_type": "code",
   "execution_count": 16,
   "metadata": {},
   "outputs": [
    {
     "name": "stdout",
     "output_type": "stream",
     "text": [
      "Shutter Open Time: 16697.0 s (4.6 hrs)\n",
      "Wall Clock Time: 16750 s (4.7 hrs)\n"
     ]
    }
   ],
   "source": [
    "OBlist.estimate_time()"
   ]
  },
  {
   "cell_type": "code",
   "execution_count": 17,
   "metadata": {},
   "outputs": [
    {
     "data": {
      "text/plain": [
       "Target         |Pattern               |InstrumentConfig                             |DetectorConfig                      |AlignmentMethod     \n",
       "---------------|----------------------|---------------------------------------------|------------------------------------|--------------------\n",
       "None           |Stare x1              |medium BH3 4800 A arclamp=CONT calobj=MedBarsA|[KCWI 6s x1]                        |None                \n",
       "None           |Stare x1              |medium BH3 4800 A arclamp=FEAR calobj=FlatA  |[KCWI 30s x1]                       |None                \n",
       "None           |Stare x1              |medium BH3 4800 A arclamp=THAR calobj=FlatA  |[KCWI 45s x1]                       |None                \n",
       "None           |Stare x1              |medium BH3 4800 A arclamp=CONT calobj=FlatA  |[KCWI 6s x1]                        |None                \n",
       "None           |Stare x7              |medium BH3 4800 A bias                       |[KCWI 0s (Dark) x1]                 |None                \n",
       "DomeFlats      |Stare x3              |medium BH3 4800 A domeflatlamp=True          |[KCWI 100s x1]                      |None                "
      ]
     },
     "execution_count": 17,
     "metadata": {},
     "output_type": "execute_result"
    }
   ],
   "source": [
    "OBlist[2].cals()"
   ]
  },
  {
   "cell_type": "code",
   "execution_count": 18,
   "metadata": {},
   "outputs": [
    {
     "data": {
      "text/plain": [
       "Target         |Pattern               |InstrumentConfig                             |DetectorConfig                      |AlignmentMethod     \n",
       "---------------|----------------------|---------------------------------------------|------------------------------------|--------------------\n",
       "None           |Stare x1              |medium BH3 4800 A arclamp=CONT calobj=MedBarsA|[KCWI 6s x1]                        |None                \n",
       "None           |Stare x1              |medium BH3 4800 A arclamp=FEAR calobj=FlatA  |[KCWI 30s x1]                       |None                \n",
       "None           |Stare x1              |medium BH3 4800 A arclamp=THAR calobj=FlatA  |[KCWI 45s x1]                       |None                \n",
       "None           |Stare x1              |medium BH3 4800 A arclamp=CONT calobj=FlatA  |[KCWI 6s x1]                        |None                \n",
       "None           |Stare x7              |medium BH3 4800 A bias                       |[KCWI 0s (Dark) x1]                 |None                \n",
       "DomeFlats      |Stare x3              |medium BH3 4800 A domeflatlamp=True          |[KCWI 100s x1]                      |None                "
      ]
     },
     "execution_count": 18,
     "metadata": {},
     "output_type": "execute_result"
    }
   ],
   "source": [
    "cals_I_need = OBlist.cals()\n",
    "cals_I_need"
   ]
  },
  {
   "cell_type": "code",
   "execution_count": 19,
   "metadata": {},
   "outputs": [
    {
     "name": "stdout",
     "output_type": "stream",
     "text": [
      "Shutter Open Time: 387 s (0.1 hrs)\n",
      "Wall Clock Time: 2767 s (0.8 hrs)\n"
     ]
    }
   ],
   "source": [
    "cals_I_need.estimate_time()"
   ]
  },
  {
   "cell_type": "markdown",
   "metadata": {},
   "source": [
    "# NIRES SCAM + SVC Example"
   ]
  },
  {
   "cell_type": "code",
   "execution_count": 20,
   "metadata": {},
   "outputs": [],
   "source": [
    "from keckODL.target import Target, TargetList\n",
    "from keckODL.nires import NIRESConfig, NIRESSpecDetectorConfig, NIRESScamDetectorConfig, ABBA, mira\n",
    "from keckODL.offset import Stare\n",
    "from keckODL.block import ObservingBlockList, ScienceBlock\n",
    "from astropy import units as u"
   ]
  },
  {
   "cell_type": "code",
   "execution_count": 21,
   "metadata": {},
   "outputs": [],
   "source": [
    "v1647Ori = Target('V1647 Ori', rotmode='PA', PA=22.5,\n",
    "                  objecttype='science')"
   ]
  },
  {
   "cell_type": "code",
   "execution_count": 22,
   "metadata": {},
   "outputs": [
    {
     "name": "stdout",
     "output_type": "stream",
     "text": [
      "NIRES Spec 300s (MCDS32, 1 coadds) x1\n",
      "NIRES SCAM 10s (CDS, 1 coadds) x6\n"
     ]
    }
   ],
   "source": [
    "spec_300s = NIRESSpecDetectorConfig(exptime=300, readoutmode='MCDS32', coadds=1)\n",
    "scam_10s = NIRESScamDetectorConfig(exptime=10, readoutmode='CDS', coadds=1, nexp=6)\n",
    "spec_300s.write('detector_NIRESspec_300s.txt')\n",
    "scam_10s.write('detector_NIRESscam_6x10s.txt')\n",
    "print(spec_300s)\n",
    "print(scam_10s)"
   ]
  },
  {
   "cell_type": "code",
   "execution_count": 23,
   "metadata": {},
   "outputs": [
    {
     "data": {
      "text/plain": [
       "NIRES Instrument Config"
      ]
     },
     "execution_count": 23,
     "metadata": {},
     "output_type": "execute_result"
    }
   ],
   "source": [
    "# instrument config for NIRES is simple\n",
    "nires_300s = NIRESConfig()\n",
    "nires_300s.write('instrument_NIRES_300s.txt')\n",
    "nires_300s"
   ]
  },
  {
   "cell_type": "code",
   "execution_count": 24,
   "metadata": {},
   "outputs": [
    {
     "name": "stdout",
     "output_type": "stream",
     "text": [
      "ABBA (10.00 arcsec) x5\n"
     ]
    }
   ],
   "source": [
    "abba5 = ABBA(offset=10*u.arcsec, repeat=5)\n",
    "print(abba5)"
   ]
  },
  {
   "cell_type": "code",
   "execution_count": 25,
   "metadata": {},
   "outputs": [
    {
     "name": "stdout",
     "output_type": "stream",
     "text": [
      "Target         |Pattern               |InstrumentConfig                             |DetectorConfig                      |AlignmentMethod     \n",
      "---------------|----------------------|---------------------------------------------|------------------------------------|--------------------\n",
      "None           |PMFM +/-350 x1        |NIRES Instrument Config                      |[NIRES SCAM 2s (CDS, 5 coadds) x1]  |None                \n",
      "V1647 Ori      |ABBA (10.00 arcsec) x5|NIRES Instrument Config                      |[NIRES Spec 300s (MCDS32, 1 coadds) x1, NIRES SCAM 10s (CDS, 1 coadds) x6]|Guider Align, faint \n"
     ]
    }
   ],
   "source": [
    "myOBs = ObservingBlockList([mira(),\n",
    "                            ScienceBlock(target=v1647Ori, pattern=abba5, instconfig=nires_300s, detconfig=[spec_300s, scam_10s], align=GuiderAlign(bright=False)),\n",
    "                           ])\n",
    "print(myOBs)"
   ]
  },
  {
   "cell_type": "code",
   "execution_count": 26,
   "metadata": {},
   "outputs": [
    {
     "name": "stdout",
     "output_type": "stream",
     "text": [
      "Target         |Pattern               |InstrumentConfig                             |DetectorConfig                      |AlignmentMethod     \n",
      "---------------|----------------------|---------------------------------------------|------------------------------------|--------------------\n",
      "None           |Stare x3              |NIRES Instrument Config arclamp              |[NIRES Spec 120s (CDS, 1 coadds) x1]|None                \n",
      "DomeFlats      |Stare x9              |NIRES Instrument Config domelamp=on          |[NIRES Spec 100s (CDS, 1 coadds) x1]|None                \n"
     ]
    }
   ],
   "source": [
    "cals_I_need = myOBs.cals()\n",
    "print(cals_I_need)"
   ]
  },
  {
   "cell_type": "markdown",
   "metadata": {},
   "source": [
    "## MOSFIRE Example"
   ]
  },
  {
   "cell_type": "code",
   "execution_count": 27,
   "metadata": {},
   "outputs": [],
   "source": [
    "from keckODL.target import Target, TargetList\n",
    "from keckODL.mosfire import MOSFIREConfig, MOSFIREDetectorConfig, long2pos, ABBA, mira\n",
    "from keckODL.offset import Stare\n",
    "from keckODL.block import ScienceBlock, ObservingBlockList\n",
    "from astropy import units as u"
   ]
  },
  {
   "cell_type": "code",
   "execution_count": 28,
   "metadata": {},
   "outputs": [],
   "source": [
    "v1647Ori = Target('V1647 Ori', rotmode='PA', PA=22.5,\n",
    "                  objecttype='science')"
   ]
  },
  {
   "cell_type": "code",
   "execution_count": 29,
   "metadata": {},
   "outputs": [
    {
     "name": "stdout",
     "output_type": "stream",
     "text": [
      "MOSFIRE 180s (MCDS16, 1 coadds) x1\n",
      "MOSFIRE 120s (MCDS16, 1 coadds) x1\n"
     ]
    }
   ],
   "source": [
    "# For MOSFIRE we leave nexp=1 in the detector configs because we only\n",
    "# want one exposure at each point in the dither pattern.\n",
    "mosfire_180s = MOSFIREDetectorConfig(exptime=180, readoutmode='MCDS16', coadds=1)\n",
    "mosfire_120s = MOSFIREDetectorConfig(exptime=120, readoutmode='MCDS16', coadds=1)\n",
    "mosfire_180s.write('detector_MOSFIRE_180s.txt')\n",
    "mosfire_120s.write('detector_MOSFIRE_120s.txt')\n",
    "print(mosfire_180s)\n",
    "print(mosfire_120s)"
   ]
  },
  {
   "cell_type": "code",
   "execution_count": 30,
   "metadata": {},
   "outputs": [
    {
     "name": "stdout",
     "output_type": "stream",
     "text": [
      "my_MOS_mask Y-spectroscopy\n",
      "my_MOS_mask J-spectroscopy\n",
      "my_MOS_mask H-spectroscopy\n",
      "my_MOS_mask K-spectroscopy\n"
     ]
    }
   ],
   "source": [
    "# instrument configs\n",
    "mosfire_Y = MOSFIREConfig(mode='spectroscopy', filter='Y', mask='my_MOS_mask')\n",
    "mosfire_J = MOSFIREConfig(mode='spectroscopy', filter='J', mask='my_MOS_mask')\n",
    "mosfire_H = MOSFIREConfig(mode='spectroscopy', filter='H', mask='my_MOS_mask')\n",
    "mosfire_K = MOSFIREConfig(mode='spectroscopy', filter='K', mask='my_MOS_mask')\n",
    "mosfire_Y.write('instrument_MOSFIRE_Y.txt')\n",
    "mosfire_J.write('instrument_MOSFIRE_J.txt')\n",
    "mosfire_H.write('instrument_MOSFIRE_H.txt')\n",
    "mosfire_K.write('instrument_MOSFIRE_K.txt')\n",
    "print(mosfire_Y)\n",
    "print(mosfire_J)\n",
    "print(mosfire_H)\n",
    "print(mosfire_K)"
   ]
  },
  {
   "cell_type": "code",
   "execution_count": 31,
   "metadata": {},
   "outputs": [
    {
     "name": "stdout",
     "output_type": "stream",
     "text": [
      "ABBA (1.25 arcsec) x5\n",
      "ABBA (1.25 arcsec) x8\n"
     ]
    }
   ],
   "source": [
    "abba5 = ABBA(offset=1.25*u.arcsec, repeat=5)\n",
    "print(abba5)\n",
    "abba8 = ABBA(offset=1.25*u.arcsec, repeat=8)\n",
    "print(abba8)"
   ]
  },
  {
   "cell_type": "code",
   "execution_count": 32,
   "metadata": {},
   "outputs": [
    {
     "data": {
      "text/plain": [
       "Frame: MOSFIRE Slit (INSTXOFF INSTYOFF)\n",
       "Repeats: 5\n",
       " dx(\")| dy(\")| dr(deg)|    name|guide?\n",
       "------|------|--------|--------|------\n",
       "  +0.0|  +1.2|    +0.0|       A|  True\n",
       "  +0.0|  -1.2|    +0.0|       B|  True\n",
       "  +0.0|  -1.2|    +0.0|       B|  True\n",
       "  +0.0|  +1.2|    +0.0|       A|  True"
      ]
     },
     "execution_count": 32,
     "metadata": {},
     "output_type": "execute_result"
    }
   ],
   "source": [
    "abba5"
   ]
  },
  {
   "cell_type": "code",
   "execution_count": 33,
   "metadata": {},
   "outputs": [
    {
     "name": "stdout",
     "output_type": "stream",
     "text": [
      "Executing offset: 0\n",
      "'INSTXOFF'.write(0.0, rel2base=t)\n",
      "'INSTYOFF'.write(1.25, rel2base=t)\n",
      "Executing offset: 1\n",
      "'INSTXOFF'.write(0.0, rel2base=t)\n",
      "'INSTYOFF'.write(-1.25, rel2base=t)\n",
      "Executing offset: 2\n",
      "'INSTXOFF'.write(0.0, rel2base=t)\n",
      "'INSTYOFF'.write(-1.25, rel2base=t)\n",
      "Executing offset: 3\n",
      "'INSTXOFF'.write(0.0, rel2base=t)\n",
      "'INSTYOFF'.write(1.25, rel2base=t)\n"
     ]
    }
   ],
   "source": [
    "for i,offset in enumerate(abba5):\n",
    "    print(f'Executing offset: {i}')\n",
    "    offset.execute()"
   ]
  },
  {
   "cell_type": "code",
   "execution_count": 34,
   "metadata": {},
   "outputs": [
    {
     "name": "stdout",
     "output_type": "stream",
     "text": [
      "Target         |Pattern               |InstrumentConfig                             |DetectorConfig                      |AlignmentMethod     \n",
      "---------------|----------------------|---------------------------------------------|------------------------------------|--------------------\n",
      "None           |PMFM +/-350 x1        |Mira J-imaging                               |[MOSFIRE 2s (CDS, 5 coadds) x1]     |None                \n",
      "V1647 Ori      |ABBA (1.25 arcsec) x5 |my_MOS_mask Y-spectroscopy                   |[MOSFIRE 180s (MCDS16, 1 coadds) x1]|Mask Align          \n",
      "V1647 Ori      |ABBA (1.25 arcsec) x8 |my_MOS_mask J-spectroscopy                   |[MOSFIRE 120s (MCDS16, 1 coadds) x1]|None                \n",
      "V1647 Ori      |ABBA (1.25 arcsec) x8 |my_MOS_mask H-spectroscopy                   |[MOSFIRE 120s (MCDS16, 1 coadds) x1]|None                \n",
      "V1647 Ori      |ABBA (1.25 arcsec) x5 |my_MOS_mask K-spectroscopy                   |[MOSFIRE 180s (MCDS16, 1 coadds) x1]|None                \n"
     ]
    }
   ],
   "source": [
    "myOBs = ObservingBlockList([mira(),\n",
    "                            ScienceBlock(target=v1647Ori, pattern=abba5, instconfig=mosfire_Y, detconfig=mosfire_180s, align=MaskAlign()),\n",
    "                            ScienceBlock(target=v1647Ori, pattern=abba8, instconfig=mosfire_J, detconfig=mosfire_120s, align=None),\n",
    "                            ScienceBlock(target=v1647Ori, pattern=abba8, instconfig=mosfire_H, detconfig=mosfire_120s, align=None),\n",
    "                            ScienceBlock(target=v1647Ori, pattern=abba5, instconfig=mosfire_K, detconfig=mosfire_180s, align=None),\n",
    "                           ])\n",
    "print(myOBs)"
   ]
  },
  {
   "cell_type": "code",
   "execution_count": 35,
   "metadata": {},
   "outputs": [
    {
     "name": "stdout",
     "output_type": "stream",
     "text": [
      "Shutter Open Time: 14884 s (4.1 hrs)\n",
      "Wall Clock Time: 14884 s (4.1 hrs)\n"
     ]
    }
   ],
   "source": [
    "myOBs.estimate_time()"
   ]
  },
  {
   "cell_type": "code",
   "execution_count": 36,
   "metadata": {},
   "outputs": [
    {
     "name": "stdout",
     "output_type": "stream",
     "text": [
      "Target         |Pattern               |InstrumentConfig                             |DetectorConfig                      |AlignmentMethod     \n",
      "---------------|----------------------|---------------------------------------------|------------------------------------|--------------------\n",
      "DomeFlats      |Stare x7              |my_MOS_mask Y-spectroscopy domelamp=on       |[MOSFIRE 17s (CDS, 1 coadds) x1]    |None                \n",
      "DomeFlats      |Stare x7              |my_MOS_mask H-spectroscopy domelamp=on       |[MOSFIRE 11s (CDS, 1 coadds) x1]    |None                \n",
      "DomeFlats      |Stare x7              |my_MOS_mask J-spectroscopy domelamp=on       |[MOSFIRE 11s (CDS, 1 coadds) x1]    |None                \n",
      "DomeFlats      |Stare x7              |my_MOS_mask K-spectroscopy domelamp=on       |[MOSFIRE 11s (CDS, 1 coadds) x1]    |None                \n",
      "DomeFlats      |Stare x7              |my_MOS_mask K-spectroscopy domelamp=off      |[MOSFIRE 11s (CDS, 1 coadds) x1]    |None                \n",
      "None           |Stare x2              |my_MOS_mask K-spectroscopy arclamp=Ne        |[MOSFIRE 1s (CDS, 1 coadds) x1]     |None                \n",
      "None           |Stare x2              |my_MOS_mask K-spectroscopy arclamp=Ar        |[MOSFIRE 1s (CDS, 1 coadds) x1]     |None                \n"
     ]
    }
   ],
   "source": [
    "cals_I_need = myOBs.cals()\n",
    "print(cals_I_need)"
   ]
  },
  {
   "cell_type": "code",
   "execution_count": 37,
   "metadata": {},
   "outputs": [
    {
     "name": "stdout",
     "output_type": "stream",
     "text": [
      "Shutter Open Time: 431 s (0.1 hrs)\n",
      "Wall Clock Time: 431 s (0.1 hrs)\n"
     ]
    }
   ],
   "source": [
    "cals_I_need.estimate_time()"
   ]
  },
  {
   "cell_type": "markdown",
   "metadata": {},
   "source": [
    "## MOSFIRE Example 2"
   ]
  },
  {
   "cell_type": "code",
   "execution_count": 38,
   "metadata": {},
   "outputs": [
    {
     "name": "stdout",
     "output_type": "stream",
     "text": [
      "longslit_3x0.7 Y-spectroscopy\n",
      "longslit_3x0.7 J-spectroscopy\n",
      "long2pos H-spectroscopy\n",
      "long2pos K-spectroscopy\n"
     ]
    }
   ],
   "source": [
    "singleobj_Y = MOSFIREConfig(mode='spectroscopy', filter='Y', mask='longslit_3x0.7')\n",
    "singleobj_J = MOSFIREConfig(mode='spectroscopy', filter='J', mask='longslit_3x0.7')\n",
    "singleobj_H = MOSFIREConfig(mode='spectroscopy', filter='H', mask='long2pos')\n",
    "singleobj_K = MOSFIREConfig(mode='spectroscopy', filter='K', mask='long2pos')\n",
    "print(singleobj_Y)\n",
    "print(singleobj_J)\n",
    "print(singleobj_H)\n",
    "print(singleobj_K)"
   ]
  },
  {
   "cell_type": "code",
   "execution_count": 39,
   "metadata": {},
   "outputs": [
    {
     "name": "stdout",
     "output_type": "stream",
     "text": [
      "ABBA (1.25 arcsec) x2\n",
      "long2pos x2\n"
     ]
    }
   ],
   "source": [
    "abba2 = ABBA(offset=1.25*u.arcsec, repeat=2)\n",
    "print(abba2)\n",
    "long2pos_pattern = long2pos(repeat=2)\n",
    "print(long2pos_pattern)"
   ]
  },
  {
   "cell_type": "code",
   "execution_count": 40,
   "metadata": {},
   "outputs": [
    {
     "data": {
      "text/plain": [
       "Frame: MOSFIRE Detector (INSTXOFF INSTYOFF)\n",
       "Repeats: 2\n",
       " dx(\")| dy(\")| dr(deg)|    name|guide?\n",
       "------|------|--------|--------|------\n",
       " +45.0| -23.0|    +0.0|       A|  True\n",
       " +45.0|  -9.0|    +0.0|       B|  True\n",
       " -45.0|  +9.0|    +0.0|       A|  True\n",
       " -45.0| +23.0|    +0.0|       B|  True"
      ]
     },
     "execution_count": 40,
     "metadata": {},
     "output_type": "execute_result"
    }
   ],
   "source": [
    "long2pos_pattern"
   ]
  },
  {
   "cell_type": "code",
   "execution_count": 41,
   "metadata": {},
   "outputs": [
    {
     "name": "stdout",
     "output_type": "stream",
     "text": [
      "'INSTXOFF'.write(45.0, rel2base=t)\n",
      "'INSTYOFF'.write(-23.0, rel2base=t)\n"
     ]
    }
   ],
   "source": [
    "long2pos_pattern[0].execute()"
   ]
  },
  {
   "cell_type": "code",
   "execution_count": 42,
   "metadata": {},
   "outputs": [
    {
     "name": "stdout",
     "output_type": "stream",
     "text": [
      "Target         |Pattern               |InstrumentConfig                             |DetectorConfig                      |AlignmentMethod     \n",
      "---------------|----------------------|---------------------------------------------|------------------------------------|--------------------\n",
      "V1647 Ori      |ABBA (1.25 arcsec) x2 |longslit_3x0.7 Y-spectroscopy                |[MOSFIRE 180s (MCDS16, 1 coadds) x1]|Mask Align          \n",
      "V1647 Ori      |ABBA (1.25 arcsec) x2 |longslit_3x0.7 J-spectroscopy                |[MOSFIRE 120s (MCDS16, 1 coadds) x1]|None                \n",
      "V1647 Ori      |long2pos x2           |long2pos H-spectroscopy                      |[MOSFIRE 120s (MCDS16, 1 coadds) x1]|None                \n",
      "V1647 Ori      |long2pos x2           |long2pos K-spectroscopy                      |[MOSFIRE 180s (MCDS16, 1 coadds) x1]|None                \n"
     ]
    }
   ],
   "source": [
    "myOBs2 = ObservingBlockList([ScienceBlock(target=v1647Ori, detconfig=mosfire_180s, pattern=abba2, instconfig=singleobj_Y, align=MaskAlign()),\n",
    "                             ScienceBlock(target=v1647Ori, detconfig=mosfire_120s, pattern=abba2, instconfig=singleobj_J, align=None),\n",
    "                             ScienceBlock(target=v1647Ori, detconfig=mosfire_120s, pattern=long2pos_pattern, instconfig=singleobj_H, align=None),\n",
    "                             ScienceBlock(target=v1647Ori, detconfig=mosfire_180s, pattern=long2pos_pattern, instconfig=singleobj_K, align=None),\n",
    "                            ])\n",
    "print(myOBs2)"
   ]
  },
  {
   "cell_type": "code",
   "execution_count": 43,
   "metadata": {},
   "outputs": [
    {
     "name": "stdout",
     "output_type": "stream",
     "text": [
      "Shutter Open Time: 4800 s (1.3 hrs)\n",
      "Wall Clock Time: 4800 s (1.3 hrs)\n"
     ]
    }
   ],
   "source": [
    "myOBs2.estimate_time()"
   ]
  },
  {
   "cell_type": "code",
   "execution_count": 44,
   "metadata": {},
   "outputs": [
    {
     "name": "stdout",
     "output_type": "stream",
     "text": [
      "Target         |Pattern               |InstrumentConfig                             |DetectorConfig                      |AlignmentMethod     \n",
      "---------------|----------------------|---------------------------------------------|------------------------------------|--------------------\n",
      "DomeFlats      |Stare x7              |longslit_3x0.7 Y-spectroscopy domelamp=on    |[MOSFIRE 17s (CDS, 1 coadds) x1]    |None                \n",
      "DomeFlats      |Stare x7              |longslit_3x0.7 J-spectroscopy domelamp=on    |[MOSFIRE 11s (CDS, 1 coadds) x1]    |None                \n",
      "DomeFlats      |Stare x7              |long2pos H-spectroscopy domelamp=on          |[MOSFIRE 11s (CDS, 1 coadds) x1]    |None                \n",
      "DomeFlats      |Stare x7              |long2pos K-spectroscopy domelamp=on          |[MOSFIRE 11s (CDS, 1 coadds) x1]    |None                \n",
      "DomeFlats      |Stare x7              |long2pos K-spectroscopy domelamp=off         |[MOSFIRE 11s (CDS, 1 coadds) x1]    |None                \n",
      "None           |Stare x2              |long2pos K-spectroscopy arclamp=Ne           |[MOSFIRE 1s (CDS, 1 coadds) x1]     |None                \n",
      "None           |Stare x2              |long2pos K-spectroscopy arclamp=Ar           |[MOSFIRE 1s (CDS, 1 coadds) x1]     |None                \n"
     ]
    }
   ],
   "source": [
    "cals_I_need = singleobj_Y.cals()\n",
    "cals_I_need.extend(singleobj_J.cals())\n",
    "cals_I_need.extend(singleobj_H.cals())\n",
    "cals_I_need.extend(singleobj_K.cals())\n",
    "print(cals_I_need)"
   ]
  },
  {
   "cell_type": "code",
   "execution_count": 45,
   "metadata": {},
   "outputs": [
    {
     "name": "stdout",
     "output_type": "stream",
     "text": [
      "Shutter Open Time: 431 s (0.1 hrs)\n",
      "Wall Clock Time: 431 s (0.1 hrs)\n"
     ]
    }
   ],
   "source": [
    "cals_I_need.estimate_time()"
   ]
  },
  {
   "cell_type": "markdown",
   "metadata": {},
   "source": [
    "# MOSFIRE Night Example"
   ]
  },
  {
   "cell_type": "code",
   "execution_count": 46,
   "metadata": {},
   "outputs": [
    {
     "name": "stdout",
     "output_type": "stream",
     "text": [
      "Target         |Pattern               |InstrumentConfig                             |DetectorConfig                      |AlignmentMethod     \n",
      "---------------|----------------------|---------------------------------------------|------------------------------------|--------------------\n",
      "NGC1333        |ABBA (1.25 arcsec) x2 |longslit_3x0.7 Y-spectroscopy                |[None]                              |Mask Align          \n",
      "NGC1333        |ABBA (1.25 arcsec) x2 |longslit_3x0.7 J-spectroscopy                |[None]                              |None                \n",
      "NGC1333        |long2pos x2           |long2pos H-spectroscopy                      |[None]                              |None                \n",
      "NGC1333        |long2pos x2           |long2pos K-spectroscopy                      |[None]                              |None                \n"
     ]
    }
   ],
   "source": [
    "myOBs3 = ObservingBlockList([ScienceBlock(target=ngc1333, pattern=abba2, instconfig=singleobj_Y, align=MaskAlign()),\n",
    "                             ScienceBlock(target=ngc1333, pattern=abba2, instconfig=singleobj_J, align=None),\n",
    "                             ScienceBlock(target=ngc1333, pattern=long2pos_pattern, instconfig=singleobj_H, align=None),\n",
    "                             ScienceBlock(target=ngc1333, pattern=long2pos_pattern, instconfig=singleobj_K, align=None),\n",
    "                            ])\n",
    "print(myOBs3)"
   ]
  },
  {
   "cell_type": "code",
   "execution_count": 47,
   "metadata": {},
   "outputs": [],
   "source": [
    "myOBs.extend(myOBs3)"
   ]
  },
  {
   "cell_type": "code",
   "execution_count": 48,
   "metadata": {},
   "outputs": [
    {
     "data": {
      "text/plain": [
       "Target         |Pattern               |InstrumentConfig                             |DetectorConfig                      |AlignmentMethod     \n",
       "---------------|----------------------|---------------------------------------------|------------------------------------|--------------------\n",
       "None           |PMFM +/-350 x1        |Mira J-imaging                               |[MOSFIRE 2s (CDS, 5 coadds) x1]     |None                \n",
       "V1647 Ori      |ABBA (1.25 arcsec) x5 |my_MOS_mask Y-spectroscopy                   |[MOSFIRE 180s (MCDS16, 1 coadds) x1]|Mask Align          \n",
       "V1647 Ori      |ABBA (1.25 arcsec) x8 |my_MOS_mask J-spectroscopy                   |[MOSFIRE 120s (MCDS16, 1 coadds) x1]|None                \n",
       "V1647 Ori      |ABBA (1.25 arcsec) x8 |my_MOS_mask H-spectroscopy                   |[MOSFIRE 120s (MCDS16, 1 coadds) x1]|None                \n",
       "V1647 Ori      |ABBA (1.25 arcsec) x5 |my_MOS_mask K-spectroscopy                   |[MOSFIRE 180s (MCDS16, 1 coadds) x1]|None                \n",
       "NGC1333        |ABBA (1.25 arcsec) x2 |longslit_3x0.7 Y-spectroscopy                |[None]                              |Mask Align          \n",
       "NGC1333        |ABBA (1.25 arcsec) x2 |longslit_3x0.7 J-spectroscopy                |[None]                              |None                \n",
       "NGC1333        |long2pos x2           |long2pos H-spectroscopy                      |[None]                              |None                \n",
       "NGC1333        |long2pos x2           |long2pos K-spectroscopy                      |[None]                              |None                "
      ]
     },
     "execution_count": 48,
     "metadata": {},
     "output_type": "execute_result"
    }
   ],
   "source": [
    "myOBs"
   ]
  },
  {
   "cell_type": "code",
   "execution_count": 49,
   "metadata": {},
   "outputs": [
    {
     "data": {
      "text/plain": [
       "Target         |Pattern               |InstrumentConfig                             |DetectorConfig                      |AlignmentMethod     \n",
       "---------------|----------------------|---------------------------------------------|------------------------------------|--------------------\n",
       "DomeFlats      |Stare x7              |my_MOS_mask Y-spectroscopy domelamp=on       |[MOSFIRE 17s (CDS, 1 coadds) x1]    |None                \n",
       "DomeFlats      |Stare x7              |long2pos K-spectroscopy domelamp=on          |[MOSFIRE 11s (CDS, 1 coadds) x1]    |None                \n",
       "DomeFlats      |Stare x7              |long2pos K-spectroscopy domelamp=off         |[MOSFIRE 11s (CDS, 1 coadds) x1]    |None                \n",
       "None           |Stare x2              |long2pos K-spectroscopy arclamp=Ne           |[MOSFIRE 1s (CDS, 1 coadds) x1]     |None                \n",
       "None           |Stare x2              |long2pos K-spectroscopy arclamp=Ar           |[MOSFIRE 1s (CDS, 1 coadds) x1]     |None                \n",
       "DomeFlats      |Stare x7              |longslit_3x0.7 J-spectroscopy domelamp=on    |[MOSFIRE 11s (CDS, 1 coadds) x1]    |None                \n",
       "DomeFlats      |Stare x7              |my_MOS_mask H-spectroscopy domelamp=on       |[MOSFIRE 11s (CDS, 1 coadds) x1]    |None                \n",
       "DomeFlats      |Stare x7              |longslit_3x0.7 Y-spectroscopy domelamp=on    |[MOSFIRE 17s (CDS, 1 coadds) x1]    |None                \n",
       "DomeFlats      |Stare x7              |my_MOS_mask K-spectroscopy domelamp=on       |[MOSFIRE 11s (CDS, 1 coadds) x1]    |None                \n",
       "DomeFlats      |Stare x7              |my_MOS_mask K-spectroscopy domelamp=off      |[MOSFIRE 11s (CDS, 1 coadds) x1]    |None                \n",
       "None           |Stare x2              |my_MOS_mask K-spectroscopy arclamp=Ne        |[MOSFIRE 1s (CDS, 1 coadds) x1]     |None                \n",
       "None           |Stare x2              |my_MOS_mask K-spectroscopy arclamp=Ar        |[MOSFIRE 1s (CDS, 1 coadds) x1]     |None                \n",
       "DomeFlats      |Stare x7              |long2pos H-spectroscopy domelamp=on          |[MOSFIRE 11s (CDS, 1 coadds) x1]    |None                \n",
       "DomeFlats      |Stare x7              |my_MOS_mask J-spectroscopy domelamp=on       |[MOSFIRE 11s (CDS, 1 coadds) x1]    |None                "
      ]
     },
     "execution_count": 49,
     "metadata": {},
     "output_type": "execute_result"
    }
   ],
   "source": [
    "myOBs.cals()"
   ]
  },
  {
   "cell_type": "markdown",
   "metadata": {},
   "source": [
    "# Build Complex MOSFIRE Example\n",
    "\n",
    "Observer wants to:\n",
    "- slew to an offset star\n",
    "- align on the offset star\n",
    "- offset to target\n",
    "- image target though the alignment mask\n",
    "- if target is visible, configure science mask and take spectra, if not, go to next target"
   ]
  },
  {
   "cell_type": "code",
   "execution_count": 50,
   "metadata": {},
   "outputs": [],
   "source": [
    "from keckODL.target import Target, TargetList\n",
    "from keckODL.mosfire import MOSFIREConfig, MOSFIREDetectorConfig, long2pos, ABBA\n",
    "from keckODL.offset import Stare, StarSkyStar, SkyStar\n",
    "from keckODL.offset import Stare\n",
    "from keckODL.block import ScienceBlock, ObservingBlockList\n",
    "from astropy import units as u"
   ]
  },
  {
   "cell_type": "code",
   "execution_count": 51,
   "metadata": {},
   "outputs": [],
   "source": [
    "# Build target\n",
    "t1 = Target(name='M42', RA=82.5, Dec=-5, frame='icrs',\n",
    "            PMRA=10, PMDec=-10, epoch=1975.5,\n",
    "            rotmode='PA', PA=90,\n",
    "            objecttype='science',\n",
    "            RAOffset=8.4, DecOffset=-4.5,\n",
    "            mag={'V': 4.3, 'K': 6.7},\n",
    "           )\n",
    "# Have second version of the target with acquisition none\n",
    "from copy import deepcopy\n",
    "t2 = deepcopy(t1)\n",
    "t2.acquisition = 'none'"
   ]
  },
  {
   "cell_type": "code",
   "execution_count": 52,
   "metadata": {},
   "outputs": [],
   "source": [
    "mosfire_30sx3 = MOSFIREDetectorConfig(exptime=30, readoutmode='CDS', coadds=3)\n",
    "mosfire_10sx9 = MOSFIREDetectorConfig(exptime=10, readoutmode='CDS', coadds=9)\n",
    "\n",
    "mosfire_180s = MOSFIREDetectorConfig(exptime=180, readoutmode='MCDS16', coadds=1)\n",
    "mosfire_120s = MOSFIREDetectorConfig(exptime=120, readoutmode='MCDS16', coadds=1)"
   ]
  },
  {
   "cell_type": "code",
   "execution_count": 53,
   "metadata": {},
   "outputs": [],
   "source": [
    "skystar = SkyStar(dx=10*u.arcsec, dy=10*u.arcsec)\n",
    "abba3 = ABBA(offset=1.25*u.arcsec, repeat=3)"
   ]
  },
  {
   "cell_type": "code",
   "execution_count": 54,
   "metadata": {},
   "outputs": [
    {
     "data": {
      "text/plain": [
       "Frame: SkyFrame (RAOFF DECOFF)\n",
       "Repeats: 1\n",
       " dx(\")| dy(\")| dr(deg)|    name|guide?\n",
       "------|------|--------|--------|------\n",
       " +10.0| +10.0|    +0.0|     sky| False\n",
       "  +0.0|  +0.0|    +0.0|    star|  True"
      ]
     },
     "execution_count": 54,
     "metadata": {},
     "output_type": "execute_result"
    }
   ],
   "source": [
    "skystar"
   ]
  },
  {
   "cell_type": "code",
   "execution_count": 57,
   "metadata": {},
   "outputs": [],
   "source": [
    "# Build explicit align version of the mask so it can be sent as unique science mask\n",
    "singleobj_J_align = MOSFIREConfig(mode='imaging', filter='J', mask='longslit_46x0.7', alignmask=True)\n",
    "# Build normal spectroscopy masks\n",
    "singleobj_Y = MOSFIREConfig(mode='spectroscopy', filter='Y', mask='longslit_46x0.7')\n",
    "singleobj_J = MOSFIREConfig(mode='spectroscopy', filter='J', mask='longslit_46x0.7')\n"
   ]
  },
  {
   "cell_type": "code",
   "execution_count": 58,
   "metadata": {},
   "outputs": [
    {
     "data": {
      "text/plain": [
       "Target         |Pattern               |InstrumentConfig                             |DetectorConfig                      |AlignmentMethod     \n",
       "---------------|----------------------|---------------------------------------------|------------------------------------|--------------------\n",
       "M42            |SkyStar (10 10) x1    |longslit_46x0.7-align J-imaging              |[MOSFIRE 10s (CDS, 9 coadds) x1]    |Mask Align          \n",
       "M42            |ABBA (1.25 arcsec) x3 |longslit_46x0.7 J-spectroscopy               |[MOSFIRE 120s (MCDS16, 1 coadds) x1]|None                \n",
       "M42            |ABBA (1.25 arcsec) x3 |longslit_46x0.7 Y-spectroscopy               |[MOSFIRE 180s (MCDS16, 1 coadds) x1]|None                "
      ]
     },
     "execution_count": 58,
     "metadata": {},
     "output_type": "execute_result"
    }
   ],
   "source": [
    "myOBs3 = ObservingBlockList([ScienceBlock(target=t1, pattern=skystar, instconfig=singleobj_J_align, detconfig=mosfire_10sx9, align=MaskAlign()),\n",
    "                             ScienceBlock(target=t2, pattern=abba3, instconfig=singleobj_J, detconfig=mosfire_120s, align=None),\n",
    "                             ScienceBlock(target=t2, pattern=abba3, instconfig=singleobj_Y, detconfig=mosfire_180s, align=None),\n",
    "                            ])\n",
    "myOBs3"
   ]
  },
  {
   "cell_type": "code",
   "execution_count": null,
   "metadata": {},
   "outputs": [],
   "source": []
  }
 ],
 "metadata": {
  "kernelspec": {
   "display_name": "Python 3",
   "language": "python",
   "name": "python3"
  },
  "language_info": {
   "codemirror_mode": {
    "name": "ipython",
    "version": 3
   },
   "file_extension": ".py",
   "mimetype": "text/x-python",
   "name": "python",
   "nbconvert_exporter": "python",
   "pygments_lexer": "ipython3",
   "version": "3.7.6"
  }
 },
 "nbformat": 4,
 "nbformat_minor": 4
}
