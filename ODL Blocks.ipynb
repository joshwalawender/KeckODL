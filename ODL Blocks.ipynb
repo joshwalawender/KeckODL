{
 "cells": [
  {
   "cell_type": "markdown",
   "metadata": {},
   "source": [
    "# Observing Blocks"
   ]
  },
  {
   "cell_type": "markdown",
   "metadata": {},
   "source": [
    "## KCWI Example"
   ]
  },
  {
   "cell_type": "code",
   "execution_count": 1,
   "metadata": {},
   "outputs": [],
   "source": [
    "from keckODL.target import Target, TargetList\n",
    "from keckODL.kcwi import KCWIblueDetectorConfig\n",
    "from keckODL.kcwi import KCWIblueConfig\n",
    "from keckODL.offset import Stare, StarSkyStar\n",
    "from keckODL.block import ObservingBlock, ObservingBlockList\n",
    "\n",
    "from astropy import units as u"
   ]
  },
  {
   "cell_type": "code",
   "execution_count": 2,
   "metadata": {},
   "outputs": [],
   "source": [
    "ngc1333 = Target('NGC1333', rotmode='PA', PA=22.5,\n",
    "                 objecttype='science',\n",
    "                 acquisition='blind')"
   ]
  },
  {
   "cell_type": "code",
   "execution_count": 3,
   "metadata": {},
   "outputs": [
    {
     "name": "stdout",
     "output_type": "stream",
     "text": [
      "KCWIblue 1800.0s (9)\n"
     ]
    }
   ],
   "source": [
    "kcwi_1800s = KCWIblueDetectorConfig(exptime=1800, binning='2x2')\n",
    "kcwi_1800s.write('kcwi_1800s.txt')\n",
    "print(kcwi_1800s)"
   ]
  },
  {
   "cell_type": "code",
   "execution_count": 4,
   "metadata": {},
   "outputs": [
    {
     "name": "stdout",
     "output_type": "stream",
     "text": [
      "medium BH3 4800 A\n"
     ]
    }
   ],
   "source": [
    "med_slicer_4800 = KCWIblueConfig(slicer='medium', grating='BH3', cwave=4800)\n",
    "med_slicer_4800.write('KCWI_medslicer_4800.txt')\n",
    "print(med_slicer_4800)"
   ]
  },
  {
   "cell_type": "code",
   "execution_count": 5,
   "metadata": {},
   "outputs": [
    {
     "name": "stdout",
     "output_type": "stream",
     "text": [
      "StarSkyStar (30 30)\n"
     ]
    }
   ],
   "source": [
    "skyoffset = StarSkyStar(dx=30*u.arcsec, dy=30*u.arcsec)\n",
    "print(skyoffset)"
   ]
  },
  {
   "cell_type": "code",
   "execution_count": 6,
   "metadata": {},
   "outputs": [
    {
     "data": {
      "text/plain": [
       "Frame: SkyFrame (RAOFF DECOFF)\n",
       " dx(\")| dy(\")| dr(deg)|    name|guide?\n",
       "------|------|--------|--------|------\n",
       "  +0.0|  +0.0|    +0.0|    star|  True\n",
       " +30.0| +30.0|    +0.0|     sky| False\n",
       "  +0.0|  +0.0|    +0.0|    star|  True"
      ]
     },
     "execution_count": 6,
     "metadata": {},
     "output_type": "execute_result"
    }
   ],
   "source": [
    "skyoffset"
   ]
  },
  {
   "cell_type": "code",
   "execution_count": 7,
   "metadata": {},
   "outputs": [
    {
     "name": "stdout",
     "output_type": "stream",
     "text": [
      "Executing offset: 0\n",
      "'RAOFF'.write(0.0, rel2base=t)\n",
      "'DECOFF'.write(0.0, rel2base=t)\n",
      "Executing offset: 1\n",
      "'RAOFF'.write(30.0, rel2base=t)\n",
      "'DECOFF'.write(30.0, rel2base=t)\n",
      "Executing offset: 2\n",
      "'RAOFF'.write(0.0, rel2base=t)\n",
      "'DECOFF'.write(0.0, rel2base=t)\n"
     ]
    }
   ],
   "source": [
    "for i,offset in enumerate(skyoffset):\n",
    "    print(f'Executing offset: {i}')\n",
    "    offset.execute()"
   ]
  },
  {
   "cell_type": "code",
   "execution_count": 8,
   "metadata": {},
   "outputs": [
    {
     "name": "stdout",
     "output_type": "stream",
     "text": [
      "NGC1333        |StarSkyStar (30 30)|     3 |KCWIblue 1800.0s (9)               |medium BH3 4800 A                            \n"
     ]
    }
   ],
   "source": [
    "OB1 = ObservingBlock(target=ngc1333, pattern=skyoffset,\n",
    "                            detconfig=kcwi_1800s,\n",
    "                            instconfig=med_slicer_4800,\n",
    "                            repeat=3)\n",
    "print(OB1)"
   ]
  },
  {
   "cell_type": "code",
   "execution_count": 9,
   "metadata": {},
   "outputs": [
    {
     "data": {
      "text/plain": [
       "Target         |Pattern            |repeat |DetectorConfig                     |InstrumentConfig                             \n",
       "---------------|-------------------|-------|-----------------------------------|---------------------------------------------\n",
       "NGC1333        |StarSkyStar (30 30)|     3 |KCWIblue 1800.0s (9)               |medium BH3 4800 A                            "
      ]
     },
     "execution_count": 9,
     "metadata": {},
     "output_type": "execute_result"
    }
   ],
   "source": [
    "OBlist = ObservingBlockList([OB1])\n",
    "OBlist"
   ]
  },
  {
   "cell_type": "code",
   "execution_count": 10,
   "metadata": {},
   "outputs": [
    {
     "name": "stdout",
     "output_type": "stream",
     "text": [
      "Shutter Open Time: 16200 s (4.5 hrs)\n",
      "Wall Clock Time: 16200 s (4.5 hrs)\n"
     ]
    }
   ],
   "source": [
    "OBlist.estimate_time()"
   ]
  },
  {
   "cell_type": "code",
   "execution_count": 11,
   "metadata": {},
   "outputs": [
    {
     "data": {
      "text/plain": [
       "Target         |Pattern            |repeat |DetectorConfig                     |InstrumentConfig                             \n",
       "---------------|-------------------|-------|-----------------------------------|---------------------------------------------\n",
       "None           |Stare              |     1 |KCWIblue 6.0s (9)                  |medium BH3 4800 A arclamp=CONT calobj=MedBarsA\n",
       "None           |Stare              |     1 |KCWIblue 30.0s (9)                 |medium BH3 4800 A arclamp=FEAR calobj=FlatA  \n",
       "None           |Stare              |     1 |KCWIblue 45.0s (9)                 |medium BH3 4800 A arclamp=THAR calobj=FlatA  \n",
       "None           |Stare              |     6 |KCWIblue 6.0s (9)                  |medium BH3 4800 A arclamp=CONT calobj=FlatA  \n",
       "None           |Stare              |     7 |KCWIblue 0.0s (9, Dark)            |medium BH3 4800 A                            \n",
       "DomeFlats      |Stare              |     3 |KCWIblue 100.0s (9)                |medium BH3 4800 A domeflatlamp=True          "
      ]
     },
     "execution_count": 11,
     "metadata": {},
     "output_type": "execute_result"
    }
   ],
   "source": [
    "cals_I_need = med_slicer_4800.cals()\n",
    "cals_I_need"
   ]
  },
  {
   "cell_type": "code",
   "execution_count": 12,
   "metadata": {},
   "outputs": [
    {
     "name": "stdout",
     "output_type": "stream",
     "text": [
      "Shutter Open Time: 417 s (0.1 hrs)\n",
      "Wall Clock Time: 417 s (0.1 hrs)\n"
     ]
    }
   ],
   "source": [
    "cals_I_need.estimate_time()"
   ]
  },
  {
   "cell_type": "markdown",
   "metadata": {},
   "source": [
    "# KCWI + KCRM Example"
   ]
  },
  {
   "cell_type": "code",
   "execution_count": null,
   "metadata": {},
   "outputs": [],
   "source": []
  },
  {
   "cell_type": "code",
   "execution_count": null,
   "metadata": {},
   "outputs": [],
   "source": []
  },
  {
   "cell_type": "code",
   "execution_count": null,
   "metadata": {},
   "outputs": [],
   "source": []
  },
  {
   "cell_type": "code",
   "execution_count": null,
   "metadata": {},
   "outputs": [],
   "source": []
  },
  {
   "cell_type": "code",
   "execution_count": null,
   "metadata": {},
   "outputs": [],
   "source": []
  },
  {
   "cell_type": "markdown",
   "metadata": {},
   "source": [
    "## MOSFIRE Example"
   ]
  },
  {
   "cell_type": "code",
   "execution_count": 13,
   "metadata": {},
   "outputs": [],
   "source": [
    "from keckODL.target import Target, TargetList\n",
    "from keckODL.mosfire import MOSFIREConfig, MOSFIREDetectorConfig, long2pos, ABBA\n",
    "from keckODL.offset import Stare\n",
    "from keckODL.block import ObservingBlock, ObservingBlockList"
   ]
  },
  {
   "cell_type": "code",
   "execution_count": 14,
   "metadata": {},
   "outputs": [],
   "source": [
    "v1647Ori = Target('V1647 Ori', rotmode='PA', PA=22.5,\n",
    "                  objecttype='science',\n",
    "                  acquisition='blind')"
   ]
  },
  {
   "cell_type": "code",
   "execution_count": 15,
   "metadata": {},
   "outputs": [
    {
     "name": "stdout",
     "output_type": "stream",
     "text": [
      "MOSFIRE 180.0s (MCDS16, 1 coadds)\n",
      "MOSFIRE 120.0s (MCDS16, 1 coadds)\n"
     ]
    }
   ],
   "source": [
    "# detector configs\n",
    "mosfire_180s = MOSFIREDetectorConfig(exptime=180, readoutmode='MCDS16', coadds=1)\n",
    "mosfire_180s.write('mosfire_180s.txt')\n",
    "mosfire_120s = MOSFIREDetectorConfig(exptime=120, readoutmode='MCDS16', coadds=1)\n",
    "mosfire_120s.write('mosfire_120s.txt')\n",
    "print(mosfire_180s)\n",
    "print(mosfire_120s)"
   ]
  },
  {
   "cell_type": "code",
   "execution_count": 16,
   "metadata": {},
   "outputs": [
    {
     "name": "stdout",
     "output_type": "stream",
     "text": [
      "my_MOS_mask Y-spectroscopy\n",
      "my_MOS_mask J-spectroscopy\n",
      "my_MOS_mask H-spectroscopy\n",
      "my_MOS_mask K-spectroscopy\n"
     ]
    }
   ],
   "source": [
    "# instrument configs\n",
    "mosfire_Y = MOSFIREConfig(mode='spectroscopy', filter='Y', mask='my_MOS_mask')\n",
    "mosfire_J = MOSFIREConfig(mode='spectroscopy', filter='J', mask='my_MOS_mask')\n",
    "mosfire_H = MOSFIREConfig(mode='spectroscopy', filter='H', mask='my_MOS_mask')\n",
    "mosfire_K = MOSFIREConfig(mode='spectroscopy', filter='K', mask='my_MOS_mask')\n",
    "print(mosfire_Y)\n",
    "print(mosfire_J)\n",
    "print(mosfire_H)\n",
    "print(mosfire_K)"
   ]
  },
  {
   "cell_type": "code",
   "execution_count": 17,
   "metadata": {},
   "outputs": [
    {
     "name": "stdout",
     "output_type": "stream",
     "text": [
      "ABBA (1.5)\n"
     ]
    },
    {
     "name": "stderr",
     "output_type": "stream",
     "text": [
      "/Users/joshw/git/KeckODL/keckODL/offset.py:160: OffsetWarning: No offset unit given for dy, assuming arcseconds\n",
      "  category=OffsetWarning)\n"
     ]
    }
   ],
   "source": [
    "abba = ABBA(offset=1.5)\n",
    "print(abba)"
   ]
  },
  {
   "cell_type": "code",
   "execution_count": 18,
   "metadata": {},
   "outputs": [
    {
     "data": {
      "text/plain": [
       "Frame: MOSFIRE Slit (INSTXOFF INSTYOFF)\n",
       " dx(\")| dy(\")| dr(deg)|    name|guide?\n",
       "------|------|--------|--------|------\n",
       "  +0.0|  +1.5|    +0.0|       A|  True\n",
       "  +0.0|  -1.5|    +0.0|       B|  True\n",
       "  +0.0|  -1.5|    +0.0|       B|  True\n",
       "  +0.0|  +1.5|    +0.0|       A|  True"
      ]
     },
     "execution_count": 18,
     "metadata": {},
     "output_type": "execute_result"
    }
   ],
   "source": [
    "abba"
   ]
  },
  {
   "cell_type": "code",
   "execution_count": 19,
   "metadata": {},
   "outputs": [
    {
     "name": "stdout",
     "output_type": "stream",
     "text": [
      "Executing offset: 0\n",
      "'INSTXOFF'.write(0.0, rel2base=t)\n",
      "'INSTYOFF'.write(1.5, rel2base=t)\n",
      "Executing offset: 1\n",
      "'INSTXOFF'.write(0.0, rel2base=t)\n",
      "'INSTYOFF'.write(-1.5, rel2base=t)\n",
      "Executing offset: 2\n",
      "'INSTXOFF'.write(0.0, rel2base=t)\n",
      "'INSTYOFF'.write(-1.5, rel2base=t)\n",
      "Executing offset: 3\n",
      "'INSTXOFF'.write(0.0, rel2base=t)\n",
      "'INSTYOFF'.write(1.5, rel2base=t)\n"
     ]
    }
   ],
   "source": [
    "for i,offset in enumerate(abba):\n",
    "    print(f'Executing offset: {i}')\n",
    "    offset.execute()"
   ]
  },
  {
   "cell_type": "code",
   "execution_count": 20,
   "metadata": {},
   "outputs": [
    {
     "name": "stdout",
     "output_type": "stream",
     "text": [
      "Target         |Pattern            |repeat |DetectorConfig                     |InstrumentConfig                             \n",
      "---------------|-------------------|-------|-----------------------------------|---------------------------------------------\n",
      "V1647 Ori      |ABBA (1.5)         |     5 |MOSFIRE 180.0s (MCDS16, 1 coadds)  |my_MOS_mask Y-spectroscopy                   \n",
      "V1647 Ori      |ABBA (1.5)         |     8 |MOSFIRE 120.0s (MCDS16, 1 coadds)  |my_MOS_mask J-spectroscopy                   \n",
      "V1647 Ori      |ABBA (1.5)         |     8 |MOSFIRE 120.0s (MCDS16, 1 coadds)  |my_MOS_mask H-spectroscopy                   \n",
      "V1647 Ori      |ABBA (1.5)         |     5 |MOSFIRE 180.0s (MCDS16, 1 coadds)  |my_MOS_mask K-spectroscopy                   \n"
     ]
    }
   ],
   "source": [
    "myOBs = ObservingBlockList([ObservingBlock(target=v1647Ori, pattern=abba, detconfig=mosfire_180s, instconfig=mosfire_Y, repeat=5),\n",
    "                            ObservingBlock(target=v1647Ori, pattern=abba, detconfig=mosfire_120s, instconfig=mosfire_J, repeat=8),\n",
    "                            ObservingBlock(target=v1647Ori, pattern=abba, detconfig=mosfire_120s, instconfig=mosfire_H, repeat=8),\n",
    "                            ObservingBlock(target=v1647Ori, pattern=abba, detconfig=mosfire_180s, instconfig=mosfire_K, repeat=5),\n",
    "                           ])\n",
    "print(myOBs)"
   ]
  },
  {
   "cell_type": "code",
   "execution_count": 21,
   "metadata": {},
   "outputs": [
    {
     "name": "stdout",
     "output_type": "stream",
     "text": [
      "Shutter Open Time: 14880 s (4.1 hrs)\n",
      "Wall Clock Time: 14880 s (4.1 hrs)\n"
     ]
    }
   ],
   "source": [
    "myOBs.estimate_time()"
   ]
  },
  {
   "cell_type": "code",
   "execution_count": 22,
   "metadata": {},
   "outputs": [
    {
     "name": "stdout",
     "output_type": "stream",
     "text": [
      "Target         |Pattern            |repeat |DetectorConfig                     |InstrumentConfig                             \n",
      "---------------|-------------------|-------|-----------------------------------|---------------------------------------------\n",
      "DomeFlats      |Stare              |     7 |MOSFIRE 11.0s (CDS, 1 coadds)      |my_MOS_mask Y-spectroscopy domeflatlamp=True \n",
      "DomeFlats      |Stare              |     7 |MOSFIRE 11.0s (CDS, 1 coadds)      |my_MOS_mask J-spectroscopy domeflatlamp=True \n",
      "DomeFlats      |Stare              |     7 |MOSFIRE 11.0s (CDS, 1 coadds)      |my_MOS_mask H-spectroscopy domeflatlamp=True \n",
      "DomeFlats      |Stare              |     7 |MOSFIRE 11.0s (CDS, 1 coadds)      |my_MOS_mask K-spectroscopy domeflatlamp=True \n",
      "DomeFlats      |Stare              |     7 |MOSFIRE 11.0s (CDS, 1 coadds)      |my_MOS_mask K-spectroscopy domeflatlamp=False\n",
      "None           |Stare              |     2 |MOSFIRE 1.0s (CDS, 1 coadds)       |my_MOS_mask K-spectroscopy arclamp=Ne        \n",
      "None           |Stare              |     2 |MOSFIRE 1.0s (CDS, 1 coadds)       |my_MOS_mask K-spectroscopy arclamp=Ar        \n"
     ]
    }
   ],
   "source": [
    "cals_I_need = mosfire_Y.cals()\n",
    "cals_I_need.extend( mosfire_J.cals() )\n",
    "cals_I_need.extend( mosfire_H.cals() )\n",
    "cals_I_need.extend( mosfire_K.cals() )\n",
    "print(cals_I_need)"
   ]
  },
  {
   "cell_type": "code",
   "execution_count": 23,
   "metadata": {},
   "outputs": [
    {
     "name": "stdout",
     "output_type": "stream",
     "text": [
      "Shutter Open Time: 389 s (0.1 hrs)\n",
      "Wall Clock Time: 389 s (0.1 hrs)\n"
     ]
    }
   ],
   "source": [
    "cals_I_need.estimate_time()"
   ]
  },
  {
   "cell_type": "markdown",
   "metadata": {},
   "source": [
    "## MOSFIRE Example 2"
   ]
  },
  {
   "cell_type": "code",
   "execution_count": 24,
   "metadata": {},
   "outputs": [
    {
     "name": "stdout",
     "output_type": "stream",
     "text": [
      "longslit_3x0.7 Y-spectroscopy\n",
      "longslit_3x0.7 J-spectroscopy\n",
      "long2pos H-spectroscopy\n",
      "long2pos K-spectroscopy\n"
     ]
    }
   ],
   "source": [
    "singleobj_Y = MOSFIREConfig(mode='spectroscopy', filter='Y', mask='longslit_3x0.7')\n",
    "singleobj_J = MOSFIREConfig(mode='spectroscopy', filter='J', mask='longslit_3x0.7')\n",
    "singleobj_H = MOSFIREConfig(mode='spectroscopy', filter='H', mask='long2pos')\n",
    "singleobj_K = MOSFIREConfig(mode='spectroscopy', filter='K', mask='long2pos')\n",
    "print(singleobj_Y)\n",
    "print(singleobj_J)\n",
    "print(singleobj_H)\n",
    "print(singleobj_K)"
   ]
  },
  {
   "cell_type": "code",
   "execution_count": 25,
   "metadata": {},
   "outputs": [
    {
     "name": "stdout",
     "output_type": "stream",
     "text": [
      "long2pos\n"
     ]
    },
    {
     "name": "stderr",
     "output_type": "stream",
     "text": [
      "/Users/joshw/git/KeckODL/keckODL/offset.py:155: OffsetWarning: No offset unit given for dx, assuming arcseconds\n",
      "  category=OffsetWarning)\n"
     ]
    }
   ],
   "source": [
    "long2pos_pattern = long2pos()\n",
    "print(long2pos_pattern)"
   ]
  },
  {
   "cell_type": "code",
   "execution_count": 26,
   "metadata": {},
   "outputs": [
    {
     "data": {
      "text/plain": [
       "Frame: MOSFIRE Detector (INSTXOFF INSTYOFF)\n",
       " dx(\")| dy(\")| dr(deg)|    name|guide?\n",
       "------|------|--------|--------|------\n",
       " +45.0| -23.0|    +0.0|       A|  True\n",
       " +45.0|  -9.0|    +0.0|       B|  True\n",
       " -45.0|  +9.0|    +0.0|       A|  True\n",
       " -45.0| +23.0|    +0.0|       B|  True"
      ]
     },
     "execution_count": 26,
     "metadata": {},
     "output_type": "execute_result"
    }
   ],
   "source": [
    "long2pos_pattern"
   ]
  },
  {
   "cell_type": "code",
   "execution_count": 27,
   "metadata": {},
   "outputs": [
    {
     "name": "stdout",
     "output_type": "stream",
     "text": [
      "'INSTXOFF'.write(45.0, rel2base=t)\n",
      "'INSTYOFF'.write(-23.0, rel2base=t)\n"
     ]
    }
   ],
   "source": [
    "long2pos_pattern[0].execute()"
   ]
  },
  {
   "cell_type": "code",
   "execution_count": 28,
   "metadata": {},
   "outputs": [
    {
     "name": "stdout",
     "output_type": "stream",
     "text": [
      "Target         |Pattern            |repeat |DetectorConfig                     |InstrumentConfig                             \n",
      "---------------|-------------------|-------|-----------------------------------|---------------------------------------------\n",
      "V1647 Ori      |ABBA (1.5)         |     2 |MOSFIRE 180.0s (MCDS16, 1 coadds)  |longslit_3x0.7 Y-spectroscopy                \n",
      "V1647 Ori      |ABBA (1.5)         |     2 |MOSFIRE 120.0s (MCDS16, 1 coadds)  |longslit_3x0.7 J-spectroscopy                \n",
      "V1647 Ori      |long2pos           |     2 |MOSFIRE 120.0s (MCDS16, 1 coadds)  |long2pos H-spectroscopy                      \n",
      "V1647 Ori      |long2pos           |     2 |MOSFIRE 180.0s (MCDS16, 1 coadds)  |long2pos K-spectroscopy                      \n"
     ]
    }
   ],
   "source": [
    "myOBs2 = ObservingBlockList([ObservingBlock(target=v1647Ori, pattern=abba, detconfig=mosfire_180s, instconfig=singleobj_Y, repeat=2),\n",
    "                             ObservingBlock(target=v1647Ori, pattern=abba, detconfig=mosfire_120s, instconfig=singleobj_J, repeat=2),\n",
    "                             ObservingBlock(target=v1647Ori, pattern=long2pos_pattern, detconfig=mosfire_120s, instconfig=singleobj_H, repeat=2),\n",
    "                             ObservingBlock(target=v1647Ori, pattern=long2pos_pattern, detconfig=mosfire_180s, instconfig=singleobj_K, repeat=2),\n",
    "                            ])\n",
    "print(myOBs2)"
   ]
  },
  {
   "cell_type": "code",
   "execution_count": 29,
   "metadata": {},
   "outputs": [
    {
     "name": "stdout",
     "output_type": "stream",
     "text": [
      "Shutter Open Time: 4800 s (1.3 hrs)\n",
      "Wall Clock Time: 4800 s (1.3 hrs)\n"
     ]
    }
   ],
   "source": [
    "myOBs2.estimate_time()"
   ]
  },
  {
   "cell_type": "code",
   "execution_count": 30,
   "metadata": {},
   "outputs": [
    {
     "name": "stdout",
     "output_type": "stream",
     "text": [
      "Target         |Pattern            |repeat |DetectorConfig                     |InstrumentConfig                             \n",
      "---------------|-------------------|-------|-----------------------------------|---------------------------------------------\n",
      "DomeFlats      |Stare              |     7 |MOSFIRE 11.0s (CDS, 1 coadds)      |longslit_3x0.7 Y-spectroscopy domeflatlamp=True\n",
      "DomeFlats      |Stare              |     7 |MOSFIRE 11.0s (CDS, 1 coadds)      |longslit_3x0.7 J-spectroscopy domeflatlamp=True\n",
      "DomeFlats      |Stare              |     7 |MOSFIRE 11.0s (CDS, 1 coadds)      |long2pos H-spectroscopy domeflatlamp=True    \n",
      "DomeFlats      |Stare              |     7 |MOSFIRE 11.0s (CDS, 1 coadds)      |long2pos K-spectroscopy domeflatlamp=True    \n",
      "DomeFlats      |Stare              |     7 |MOSFIRE 11.0s (CDS, 1 coadds)      |long2pos K-spectroscopy domeflatlamp=False   \n",
      "None           |Stare              |     2 |MOSFIRE 1.0s (CDS, 1 coadds)       |long2pos K-spectroscopy arclamp=Ne           \n",
      "None           |Stare              |     2 |MOSFIRE 1.0s (CDS, 1 coadds)       |long2pos K-spectroscopy arclamp=Ar           \n"
     ]
    }
   ],
   "source": [
    "cals_I_need = singleobj_Y.cals()\n",
    "cals_I_need.extend(singleobj_J.cals())\n",
    "cals_I_need.extend(singleobj_H.cals())\n",
    "cals_I_need.extend(singleobj_K.cals())\n",
    "print(cals_I_need)"
   ]
  },
  {
   "cell_type": "code",
   "execution_count": 31,
   "metadata": {},
   "outputs": [
    {
     "name": "stdout",
     "output_type": "stream",
     "text": [
      "Shutter Open Time: 389 s (0.1 hrs)\n",
      "Wall Clock Time: 389 s (0.1 hrs)\n"
     ]
    }
   ],
   "source": [
    "cals_I_need.estimate_time()"
   ]
  },
  {
   "cell_type": "markdown",
   "metadata": {},
   "source": [
    "# MOSFIRE Night Example"
   ]
  },
  {
   "cell_type": "code",
   "execution_count": 32,
   "metadata": {},
   "outputs": [
    {
     "name": "stdout",
     "output_type": "stream",
     "text": [
      "Target         |Pattern            |repeat |DetectorConfig                     |InstrumentConfig                             \n",
      "---------------|-------------------|-------|-----------------------------------|---------------------------------------------\n",
      "NGC1333        |ABBA (1.5)         |     2 |MOSFIRE 180.0s (MCDS16, 1 coadds)  |longslit_3x0.7 Y-spectroscopy                \n",
      "NGC1333        |ABBA (1.5)         |     2 |MOSFIRE 120.0s (MCDS16, 1 coadds)  |longslit_3x0.7 J-spectroscopy                \n",
      "NGC1333        |long2pos           |     2 |MOSFIRE 120.0s (MCDS16, 1 coadds)  |long2pos H-spectroscopy                      \n",
      "NGC1333        |long2pos           |     2 |MOSFIRE 180.0s (MCDS16, 1 coadds)  |long2pos K-spectroscopy                      \n"
     ]
    }
   ],
   "source": [
    "myOBs3 = ObservingBlockList([ObservingBlock(target=ngc1333, pattern=abba, detconfig=mosfire_180s, instconfig=singleobj_Y, repeat=2),\n",
    "                             ObservingBlock(target=ngc1333, pattern=abba, detconfig=mosfire_120s, instconfig=singleobj_J, repeat=2),\n",
    "                             ObservingBlock(target=ngc1333, pattern=long2pos_pattern, detconfig=mosfire_120s, instconfig=singleobj_H, repeat=2),\n",
    "                             ObservingBlock(target=ngc1333, pattern=long2pos_pattern, detconfig=mosfire_180s, instconfig=singleobj_K, repeat=2),\n",
    "                            ])\n",
    "print(myOBs3)"
   ]
  },
  {
   "cell_type": "code",
   "execution_count": 33,
   "metadata": {},
   "outputs": [],
   "source": [
    "myOBs.extend(myOBs2)\n",
    "myOBs.extend(myOBs3)"
   ]
  },
  {
   "cell_type": "code",
   "execution_count": 34,
   "metadata": {},
   "outputs": [
    {
     "data": {
      "text/plain": [
       "Target         |Pattern            |repeat |DetectorConfig                     |InstrumentConfig                             \n",
       "---------------|-------------------|-------|-----------------------------------|---------------------------------------------\n",
       "V1647 Ori      |ABBA (1.5)         |     5 |MOSFIRE 180.0s (MCDS16, 1 coadds)  |my_MOS_mask Y-spectroscopy                   \n",
       "V1647 Ori      |ABBA (1.5)         |     8 |MOSFIRE 120.0s (MCDS16, 1 coadds)  |my_MOS_mask J-spectroscopy                   \n",
       "V1647 Ori      |ABBA (1.5)         |     8 |MOSFIRE 120.0s (MCDS16, 1 coadds)  |my_MOS_mask H-spectroscopy                   \n",
       "V1647 Ori      |ABBA (1.5)         |     5 |MOSFIRE 180.0s (MCDS16, 1 coadds)  |my_MOS_mask K-spectroscopy                   \n",
       "V1647 Ori      |ABBA (1.5)         |     2 |MOSFIRE 180.0s (MCDS16, 1 coadds)  |longslit_3x0.7 Y-spectroscopy                \n",
       "V1647 Ori      |ABBA (1.5)         |     2 |MOSFIRE 120.0s (MCDS16, 1 coadds)  |longslit_3x0.7 J-spectroscopy                \n",
       "V1647 Ori      |long2pos           |     2 |MOSFIRE 120.0s (MCDS16, 1 coadds)  |long2pos H-spectroscopy                      \n",
       "V1647 Ori      |long2pos           |     2 |MOSFIRE 180.0s (MCDS16, 1 coadds)  |long2pos K-spectroscopy                      \n",
       "NGC1333        |ABBA (1.5)         |     2 |MOSFIRE 180.0s (MCDS16, 1 coadds)  |longslit_3x0.7 Y-spectroscopy                \n",
       "NGC1333        |ABBA (1.5)         |     2 |MOSFIRE 120.0s (MCDS16, 1 coadds)  |longslit_3x0.7 J-spectroscopy                \n",
       "NGC1333        |long2pos           |     2 |MOSFIRE 120.0s (MCDS16, 1 coadds)  |long2pos H-spectroscopy                      \n",
       "NGC1333        |long2pos           |     2 |MOSFIRE 180.0s (MCDS16, 1 coadds)  |long2pos K-spectroscopy                      "
      ]
     },
     "execution_count": 34,
     "metadata": {},
     "output_type": "execute_result"
    }
   ],
   "source": [
    "myOBs"
   ]
  },
  {
   "cell_type": "code",
   "execution_count": 35,
   "metadata": {},
   "outputs": [
    {
     "data": {
      "text/plain": [
       "Target         |Pattern            |repeat |DetectorConfig                     |InstrumentConfig                             \n",
       "---------------|-------------------|-------|-----------------------------------|---------------------------------------------\n",
       "DomeFlats      |Stare              |     7 |MOSFIRE 11.0s (CDS, 1 coadds)      |my_MOS_mask K-spectroscopy domeflatlamp=True \n",
       "DomeFlats      |Stare              |     7 |MOSFIRE 11.0s (CDS, 1 coadds)      |my_MOS_mask K-spectroscopy domeflatlamp=False\n",
       "None           |Stare              |     2 |MOSFIRE 1.0s (CDS, 1 coadds)       |my_MOS_mask K-spectroscopy arclamp=Ne        \n",
       "None           |Stare              |     2 |MOSFIRE 1.0s (CDS, 1 coadds)       |my_MOS_mask K-spectroscopy arclamp=Ar        \n",
       "DomeFlats      |Stare              |     7 |MOSFIRE 11.0s (CDS, 1 coadds)      |my_MOS_mask J-spectroscopy domeflatlamp=True \n",
       "DomeFlats      |Stare              |     7 |MOSFIRE 11.0s (CDS, 1 coadds)      |long2pos H-spectroscopy domeflatlamp=True    \n",
       "DomeFlats      |Stare              |     7 |MOSFIRE 11.0s (CDS, 1 coadds)      |longslit_3x0.7 Y-spectroscopy domeflatlamp=True\n",
       "DomeFlats      |Stare              |     7 |MOSFIRE 11.0s (CDS, 1 coadds)      |my_MOS_mask H-spectroscopy domeflatlamp=True \n",
       "DomeFlats      |Stare              |     7 |MOSFIRE 11.0s (CDS, 1 coadds)      |longslit_3x0.7 J-spectroscopy domeflatlamp=True\n",
       "DomeFlats      |Stare              |     7 |MOSFIRE 11.0s (CDS, 1 coadds)      |my_MOS_mask Y-spectroscopy domeflatlamp=True \n",
       "DomeFlats      |Stare              |     7 |MOSFIRE 11.0s (CDS, 1 coadds)      |long2pos K-spectroscopy domeflatlamp=True    \n",
       "DomeFlats      |Stare              |     7 |MOSFIRE 11.0s (CDS, 1 coadds)      |long2pos K-spectroscopy domeflatlamp=False   \n",
       "None           |Stare              |     2 |MOSFIRE 1.0s (CDS, 1 coadds)       |long2pos K-spectroscopy arclamp=Ne           \n",
       "None           |Stare              |     2 |MOSFIRE 1.0s (CDS, 1 coadds)       |long2pos K-spectroscopy arclamp=Ar           "
      ]
     },
     "execution_count": 35,
     "metadata": {},
     "output_type": "execute_result"
    }
   ],
   "source": [
    "myOBs.cals()"
   ]
  },
  {
   "cell_type": "code",
   "execution_count": null,
   "metadata": {},
   "outputs": [],
   "source": []
  }
 ],
 "metadata": {
  "kernelspec": {
   "display_name": "Python 3",
   "language": "python",
   "name": "python3"
  },
  "language_info": {
   "codemirror_mode": {
    "name": "ipython",
    "version": 3
   },
   "file_extension": ".py",
   "mimetype": "text/x-python",
   "name": "python",
   "nbconvert_exporter": "python",
   "pygments_lexer": "ipython3",
   "version": "3.7.6"
  }
 },
 "nbformat": 4,
 "nbformat_minor": 4
}
