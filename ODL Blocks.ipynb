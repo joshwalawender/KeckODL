{
 "cells": [
  {
   "cell_type": "markdown",
   "metadata": {},
   "source": [
    "# Observing Blocks"
   ]
  },
  {
   "cell_type": "code",
   "execution_count": 1,
   "metadata": {},
   "outputs": [],
   "source": [
    "from keckODL.target import Target, TargetList\n",
    "from keckODL.kcwi import KCWIblueDetectorConfig, KCWIredDetectorConfig\n",
    "from keckODL.kcwi import KCWIConfig\n",
    "from keckODL.offset import Stare, StarSkyStar\n",
    "from keckODL.block import ObservingBlock, ObservingBlockList\n",
    "\n",
    "from astropy import units as u"
   ]
  },
  {
   "cell_type": "markdown",
   "metadata": {},
   "source": [
    "# KCWI + KCRM Example"
   ]
  },
  {
   "cell_type": "code",
   "execution_count": 2,
   "metadata": {},
   "outputs": [],
   "source": [
    "ngc1333 = Target('NGC1333', rotmode='PA', PA=22.5,\n",
    "                 objecttype='science',\n",
    "                 acquisition='blind')"
   ]
  },
  {
   "cell_type": "code",
   "execution_count": 3,
   "metadata": {},
   "outputs": [],
   "source": [
    "kcwib_1800s = KCWIblueDetectorConfig(exptime=1800, binning='2x2')\n",
    "kcwir_1800s = KCWIredDetectorConfig(exptime=1800, binning='2x2')\n",
    "kcwib_1800s.write('detector_KCWIb_1800s.txt')\n",
    "kcwir_1800s.write('detector_KCWIr_1800s.txt')"
   ]
  },
  {
   "cell_type": "code",
   "execution_count": 4,
   "metadata": {},
   "outputs": [
    {
     "data": {
      "text/plain": [
       "1906"
      ]
     },
     "execution_count": 4,
     "metadata": {},
     "output_type": "execute_result"
    }
   ],
   "source": [
    "kcwib_1800s.estimate_clock_time()"
   ]
  },
  {
   "cell_type": "code",
   "execution_count": 5,
   "metadata": {},
   "outputs": [],
   "source": [
    "kcwir_1800s.match_time(1906)"
   ]
  },
  {
   "cell_type": "code",
   "execution_count": null,
   "metadata": {},
   "outputs": [],
   "source": [
    "med_slicer_b4800_r6500 = KCWIConfig(slicer='medium', bluegrating='BH3', bluecwave=4800,\n",
    "                                    redgrating='RH3', redcwave=6563,)\n",
    "med_slicer_b4800_r6500.write('KCWIconfig_medslicer_red_blue.txt')\n",
    "med_slicer_b4800_r6500"
   ]
  },
  {
   "cell_type": "code",
   "execution_count": null,
   "metadata": {},
   "outputs": [],
   "source": [
    "skyoffset = StarSkyStar(dx=60*u.arcsec, dy=30*u.arcsec)\n",
    "skyoffset.write('offset_customStarSkyStar.txt')"
   ]
  },
  {
   "cell_type": "code",
   "execution_count": null,
   "metadata": {},
   "outputs": [],
   "source": [
    "OB1 = ObservingBlock(target=ngc1333, pattern=skyoffset,\n",
    "                            detconfig=(kcwib_1800s, kcwir_1800s),\n",
    "                            instconfig=med_slicer_b4800_r6500,\n",
    "                            repeat=3)"
   ]
  },
  {
   "cell_type": "code",
   "execution_count": null,
   "metadata": {},
   "outputs": [],
   "source": [
    "OBlist = ObservingBlockList([OB1])\n",
    "OBlist"
   ]
  },
  {
   "cell_type": "code",
   "execution_count": null,
   "metadata": {},
   "outputs": [],
   "source": [
    "cals_I_need = OBlist.cals()\n",
    "cals_I_need"
   ]
  },
  {
   "cell_type": "code",
   "execution_count": null,
   "metadata": {},
   "outputs": [],
   "source": [
    "cals_I_need.estimate_time()"
   ]
  },
  {
   "cell_type": "markdown",
   "metadata": {},
   "source": [
    "## MOSFIRE Example"
   ]
  },
  {
   "cell_type": "code",
   "execution_count": null,
   "metadata": {},
   "outputs": [],
   "source": [
    "from keckODL.target import Target, TargetList\n",
    "from keckODL.mosfire import MOSFIREConfig, MOSFIREDetectorConfig, long2pos, ABBA\n",
    "from keckODL.offset import Stare\n",
    "from keckODL.block import ObservingBlock, ObservingBlockList"
   ]
  },
  {
   "cell_type": "code",
   "execution_count": null,
   "metadata": {},
   "outputs": [],
   "source": [
    "v1647Ori = Target('V1647 Ori', rotmode='PA', PA=22.5,\n",
    "                  objecttype='science',\n",
    "                  acquisition='blind')"
   ]
  },
  {
   "cell_type": "code",
   "execution_count": null,
   "metadata": {},
   "outputs": [],
   "source": [
    "# detector configs\n",
    "mosfire_180s = MOSFIREDetectorConfig(exptime=180, readoutmode='MCDS16', coadds=1)\n",
    "mosfire_120s = MOSFIREDetectorConfig(exptime=120, readoutmode='MCDS16', coadds=1)\n",
    "print(mosfire_180s)\n",
    "print(mosfire_120s)"
   ]
  },
  {
   "cell_type": "code",
   "execution_count": null,
   "metadata": {},
   "outputs": [],
   "source": [
    "# instrument configs\n",
    "mosfire_Y = MOSFIREConfig(mode='spectroscopy', filter='Y', mask='my_MOS_mask')\n",
    "mosfire_J = MOSFIREConfig(mode='spectroscopy', filter='J', mask='my_MOS_mask')\n",
    "mosfire_H = MOSFIREConfig(mode='spectroscopy', filter='H', mask='my_MOS_mask')\n",
    "mosfire_K = MOSFIREConfig(mode='spectroscopy', filter='K', mask='my_MOS_mask')\n",
    "print(mosfire_Y)\n",
    "print(mosfire_J)\n",
    "print(mosfire_H)\n",
    "print(mosfire_K)"
   ]
  },
  {
   "cell_type": "code",
   "execution_count": null,
   "metadata": {},
   "outputs": [],
   "source": [
    "abba = ABBA(offset=1.5)\n",
    "print(abba)"
   ]
  },
  {
   "cell_type": "code",
   "execution_count": null,
   "metadata": {},
   "outputs": [],
   "source": [
    "abba"
   ]
  },
  {
   "cell_type": "code",
   "execution_count": null,
   "metadata": {},
   "outputs": [],
   "source": [
    "for i,offset in enumerate(abba):\n",
    "    print(f'Executing offset: {i}')\n",
    "    offset.execute()"
   ]
  },
  {
   "cell_type": "code",
   "execution_count": null,
   "metadata": {},
   "outputs": [],
   "source": [
    "myOBs = ObservingBlockList([ObservingBlock(target=v1647Ori, pattern=abba, detconfig=mosfire_180s, instconfig=mosfire_Y, repeat=5),\n",
    "                            ObservingBlock(target=v1647Ori, pattern=abba, detconfig=mosfire_120s, instconfig=mosfire_J, repeat=8),\n",
    "                            ObservingBlock(target=v1647Ori, pattern=abba, detconfig=mosfire_120s, instconfig=mosfire_H, repeat=8),\n",
    "                            ObservingBlock(target=v1647Ori, pattern=abba, detconfig=mosfire_180s, instconfig=mosfire_K, repeat=5),\n",
    "                           ])\n",
    "print(myOBs)"
   ]
  },
  {
   "cell_type": "code",
   "execution_count": null,
   "metadata": {},
   "outputs": [],
   "source": [
    "myOBs.estimate_time()"
   ]
  },
  {
   "cell_type": "code",
   "execution_count": null,
   "metadata": {},
   "outputs": [],
   "source": [
    "cals_I_need = mosfire_Y.cals()\n",
    "cals_I_need.extend( mosfire_J.cals() )\n",
    "cals_I_need.extend( mosfire_H.cals() )\n",
    "cals_I_need.extend( mosfire_K.cals() )\n",
    "print(cals_I_need)"
   ]
  },
  {
   "cell_type": "code",
   "execution_count": null,
   "metadata": {},
   "outputs": [],
   "source": [
    "cals_I_need.estimate_time()"
   ]
  },
  {
   "cell_type": "markdown",
   "metadata": {},
   "source": [
    "## MOSFIRE Example 2"
   ]
  },
  {
   "cell_type": "code",
   "execution_count": null,
   "metadata": {},
   "outputs": [],
   "source": [
    "singleobj_Y = MOSFIREConfig(mode='spectroscopy', filter='Y', mask='longslit_3x0.7')\n",
    "singleobj_J = MOSFIREConfig(mode='spectroscopy', filter='J', mask='longslit_3x0.7')\n",
    "singleobj_H = MOSFIREConfig(mode='spectroscopy', filter='H', mask='long2pos')\n",
    "singleobj_K = MOSFIREConfig(mode='spectroscopy', filter='K', mask='long2pos')\n",
    "print(singleobj_Y)\n",
    "print(singleobj_J)\n",
    "print(singleobj_H)\n",
    "print(singleobj_K)"
   ]
  },
  {
   "cell_type": "code",
   "execution_count": null,
   "metadata": {},
   "outputs": [],
   "source": [
    "long2pos_pattern = long2pos()\n",
    "print(long2pos_pattern)"
   ]
  },
  {
   "cell_type": "code",
   "execution_count": null,
   "metadata": {},
   "outputs": [],
   "source": [
    "long2pos_pattern"
   ]
  },
  {
   "cell_type": "code",
   "execution_count": null,
   "metadata": {},
   "outputs": [],
   "source": [
    "long2pos_pattern[0].execute()"
   ]
  },
  {
   "cell_type": "code",
   "execution_count": null,
   "metadata": {},
   "outputs": [],
   "source": [
    "myOBs2 = ObservingBlockList([ObservingBlock(target=v1647Ori, pattern=abba, detconfig=mosfire_180s, instconfig=singleobj_Y, repeat=2),\n",
    "                             ObservingBlock(target=v1647Ori, pattern=abba, detconfig=mosfire_120s, instconfig=singleobj_J, repeat=2),\n",
    "                             ObservingBlock(target=v1647Ori, pattern=long2pos_pattern, detconfig=mosfire_120s, instconfig=singleobj_H, repeat=2),\n",
    "                             ObservingBlock(target=v1647Ori, pattern=long2pos_pattern, detconfig=mosfire_180s, instconfig=singleobj_K, repeat=2),\n",
    "                            ])\n",
    "print(myOBs2)"
   ]
  },
  {
   "cell_type": "code",
   "execution_count": null,
   "metadata": {},
   "outputs": [],
   "source": [
    "myOBs2.estimate_time()"
   ]
  },
  {
   "cell_type": "code",
   "execution_count": null,
   "metadata": {},
   "outputs": [],
   "source": [
    "cals_I_need = singleobj_Y.cals()\n",
    "cals_I_need.extend(singleobj_J.cals())\n",
    "cals_I_need.extend(singleobj_H.cals())\n",
    "cals_I_need.extend(singleobj_K.cals())\n",
    "print(cals_I_need)"
   ]
  },
  {
   "cell_type": "code",
   "execution_count": null,
   "metadata": {},
   "outputs": [],
   "source": [
    "cals_I_need.estimate_time()"
   ]
  },
  {
   "cell_type": "markdown",
   "metadata": {},
   "source": [
    "# MOSFIRE Night Example"
   ]
  },
  {
   "cell_type": "code",
   "execution_count": null,
   "metadata": {},
   "outputs": [],
   "source": [
    "myOBs3 = ObservingBlockList([ObservingBlock(target=ngc1333, pattern=abba, detconfig=mosfire_180s, instconfig=singleobj_Y, repeat=2),\n",
    "                             ObservingBlock(target=ngc1333, pattern=abba, detconfig=mosfire_120s, instconfig=singleobj_J, repeat=2),\n",
    "                             ObservingBlock(target=ngc1333, pattern=long2pos_pattern, detconfig=mosfire_120s, instconfig=singleobj_H, repeat=2),\n",
    "                             ObservingBlock(target=ngc1333, pattern=long2pos_pattern, detconfig=mosfire_180s, instconfig=singleobj_K, repeat=2),\n",
    "                            ])\n",
    "print(myOBs3)"
   ]
  },
  {
   "cell_type": "code",
   "execution_count": null,
   "metadata": {},
   "outputs": [],
   "source": [
    "myOBs.extend(myOBs2)\n",
    "myOBs.extend(myOBs3)"
   ]
  },
  {
   "cell_type": "code",
   "execution_count": null,
   "metadata": {},
   "outputs": [],
   "source": [
    "myOBs"
   ]
  },
  {
   "cell_type": "code",
   "execution_count": null,
   "metadata": {},
   "outputs": [],
   "source": [
    "myOBs.cals()"
   ]
  },
  {
   "cell_type": "code",
   "execution_count": null,
   "metadata": {},
   "outputs": [],
   "source": []
  }
 ],
 "metadata": {
  "kernelspec": {
   "display_name": "Python 3",
   "language": "python",
   "name": "python3"
  },
  "language_info": {
   "codemirror_mode": {
    "name": "ipython",
    "version": 3
   },
   "file_extension": ".py",
   "mimetype": "text/x-python",
   "name": "python",
   "nbconvert_exporter": "python",
   "pygments_lexer": "ipython3",
   "version": "3.7.6"
  }
 },
 "nbformat": 4,
 "nbformat_minor": 4
}
