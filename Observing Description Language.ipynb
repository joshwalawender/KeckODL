{
 "cells": [
  {
   "cell_type": "markdown",
   "metadata": {},
   "source": [
    "# Target Description Language"
   ]
  },
  {
   "cell_type": "code",
   "execution_count": null,
   "metadata": {},
   "outputs": [],
   "source": [
    "from keckODL.target import Target, TargetList"
   ]
  },
  {
   "cell_type": "code",
   "execution_count": null,
   "metadata": {},
   "outputs": [],
   "source": [
    "# Example: fully specify target.  Coordinates in decimal degrees.\n",
    "t1 = Target(name='M42', RA=82.5, Dec=-5, frame='icrs',\n",
    "            PMRA=10, PMDec=-10, epoch=1975.5,\n",
    "            rotmode='PA', PA=90,\n",
    "            objecttype='science',\n",
    "            RAOffset=8.4, DecOffset=-4.5,\n",
    "            acquisition='guider: offset',\n",
    "            mag={'V': 4.3, 'K': 6.7},\n",
    "            comment='Star formation is cool',\n",
    "            wrap='shortest',\n",
    "           )\n",
    "t1"
   ]
  },
  {
   "cell_type": "code",
   "execution_count": null,
   "metadata": {},
   "outputs": [],
   "source": [
    "# Example: fully specify target.  Coordinates in hmsdms.\n",
    "t2 = Target(name='M31', RA='00:42:44.33', Dec='41:16:07.50',\n",
    "            rotmode='PA', PA=32,\n",
    "            RAOffset=12.1, DecOffset=-1.9,\n",
    "            objecttype='science',\n",
    "            acquisition='guider: offset',\n",
    "            mag={'V': 2.3, 'K': 8.7},\n",
    "            comment='Galaxies are boring',\n",
    "            wrap='north',\n",
    "           )\n",
    "t2"
   ]
  },
  {
   "cell_type": "code",
   "execution_count": null,
   "metadata": {},
   "outputs": [],
   "source": [
    "# Example: Resolve target by name.\n",
    "t3 = Target('NGC1333',\n",
    "            rotmode='PA', PA=22.5,\n",
    "            objecttype='science',\n",
    "            acquisition='blind',\n",
    "            comment='Low mass star formation is the coolest')\n",
    "t3"
   ]
  },
  {
   "cell_type": "code",
   "execution_count": null,
   "metadata": {},
   "outputs": [],
   "source": [
    "# Example: Resolve target by name, set vertical angle mode, set obstype\n",
    "t4 = Target('Feige110',\n",
    "            objecttype='flux standard',\n",
    "            rotmode='vertical',\n",
    "            acquisition='guider: bright',\n",
    "            comment='I guess we need a standard')\n",
    "t4"
   ]
  },
  {
   "cell_type": "code",
   "execution_count": null,
   "metadata": {},
   "outputs": [],
   "source": [
    "# Build a target list, write as TDL TAML file and as starlist\n",
    "tl = TargetList([t1, t2, t3, t4])\n",
    "tl.write('targets.txt')\n",
    "tl.write_starlist('starlist.txt')\n",
    "tl"
   ]
  },
  {
   "cell_type": "code",
   "execution_count": null,
   "metadata": {},
   "outputs": [],
   "source": [
    "# Read in a target list from the TDL YAML file\n",
    "newtl = TargetList().read('targets.txt')\n",
    "newtl"
   ]
  },
  {
   "cell_type": "code",
   "execution_count": null,
   "metadata": {},
   "outputs": [],
   "source": [
    "from astropy.time import Time\n",
    "tl.set_obstime(Time(2045.11, format='decimalyear'))\n",
    "tl"
   ]
  },
  {
   "cell_type": "markdown",
   "metadata": {},
   "source": [
    "# Observing Sequences"
   ]
  },
  {
   "cell_type": "markdown",
   "metadata": {},
   "source": [
    "## KCWI Example"
   ]
  },
  {
   "cell_type": "code",
   "execution_count": 1,
   "metadata": {},
   "outputs": [],
   "source": [
    "from keckODL.detector_config import KCWIblueDetectorConfig\n",
    "from keckODL.instrument_config import KCWIblueConfig\n",
    "from keckODL.offset import ABBA, Stare, StarSkyStar\n",
    "from keckODL.sequence import SequenceElement, Sequence"
   ]
  },
  {
   "cell_type": "code",
   "execution_count": 2,
   "metadata": {},
   "outputs": [
    {
     "name": "stdout",
     "output_type": "stream",
     "text": [
      "1800.0s (10)\n"
     ]
    }
   ],
   "source": [
    "kcwi_1800s = KCWIblueDetectorConfig(exptime=1800, binning='2x2')\n",
    "kcwi_1800s.write('kcwi_1800s.txt')\n",
    "print(kcwi_1800s)"
   ]
  },
  {
   "cell_type": "code",
   "execution_count": 3,
   "metadata": {},
   "outputs": [
    {
     "name": "stdout",
     "output_type": "stream",
     "text": [
      "medium BH3 4800 A\n"
     ]
    }
   ],
   "source": [
    "med_slicer_4800 = KCWIblueConfig(slicer='medium', grating='BH3', cwave=4800)\n",
    "print(med_slicer_4800)"
   ]
  },
  {
   "cell_type": "code",
   "execution_count": 4,
   "metadata": {},
   "outputs": [
    {
     "name": "stdout",
     "output_type": "stream",
     "text": [
      "StarSkyStar (30 30)\n"
     ]
    }
   ],
   "source": [
    "skyoffset = StarSkyStar(dx=30, dy=30)\n",
    "print(skyoffset)"
   ]
  },
  {
   "cell_type": "code",
   "execution_count": 5,
   "metadata": {},
   "outputs": [
    {
     "data": {
      "text/plain": [
       " dx(\")| dy(\")| dr(deg)|    name\n",
       "------|------|--------|--------\n",
       "  +0.0|  +0.0|    +0.0|    star\n",
       " +30.0| +30.0|    +0.0|     sky\n",
       "  +0.0|  +0.0|    +0.0|    star"
      ]
     },
     "execution_count": 5,
     "metadata": {},
     "output_type": "execute_result"
    }
   ],
   "source": [
    "skyoffset"
   ]
  },
  {
   "cell_type": "code",
   "execution_count": 6,
   "metadata": {},
   "outputs": [
    {
     "name": "stdout",
     "output_type": "stream",
     "text": [
      "Pattern            |DetectorConfig               |InstrumentConfig             |repeat\n",
      "-------------------|-----------------------------|-----------------------------|------\n",
      "StarSkyStar (30 30)|1800.0s (10)                 |medium BH3 4800 A            |     3\n"
     ]
    }
   ],
   "source": [
    "myseq = Sequence([SequenceElement(pattern=skyoffset,\n",
    "                                  detconfig=kcwi_1800s,\n",
    "                                  instconfig=med_slicer_4800,\n",
    "                                  repeat=3),\n",
    "                  ])\n",
    "print(myseq)"
   ]
  },
  {
   "cell_type": "code",
   "execution_count": 7,
   "metadata": {},
   "outputs": [
    {
     "name": "stdout",
     "output_type": "stream",
     "text": [
      "Shutter Open Time: 16200 s (4.5 hrs)\n"
     ]
    },
    {
     "data": {
      "text/plain": [
       "{'shutter open time': 16200, 'wall clock time': 0}"
      ]
     },
     "execution_count": 7,
     "metadata": {},
     "output_type": "execute_result"
    }
   ],
   "source": [
    "myseq.estimate_time()"
   ]
  },
  {
   "cell_type": "markdown",
   "metadata": {},
   "source": [
    "## MOSFIRE Example"
   ]
  },
  {
   "cell_type": "code",
   "execution_count": null,
   "metadata": {},
   "outputs": [],
   "source": [
    "from keckODL.detector_config import MOSFIREDetectorConfig\n",
    "from keckODL.instrument_config import MOSFIREConfig\n",
    "from keckODL.offset import ABBA, Long2pos\n",
    "from keckODL.sequence import SequenceElement, Sequence"
   ]
  },
  {
   "cell_type": "code",
   "execution_count": null,
   "metadata": {},
   "outputs": [],
   "source": [
    "# detector configs\n",
    "mosfire_180s = MOSFIREDetectorConfig(exptime=180, readoutmode='MCDS16', coadds=1)\n",
    "mosfire_180s.write('mosfire_180s.txt')\n",
    "mosfire_120s = MOSFIREDetectorConfig(exptime=120, readoutmode='MCDS16', coadds=1)\n",
    "mosfire_120s.write('mosfire_120s.txt')\n",
    "print(mosfire_180s)\n",
    "print(mosfire_120s)"
   ]
  },
  {
   "cell_type": "code",
   "execution_count": null,
   "metadata": {},
   "outputs": [],
   "source": [
    "# instrument configs\n",
    "mosfire_Y = MOSFIREConfig(mode='spectroscopy', filter='Y', mask='my_MOS_mask')\n",
    "mosfire_J = MOSFIREConfig(mode='spectroscopy', filter='J', mask='my_MOS_mask')\n",
    "mosfire_H = MOSFIREConfig(mode='spectroscopy', filter='H', mask='my_MOS_mask')\n",
    "mosfire_K = MOSFIREConfig(mode='spectroscopy', filter='K', mask='my_MOS_mask')\n",
    "print(mosfire_Y)\n",
    "print(mosfire_J)\n",
    "print(mosfire_H)\n",
    "print(mosfire_K)"
   ]
  },
  {
   "cell_type": "code",
   "execution_count": null,
   "metadata": {},
   "outputs": [],
   "source": [
    "abba = ABBA(offset=1.5)\n",
    "print(abba)"
   ]
  },
  {
   "cell_type": "code",
   "execution_count": null,
   "metadata": {},
   "outputs": [],
   "source": [
    "abba"
   ]
  },
  {
   "cell_type": "code",
   "execution_count": null,
   "metadata": {},
   "outputs": [],
   "source": [
    "# sequence\n",
    "myseq_mosfire = Sequence([SequenceElement(pattern=abba, detconfig=mosfire_180s, instconfig=mosfire_Y, repeat=5),\n",
    "                          SequenceElement(pattern=abba, detconfig=mosfire_120s, instconfig=mosfire_J, repeat=8),\n",
    "                          SequenceElement(pattern=abba, detconfig=mosfire_120s, instconfig=mosfire_H, repeat=8),\n",
    "                          SequenceElement(pattern=abba, detconfig=mosfire_180s, instconfig=mosfire_K, repeat=5),\n",
    "                         ])\n",
    "print(myseq_mosfire)"
   ]
  },
  {
   "cell_type": "code",
   "execution_count": null,
   "metadata": {},
   "outputs": [],
   "source": []
  },
  {
   "cell_type": "markdown",
   "metadata": {},
   "source": [
    "## MOSFIRE Example 2"
   ]
  },
  {
   "cell_type": "code",
   "execution_count": null,
   "metadata": {},
   "outputs": [],
   "source": [
    "singleobj_Y = MOSFIREConfig(mode='spectroscopy', filter='Y', mask='longslit_3x0.7')\n",
    "singleobj_J = MOSFIREConfig(mode='spectroscopy', filter='J', mask='longslit_3x0.7')\n",
    "singleobj_H = MOSFIREConfig(mode='spectroscopy', filter='H', mask='long2pos')\n",
    "singleobj_K = MOSFIREConfig(mode='spectroscopy', filter='K', mask='long2pos')\n",
    "print(mosfire_Y)\n",
    "print(mosfire_J)\n",
    "print(mosfire_H)\n",
    "print(mosfire_K)"
   ]
  },
  {
   "cell_type": "code",
   "execution_count": null,
   "metadata": {},
   "outputs": [],
   "source": [
    "long2pos = Long2pos()\n",
    "print(long2pos)"
   ]
  },
  {
   "cell_type": "code",
   "execution_count": null,
   "metadata": {},
   "outputs": [],
   "source": [
    "long2pos"
   ]
  },
  {
   "cell_type": "code",
   "execution_count": null,
   "metadata": {},
   "outputs": [],
   "source": [
    "# sequence\n",
    "myseq2_mosfire = Sequence([SequenceElement(pattern=abba, detconfig=mosfire_180s, instconfig=singleobj_Y, repeat=2),\n",
    "                           SequenceElement(pattern=abba, detconfig=mosfire_120s, instconfig=singleobj_J, repeat=2),\n",
    "                           SequenceElement(pattern=long2pos, detconfig=mosfire_120s, instconfig=singleobj_H, repeat=2),\n",
    "                           SequenceElement(pattern=long2pos, detconfig=mosfire_180s, instconfig=singleobj_K, repeat=2),\n",
    "                          ])\n",
    "print(myseq2_mosfire)"
   ]
  },
  {
   "cell_type": "code",
   "execution_count": null,
   "metadata": {},
   "outputs": [],
   "source": []
  }
 ],
 "metadata": {
  "kernelspec": {
   "display_name": "Python 3",
   "language": "python",
   "name": "python3"
  },
  "language_info": {
   "codemirror_mode": {
    "name": "ipython",
    "version": 3
   },
   "file_extension": ".py",
   "mimetype": "text/x-python",
   "name": "python",
   "nbconvert_exporter": "python",
   "pygments_lexer": "ipython3",
   "version": "3.7.6"
  }
 },
 "nbformat": 4,
 "nbformat_minor": 4
}
