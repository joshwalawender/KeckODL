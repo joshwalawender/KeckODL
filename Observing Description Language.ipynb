{
 "cells": [
  {
   "cell_type": "markdown",
   "metadata": {},
   "source": [
    "# Target Description Language"
   ]
  },
  {
   "cell_type": "code",
   "execution_count": 1,
   "metadata": {},
   "outputs": [],
   "source": [
    "from target import Target, TargetList"
   ]
  },
  {
   "cell_type": "code",
   "execution_count": 2,
   "metadata": {},
   "outputs": [
    {
     "data": {
      "text/plain": [
       "M42              05 30 29.61 -05 07 22.34 2000 rotmode=PA PA=90.0 raoff=8.4 decoff=-4.5 wrap=shortest vmag=4.30 # Vmag=4.30 Kmag=6.70 Star formation is cool"
      ]
     },
     "execution_count": 2,
     "metadata": {},
     "output_type": "execute_result"
    }
   ],
   "source": [
    "# Example: fully specify target.  Coordinates in decimal degrees.\n",
    "t1 = Target(name='M42', RA=82.5, Dec=-5, frame='icrs',\n",
    "            PMRA=10, PMDec=-10, epoch=1975.5,\n",
    "            rotmode='PA', PA=90,\n",
    "            objecttype='science',\n",
    "            RAOffset=8.4, DecOffset=-4.5,\n",
    "            acquisition='guider: offset',\n",
    "            mag={'V': 4.3, 'K': 6.7},\n",
    "            comment='Star formation is cool',\n",
    "            wrap='shortest',\n",
    "           )\n",
    "t1"
   ]
  },
  {
   "cell_type": "code",
   "execution_count": 3,
   "metadata": {},
   "outputs": [
    {
     "data": {
      "text/plain": [
       "M31              00 42 44.33 +41 16 07.50 2000 rotmode=PA PA=32.0 raoff=12.1 decoff=-1.9 wrap=north vmag=2.30 # Vmag=2.30 Kmag=8.70 Galaxies are boring"
      ]
     },
     "execution_count": 3,
     "metadata": {},
     "output_type": "execute_result"
    }
   ],
   "source": [
    "# Example: fully specify target.  Coordinates in hmsdms.\n",
    "t2 = Target(name='M31', RA='00:42:44.33', Dec='41:16:07.50',\n",
    "            rotmode='PA', PA=32,\n",
    "            RAOffset=12.1, DecOffset=-1.9,\n",
    "            objecttype='science',\n",
    "            acquisition='guider: offset',\n",
    "            mag={'V': 2.3, 'K': 8.7},\n",
    "            comment='Galaxies are boring',\n",
    "            wrap='north',\n",
    "           )\n",
    "t2"
   ]
  },
  {
   "cell_type": "code",
   "execution_count": 4,
   "metadata": {},
   "outputs": [
    {
     "data": {
      "text/plain": [
       "NGC1333          03 29 08.95 +31 22 07.68 2000 rotmode=PA PA=22.5 # Low mass star formation is the coolest"
      ]
     },
     "execution_count": 4,
     "metadata": {},
     "output_type": "execute_result"
    }
   ],
   "source": [
    "# Example: Resolve target by name.\n",
    "t3 = Target('NGC1333',\n",
    "            rotmode='PA', PA=22.5,\n",
    "            objecttype='science',\n",
    "            acquisition='blind',\n",
    "            comment='Low mass star formation is the coolest')\n",
    "t3"
   ]
  },
  {
   "cell_type": "code",
   "execution_count": 5,
   "metadata": {},
   "outputs": [
    {
     "name": "stderr",
     "output_type": "stream",
     "text": [
      "/Users/joshw/git/KeckODL/target.py:259: TargetWarning: No PA given, assuming 0 deg\n",
      "  warn('No PA given, assuming 0 deg', category=TargetWarning)\n"
     ]
    },
    {
     "data": {
      "text/plain": [
       "Feige110         23 19 58.40 -05 09 56.17 2000 rotmode=vertical PA=0.0 # I guess we need a standard"
      ]
     },
     "execution_count": 5,
     "metadata": {},
     "output_type": "execute_result"
    }
   ],
   "source": [
    "# Example: Resolve target by name, set vertical angle mode, set obstype\n",
    "t4 = Target('Feige110',\n",
    "            objecttype='flux standard',\n",
    "            rotmode='vertical',\n",
    "            acquisition='guider: bright',\n",
    "            comment='I guess we need a standard')\n",
    "t4"
   ]
  },
  {
   "cell_type": "code",
   "execution_count": 6,
   "metadata": {},
   "outputs": [
    {
     "data": {
      "text/plain": [
       "M42              05 30 29.61 -05 07 22.34 2000 rotmode=PA PA=90.0 raoff=8.4 decoff=-4.5 wrap=shortest vmag=4.30 # Vmag=4.30 Kmag=6.70 Star formation is cool\n",
       "M31              00 42 44.33 +41 16 07.50 2000 rotmode=PA PA=32.0 raoff=12.1 decoff=-1.9 wrap=north vmag=2.30 # Vmag=2.30 Kmag=8.70 Galaxies are boring\n",
       "NGC1333          03 29 08.95 +31 22 07.68 2000 rotmode=PA PA=22.5 # Low mass star formation is the coolest\n",
       "Feige110         23 19 58.40 -05 09 56.17 2000 rotmode=vertical PA=0.0 # I guess we need a standard"
      ]
     },
     "execution_count": 6,
     "metadata": {},
     "output_type": "execute_result"
    }
   ],
   "source": [
    "# Build a target list, write as TDL TAML file and as starlist\n",
    "tl = TargetList([t1, t2, t3, t4])\n",
    "tl.write('targets.txt')\n",
    "tl.write_starlist('starlist.txt')\n",
    "tl"
   ]
  },
  {
   "cell_type": "code",
   "execution_count": 7,
   "metadata": {},
   "outputs": [
    {
     "data": {
      "text/plain": [
       "M42              05 30 29.61 -05 07 22.32 2000 rotmode=PA PA=90.0 raoff=8.4 decoff=-4.5 vmag=4.30 # Kmag=6.70 Vmag=4.30 Star formation is cool\n",
       "M31              00 42 44.33 +41 16 07.50 2000 rotmode=PA PA=32.0 raoff=12.1 decoff=-1.9 vmag=2.30 # Kmag=8.70 Vmag=2.30 Galaxies are boring\n",
       "NGC1333          03 29 08.95 +31 22 07.68 2000 rotmode=PA PA=22.5 # Low mass star formation is the coolest\n",
       "Feige110         23 19 58.40 -05 09 56.17 2000 rotmode=vertical PA=0.0 # I guess we need a standard"
      ]
     },
     "execution_count": 7,
     "metadata": {},
     "output_type": "execute_result"
    }
   ],
   "source": [
    "# Read in a target list from the TDL YAML file\n",
    "newtl = TargetList().read('targets.txt')\n",
    "newtl"
   ]
  },
  {
   "cell_type": "code",
   "execution_count": 8,
   "metadata": {},
   "outputs": [
    {
     "name": "stderr",
     "output_type": "stream",
     "text": [
      "WARNING: ErfaWarning: ERFA function \"dtf2d\" yielded 1 of \"dubious year (Note 6)\" [astropy._erfa.core]\n",
      "WARNING: ErfaWarning: ERFA function \"utctai\" yielded 1 of \"dubious year (Note 3)\" [astropy._erfa.core]\n",
      "WARNING: ErfaWarning: ERFA function \"taiutc\" yielded 1 of \"dubious year (Note 4)\" [astropy._erfa.core]\n"
     ]
    },
    {
     "data": {
      "text/plain": [
       "M42              05 30 45.44 -05 11 18.69 2000 rotmode=PA PA=90.0 raoff=8.4 decoff=-4.5 wrap=shortest vmag=4.30 # Vmag=4.30 Kmag=6.70 Star formation is cool\n",
       "M31              00 42 44.33 +41 16 07.50 2000 rotmode=PA PA=32.0 raoff=12.1 decoff=-1.9 wrap=north vmag=2.30 # Vmag=2.30 Kmag=8.70 Galaxies are boring\n",
       "NGC1333          03 29 08.95 +31 22 07.68 2000 rotmode=PA PA=22.5 # Low mass star formation is the coolest\n",
       "Feige110         23 19 58.40 -05 09 56.17 2000 rotmode=vertical PA=0.0 # I guess we need a standard"
      ]
     },
     "execution_count": 8,
     "metadata": {},
     "output_type": "execute_result"
    }
   ],
   "source": [
    "from astropy.time import Time\n",
    "tl.set_obstime(Time(2045.11, format='decimalyear'))\n",
    "tl"
   ]
  },
  {
   "cell_type": "markdown",
   "metadata": {},
   "source": [
    "# Observing Sequences"
   ]
  },
  {
   "cell_type": "markdown",
   "metadata": {},
   "source": [
    "## KCWI Example"
   ]
  },
  {
   "cell_type": "code",
   "execution_count": 9,
   "metadata": {},
   "outputs": [],
   "source": [
    "from detector_config import KCWIblueDetectorConfig\n",
    "from instrument_config import KCWIblueConfig\n",
    "from offset import ABBA, Stare, StarSkyStar\n",
    "from sequence import SequenceElement, Sequence"
   ]
  },
  {
   "cell_type": "code",
   "execution_count": 10,
   "metadata": {},
   "outputs": [
    {
     "name": "stdout",
     "output_type": "stream",
     "text": [
      "1800.0s (10)\n"
     ]
    }
   ],
   "source": [
    "kcwi_1800s = KCWIblueDetectorConfig(exptime=1800, binning='2x2')\n",
    "print(kcwi_1800s)"
   ]
  },
  {
   "cell_type": "code",
   "execution_count": 11,
   "metadata": {},
   "outputs": [
    {
     "name": "stdout",
     "output_type": "stream",
     "text": [
      "medium BH3 4800 A\n"
     ]
    }
   ],
   "source": [
    "med_slicer_4800 = KCWIblueConfig(slicer='medium', grating='BH3', cwave=4800)\n",
    "print(med_slicer_4800)"
   ]
  },
  {
   "cell_type": "code",
   "execution_count": 12,
   "metadata": {},
   "outputs": [
    {
     "name": "stdout",
     "output_type": "stream",
     "text": [
      "StarSkyStar (30 30)\n"
     ]
    }
   ],
   "source": [
    "skyoffset = StarSkyStar(dx=30, dy=30)\n",
    "print(skyoffset)"
   ]
  },
  {
   "cell_type": "code",
   "execution_count": 13,
   "metadata": {},
   "outputs": [
    {
     "name": "stdout",
     "output_type": "stream",
     "text": [
      "Pattern            |DetectorConfig               |InstrumentConfig             |repeat\n",
      "-------------------|-----------------------------|-----------------------------|------\n",
      "StarSkyStar (30 30)|1800.0s (10)                 |medium BH3 4800 A            |     5\n"
     ]
    }
   ],
   "source": [
    "myseq = Sequence([SequenceElement(pattern=skyoffset,\n",
    "                                  detconfig=kcwi_1800s,\n",
    "                                  instconfig=med_slicer_4800,\n",
    "                                  repeat=5),\n",
    "                  ])\n",
    "print(myseq)"
   ]
  },
  {
   "cell_type": "markdown",
   "metadata": {},
   "source": [
    "## MOSFIRE Example"
   ]
  },
  {
   "cell_type": "code",
   "execution_count": 14,
   "metadata": {},
   "outputs": [],
   "source": [
    "from detector_config import MOSFIREDetectorConfig\n",
    "from instrument_config import MOSFIREConfig\n",
    "from offset import ABBA\n",
    "from sequence import SequenceElement, Sequence"
   ]
  },
  {
   "cell_type": "code",
   "execution_count": 15,
   "metadata": {},
   "outputs": [
    {
     "name": "stdout",
     "output_type": "stream",
     "text": [
      "180.0s (MCDS16, 1 coadds)\n",
      "120.0s (MCDS16, 1 coadds)\n"
     ]
    }
   ],
   "source": [
    "# detector configs\n",
    "mosfire_180s = MOSFIREDetectorConfig(exptime=180, readoutmode='MCDS16', coadds=1)\n",
    "mosfire_120s = MOSFIREDetectorConfig(exptime=120, readoutmode='MCDS16', coadds=1)\n",
    "print(mosfire_180s)\n",
    "print(mosfire_120s)"
   ]
  },
  {
   "cell_type": "code",
   "execution_count": 16,
   "metadata": {},
   "outputs": [
    {
     "name": "stdout",
     "output_type": "stream",
     "text": [
      "my_MOS_mask Y-spectroscopy\n",
      "my_MOS_mask J-spectroscopy\n",
      "my_MOS_mask H-spectroscopy\n",
      "my_MOS_mask K-spectroscopy\n"
     ]
    }
   ],
   "source": [
    "# instrument configs\n",
    "mosfire_Y = MOSFIREConfig(mode='spectroscopy', filter='Y', mask='my_MOS_mask')\n",
    "mosfire_J = MOSFIREConfig(mode='spectroscopy', filter='J', mask='my_MOS_mask')\n",
    "mosfire_H = MOSFIREConfig(mode='spectroscopy', filter='H', mask='my_MOS_mask')\n",
    "mosfire_K = MOSFIREConfig(mode='spectroscopy', filter='K', mask='my_MOS_mask')\n",
    "print(mosfire_Y)\n",
    "print(mosfire_J)\n",
    "print(mosfire_H)\n",
    "print(mosfire_K)"
   ]
  },
  {
   "cell_type": "code",
   "execution_count": 17,
   "metadata": {},
   "outputs": [
    {
     "name": "stdout",
     "output_type": "stream",
     "text": [
      "ABBA (1.5)\n"
     ]
    }
   ],
   "source": [
    "abba = ABBA(offset=1.5)\n",
    "print(abba)"
   ]
  },
  {
   "cell_type": "code",
   "execution_count": 18,
   "metadata": {},
   "outputs": [
    {
     "data": {
      "text/plain": [
       " dx(\")| dy(\")| dr(deg)\n",
       "------|------|--------\n",
       "  +0.0|  +1.5|    +0.0\n",
       "  +0.0|  -1.5|    +0.0\n",
       "  +0.0|  -1.5|    +0.0\n",
       "  +0.0|  +1.5|    +0.0"
      ]
     },
     "execution_count": 18,
     "metadata": {},
     "output_type": "execute_result"
    }
   ],
   "source": [
    "abba"
   ]
  },
  {
   "cell_type": "code",
   "execution_count": 19,
   "metadata": {},
   "outputs": [
    {
     "name": "stdout",
     "output_type": "stream",
     "text": [
      "Pattern            |DetectorConfig               |InstrumentConfig             |repeat\n",
      "-------------------|-----------------------------|-----------------------------|------\n",
      "ABBA (1.5)         |180.0s (MCDS16, 1 coadds)    |my_MOS_mask Y-spectroscopy   |     5\n",
      "ABBA (1.5)         |120.0s (MCDS16, 1 coadds)    |my_MOS_mask J-spectroscopy   |     8\n",
      "ABBA (1.5)         |120.0s (MCDS16, 1 coadds)    |my_MOS_mask H-spectroscopy   |     8\n",
      "ABBA (1.5)         |180.0s (MCDS16, 1 coadds)    |my_MOS_mask K-spectroscopy   |     5\n"
     ]
    }
   ],
   "source": [
    "# sequence\n",
    "myseq_mosfire = Sequence([SequenceElement(pattern=abba, detconfig=mosfire_180s, instconfig=mosfire_Y, repeat=5),\n",
    "                          SequenceElement(pattern=abba, detconfig=mosfire_120s, instconfig=mosfire_J, repeat=8),\n",
    "                          SequenceElement(pattern=abba, detconfig=mosfire_120s, instconfig=mosfire_H, repeat=8),\n",
    "                          SequenceElement(pattern=abba, detconfig=mosfire_180s, instconfig=mosfire_K, repeat=5),\n",
    "                         ])\n",
    "print(myseq_mosfire)"
   ]
  },
  {
   "cell_type": "code",
   "execution_count": null,
   "metadata": {},
   "outputs": [],
   "source": []
  }
 ],
 "metadata": {
  "kernelspec": {
   "display_name": "Python 3",
   "language": "python",
   "name": "python3"
  },
  "language_info": {
   "codemirror_mode": {
    "name": "ipython",
    "version": 3
   },
   "file_extension": ".py",
   "mimetype": "text/x-python",
   "name": "python",
   "nbconvert_exporter": "python",
   "pygments_lexer": "ipython3",
   "version": "3.7.6"
  }
 },
 "nbformat": 4,
 "nbformat_minor": 4
}
