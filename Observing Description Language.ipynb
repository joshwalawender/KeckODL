{
 "cells": [
  {
   "cell_type": "markdown",
   "metadata": {},
   "source": [
    "# Target Description Language"
   ]
  },
  {
   "cell_type": "code",
   "execution_count": null,
   "metadata": {},
   "outputs": [],
   "source": [
    "from keckODL.target import Target, TargetList"
   ]
  },
  {
   "cell_type": "code",
   "execution_count": null,
   "metadata": {},
   "outputs": [],
   "source": [
    "# Example: fully specify target.  Coordinates in decimal degrees.\n",
    "t1 = Target(name='M42', RA=82.5, Dec=-5, frame='icrs',\n",
    "            PMRA=10, PMDec=-10, epoch=1975.5,\n",
    "            rotmode='PA', PA=90,\n",
    "            objecttype='science',\n",
    "            RAOffset=8.4, DecOffset=-4.5,\n",
    "            acquisition='guider: offset',\n",
    "            mag={'V': 4.3, 'K': 6.7},\n",
    "            comment='Star formation is cool',\n",
    "            wrap='shortest',\n",
    "           )\n",
    "t1"
   ]
  },
  {
   "cell_type": "code",
   "execution_count": null,
   "metadata": {},
   "outputs": [],
   "source": [
    "# Example: fully specify target.  Coordinates in hmsdms.\n",
    "t2 = Target(name='M31', RA='00:42:44.33', Dec='41:16:07.50',\n",
    "            rotmode='PA', PA=32,\n",
    "            RAOffset=12.1, DecOffset=-1.9,\n",
    "            objecttype='science',\n",
    "            acquisition='guider: offset',\n",
    "            mag={'V': 2.3, 'K': 8.7},\n",
    "            comment='Galaxies are boring',\n",
    "            wrap='north',\n",
    "           )\n",
    "t2"
   ]
  },
  {
   "cell_type": "code",
   "execution_count": null,
   "metadata": {},
   "outputs": [],
   "source": [
    "# Example: Resolve target by name.\n",
    "t3 = Target('NGC1333',\n",
    "            rotmode='PA', PA=22.5,\n",
    "            objecttype='science',\n",
    "            acquisition='blind',\n",
    "            comment='Low mass star formation is the coolest')\n",
    "t3"
   ]
  },
  {
   "cell_type": "code",
   "execution_count": null,
   "metadata": {},
   "outputs": [],
   "source": [
    "# Example: Resolve target by name, set vertical angle mode, set obstype\n",
    "t4 = Target('Feige110',\n",
    "            objecttype='flux standard',\n",
    "            rotmode='vertical',\n",
    "            acquisition='guider: bright',\n",
    "            comment='I guess we need a standard')\n",
    "t4"
   ]
  },
  {
   "cell_type": "code",
   "execution_count": null,
   "metadata": {},
   "outputs": [],
   "source": [
    "# Build a target list, write as TDL TAML file and as starlist\n",
    "tl = TargetList([t1, t2, t3, t4])\n",
    "tl.write('targets.txt')\n",
    "tl.write_starlist('starlist.txt')\n",
    "tl"
   ]
  },
  {
   "cell_type": "code",
   "execution_count": null,
   "metadata": {},
   "outputs": [],
   "source": [
    "# Read in a target list from the TDL YAML file\n",
    "newtl = TargetList().read('targets.txt')\n",
    "newtl"
   ]
  },
  {
   "cell_type": "code",
   "execution_count": null,
   "metadata": {},
   "outputs": [],
   "source": [
    "from astropy.time import Time\n",
    "tl.set_obstime(Time(2045.11, format='decimalyear'))\n",
    "tl"
   ]
  },
  {
   "cell_type": "markdown",
   "metadata": {},
   "source": [
    "# Observing Sequences"
   ]
  },
  {
   "cell_type": "markdown",
   "metadata": {},
   "source": [
    "## KCWI Example"
   ]
  },
  {
   "cell_type": "code",
   "execution_count": 1,
   "metadata": {},
   "outputs": [],
   "source": [
    "from keckODL.kcwi import KCWIblueDetectorConfig\n",
    "from keckODL.kcwi import KCWIblueConfig\n",
    "from keckODL.offset import ABBA, Stare, StarSkyStar\n",
    "from keckODL.sequence import SequenceElement, Sequence"
   ]
  },
  {
   "cell_type": "code",
   "execution_count": 2,
   "metadata": {},
   "outputs": [
    {
     "name": "stdout",
     "output_type": "stream",
     "text": [
      "1800.0s (10)\n"
     ]
    }
   ],
   "source": [
    "kcwi_1800s = KCWIblueDetectorConfig(exptime=1800, binning='2x2')\n",
    "kcwi_1800s.write('kcwi_1800s.txt')\n",
    "print(kcwi_1800s)"
   ]
  },
  {
   "cell_type": "code",
   "execution_count": 3,
   "metadata": {},
   "outputs": [
    {
     "name": "stdout",
     "output_type": "stream",
     "text": [
      "medium BH3 4800 A\n"
     ]
    }
   ],
   "source": [
    "med_slicer_4800 = KCWIblueConfig(slicer='medium', grating='BH3', cwave=4800)\n",
    "print(med_slicer_4800)"
   ]
  },
  {
   "cell_type": "code",
   "execution_count": 4,
   "metadata": {},
   "outputs": [
    {
     "name": "stdout",
     "output_type": "stream",
     "text": [
      "StarSkyStar (30 30)\n"
     ]
    }
   ],
   "source": [
    "skyoffset = StarSkyStar(dx=30, dy=30)\n",
    "print(skyoffset)"
   ]
  },
  {
   "cell_type": "code",
   "execution_count": 5,
   "metadata": {},
   "outputs": [
    {
     "data": {
      "text/plain": [
       "Frame: SkyFrame\n",
       " dx(\")| dy(\")| dr(deg)|    name\n",
       "------|------|--------|--------\n",
       "  +0.0|  +0.0|    +0.0|    star\n",
       " +30.0| +30.0|    +0.0|     sky\n",
       "  +0.0|  +0.0|    +0.0|    star"
      ]
     },
     "execution_count": 5,
     "metadata": {},
     "output_type": "execute_result"
    }
   ],
   "source": [
    "skyoffset"
   ]
  },
  {
   "cell_type": "code",
   "execution_count": 6,
   "metadata": {},
   "outputs": [
    {
     "name": "stdout",
     "output_type": "stream",
     "text": [
      "Pattern            |repeat |DetectorConfig               |InstrumentConfig                             \n",
      "-------------------|-------|-----------------------------|---------------------------------------------\n",
      "StarSkyStar (30 30)|     3 |1800.0s (10)                 |medium BH3 4800 A                            \n"
     ]
    }
   ],
   "source": [
    "myseq = Sequence([SequenceElement(pattern=skyoffset,\n",
    "                                  detconfig=kcwi_1800s,\n",
    "                                  instconfig=med_slicer_4800,\n",
    "                                  repeat=3),\n",
    "                  ])\n",
    "print(myseq)"
   ]
  },
  {
   "cell_type": "code",
   "execution_count": 7,
   "metadata": {},
   "outputs": [
    {
     "name": "stdout",
     "output_type": "stream",
     "text": [
      "Shutter Open Time: 16200 s (4.5 hrs)\n",
      "Wall Clock Time: 16200 s (4.5 hrs)\n"
     ]
    }
   ],
   "source": [
    "myseq.estimate_time()"
   ]
  },
  {
   "cell_type": "markdown",
   "metadata": {},
   "source": [
    "## MOSFIRE Example"
   ]
  },
  {
   "cell_type": "code",
   "execution_count": 8,
   "metadata": {},
   "outputs": [],
   "source": [
    "from keckODL.mosfire import MOSFIREDetectorConfig\n",
    "from keckODL.mosfire import MOSFIREConfig\n",
    "from keckODL.offset import ABBA, Long2pos, Stare\n",
    "from keckODL.sequence import SequenceElement, Sequence"
   ]
  },
  {
   "cell_type": "code",
   "execution_count": 9,
   "metadata": {},
   "outputs": [
    {
     "name": "stdout",
     "output_type": "stream",
     "text": [
      "180.0s (MCDS16, 1 coadds)\n",
      "120.0s (MCDS16, 1 coadds)\n"
     ]
    }
   ],
   "source": [
    "# detector configs\n",
    "mosfire_180s = MOSFIREDetectorConfig(exptime=180, readoutmode='MCDS16', coadds=1)\n",
    "mosfire_180s.write('mosfire_180s.txt')\n",
    "mosfire_120s = MOSFIREDetectorConfig(exptime=120, readoutmode='MCDS16', coadds=1)\n",
    "mosfire_120s.write('mosfire_120s.txt')\n",
    "print(mosfire_180s)\n",
    "print(mosfire_120s)"
   ]
  },
  {
   "cell_type": "code",
   "execution_count": 10,
   "metadata": {},
   "outputs": [
    {
     "name": "stdout",
     "output_type": "stream",
     "text": [
      "my_MOS_mask Y-spectroscopy\n",
      "my_MOS_mask J-spectroscopy\n",
      "my_MOS_mask H-spectroscopy\n",
      "my_MOS_mask K-spectroscopy\n"
     ]
    }
   ],
   "source": [
    "# instrument configs\n",
    "mosfire_Y = MOSFIREConfig(mode='spectroscopy', filter='Y', mask='my_MOS_mask')\n",
    "mosfire_J = MOSFIREConfig(mode='spectroscopy', filter='J', mask='my_MOS_mask')\n",
    "mosfire_H = MOSFIREConfig(mode='spectroscopy', filter='H', mask='my_MOS_mask')\n",
    "mosfire_K = MOSFIREConfig(mode='spectroscopy', filter='K', mask='my_MOS_mask')\n",
    "print(mosfire_Y)\n",
    "print(mosfire_J)\n",
    "print(mosfire_H)\n",
    "print(mosfire_K)"
   ]
  },
  {
   "cell_type": "code",
   "execution_count": 11,
   "metadata": {},
   "outputs": [
    {
     "name": "stdout",
     "output_type": "stream",
     "text": [
      "ABBA (1.5)\n"
     ]
    }
   ],
   "source": [
    "abba = ABBA(offset=1.5)\n",
    "print(abba)"
   ]
  },
  {
   "cell_type": "code",
   "execution_count": 12,
   "metadata": {},
   "outputs": [
    {
     "data": {
      "text/plain": [
       "Frame: SkyFrame\n",
       " dx(\")| dy(\")| dr(deg)|    name\n",
       "------|------|--------|--------\n",
       "  +0.0|  +1.5|    +0.0|       A\n",
       "  +0.0|  -1.5|    +0.0|       B\n",
       "  +0.0|  -1.5|    +0.0|       B\n",
       "  +0.0|  +1.5|    +0.0|       A"
      ]
     },
     "execution_count": 12,
     "metadata": {},
     "output_type": "execute_result"
    }
   ],
   "source": [
    "abba"
   ]
  },
  {
   "cell_type": "code",
   "execution_count": 13,
   "metadata": {},
   "outputs": [
    {
     "name": "stdout",
     "output_type": "stream",
     "text": [
      "Pattern            |repeat |DetectorConfig               |InstrumentConfig                             \n",
      "-------------------|-------|-----------------------------|---------------------------------------------\n",
      "ABBA (1.5)         |     5 |180.0s (MCDS16, 1 coadds)    |my_MOS_mask Y-spectroscopy                   \n",
      "ABBA (1.5)         |     8 |120.0s (MCDS16, 1 coadds)    |my_MOS_mask J-spectroscopy                   \n",
      "ABBA (1.5)         |     8 |120.0s (MCDS16, 1 coadds)    |my_MOS_mask H-spectroscopy                   \n",
      "ABBA (1.5)         |     5 |180.0s (MCDS16, 1 coadds)    |my_MOS_mask K-spectroscopy                   \n"
     ]
    }
   ],
   "source": [
    "# sequence\n",
    "myseq_mosfire = Sequence([SequenceElement(pattern=abba, detconfig=mosfire_180s, instconfig=mosfire_Y, repeat=5),\n",
    "                          SequenceElement(pattern=abba, detconfig=mosfire_120s, instconfig=mosfire_J, repeat=8),\n",
    "                          SequenceElement(pattern=abba, detconfig=mosfire_120s, instconfig=mosfire_H, repeat=8),\n",
    "                          SequenceElement(pattern=abba, detconfig=mosfire_180s, instconfig=mosfire_K, repeat=5),\n",
    "                         ])\n",
    "print(myseq_mosfire)"
   ]
  },
  {
   "cell_type": "code",
   "execution_count": 14,
   "metadata": {},
   "outputs": [
    {
     "name": "stdout",
     "output_type": "stream",
     "text": [
      "Shutter Open Time: 14880 s (4.1 hrs)\n",
      "Wall Clock Time: 14880 s (4.1 hrs)\n"
     ]
    }
   ],
   "source": [
    "myseq_mosfire.estimate_time()"
   ]
  },
  {
   "cell_type": "code",
   "execution_count": 15,
   "metadata": {},
   "outputs": [
    {
     "name": "stdout",
     "output_type": "stream",
     "text": [
      "Pattern            |repeat |DetectorConfig               |InstrumentConfig                             \n",
      "-------------------|-------|-----------------------------|---------------------------------------------\n",
      "Stare              |     7 |11.0s (CDS, 1 coadds)        |my_MOS_mask Y-spectroscopy domeflatlamp=True \n",
      "Stare              |     7 |11.0s (CDS, 1 coadds)        |my_MOS_mask J-spectroscopy domeflatlamp=True \n",
      "Stare              |     7 |11.0s (CDS, 1 coadds)        |my_MOS_mask H-spectroscopy domeflatlamp=True \n",
      "Stare              |     7 |11.0s (CDS, 1 coadds)        |my_MOS_mask K-spectroscopy domeflatlamp=True \n",
      "Stare              |     7 |11.0s (CDS, 1 coadds)        |my_MOS_mask K-spectroscopy domeflatlamp=False\n",
      "Stare              |     2 |1.0s (CDS, 1 coadds)         |my_MOS_mask K-spectroscopy arclamp=Ne        \n",
      "Stare              |     2 |1.0s (CDS, 1 coadds)         |my_MOS_mask K-spectroscopy arclamp=Ar        \n"
     ]
    }
   ],
   "source": [
    "cals_I_need = mosfire_Y.cals()\n",
    "cals_I_need.extend( mosfire_J.cals() )\n",
    "cals_I_need.extend( mosfire_H.cals() )\n",
    "cals_I_need.extend( mosfire_K.cals() )\n",
    "print(cals_I_need)"
   ]
  },
  {
   "cell_type": "code",
   "execution_count": 16,
   "metadata": {},
   "outputs": [
    {
     "name": "stdout",
     "output_type": "stream",
     "text": [
      "Shutter Open Time: 389 s (0.1 hrs)\n",
      "Wall Clock Time: 389 s (0.1 hrs)\n"
     ]
    }
   ],
   "source": [
    "cals_I_need.estimate_time()"
   ]
  },
  {
   "cell_type": "markdown",
   "metadata": {},
   "source": [
    "## MOSFIRE Example 2"
   ]
  },
  {
   "cell_type": "code",
   "execution_count": 17,
   "metadata": {},
   "outputs": [
    {
     "name": "stdout",
     "output_type": "stream",
     "text": [
      "longslit_3x0.7 Y-spectroscopy\n",
      "longslit_3x0.7 J-spectroscopy\n",
      "long2pos H-spectroscopy\n",
      "long2pos K-spectroscopy\n"
     ]
    }
   ],
   "source": [
    "singleobj_Y = MOSFIREConfig(mode='spectroscopy', filter='Y', mask='longslit_3x0.7')\n",
    "singleobj_J = MOSFIREConfig(mode='spectroscopy', filter='J', mask='longslit_3x0.7')\n",
    "singleobj_H = MOSFIREConfig(mode='spectroscopy', filter='H', mask='long2pos')\n",
    "singleobj_K = MOSFIREConfig(mode='spectroscopy', filter='K', mask='long2pos')\n",
    "print(singleobj_Y)\n",
    "print(singleobj_J)\n",
    "print(singleobj_H)\n",
    "print(singleobj_K)"
   ]
  },
  {
   "cell_type": "code",
   "execution_count": 18,
   "metadata": {},
   "outputs": [
    {
     "name": "stdout",
     "output_type": "stream",
     "text": [
      "long2pos\n"
     ]
    }
   ],
   "source": [
    "long2pos = Long2pos()\n",
    "print(long2pos)"
   ]
  },
  {
   "cell_type": "code",
   "execution_count": 19,
   "metadata": {},
   "outputs": [
    {
     "data": {
      "text/plain": [
       "Frame: MOSFIRE Detector\n",
       " dx(\")| dy(\")| dr(deg)|    name\n",
       "------|------|--------|--------\n",
       " +45.0| -23.0|    +0.0|       A\n",
       " +45.0|  -9.0|    +0.0|       B\n",
       " -45.0|  +9.0|    +0.0|       A\n",
       " -45.0| +23.0|    +0.0|       B"
      ]
     },
     "execution_count": 19,
     "metadata": {},
     "output_type": "execute_result"
    }
   ],
   "source": [
    "long2pos"
   ]
  },
  {
   "cell_type": "code",
   "execution_count": 20,
   "metadata": {},
   "outputs": [
    {
     "name": "stdout",
     "output_type": "stream",
     "text": [
      "Pattern            |repeat |DetectorConfig               |InstrumentConfig                             \n",
      "-------------------|-------|-----------------------------|---------------------------------------------\n",
      "ABBA (1.5)         |     2 |180.0s (MCDS16, 1 coadds)    |longslit_3x0.7 Y-spectroscopy                \n",
      "ABBA (1.5)         |     2 |120.0s (MCDS16, 1 coadds)    |longslit_3x0.7 J-spectroscopy                \n",
      "long2pos           |     2 |120.0s (MCDS16, 1 coadds)    |long2pos H-spectroscopy                      \n",
      "long2pos           |     2 |180.0s (MCDS16, 1 coadds)    |long2pos K-spectroscopy                      \n"
     ]
    }
   ],
   "source": [
    "# sequence\n",
    "myseq2_mosfire = Sequence([SequenceElement(pattern=abba, detconfig=mosfire_180s, instconfig=singleobj_Y, repeat=2),\n",
    "                           SequenceElement(pattern=abba, detconfig=mosfire_120s, instconfig=singleobj_J, repeat=2),\n",
    "                           SequenceElement(pattern=long2pos, detconfig=mosfire_120s, instconfig=singleobj_H, repeat=2),\n",
    "                           SequenceElement(pattern=long2pos, detconfig=mosfire_180s, instconfig=singleobj_K, repeat=2),\n",
    "                          ])\n",
    "print(myseq2_mosfire)"
   ]
  },
  {
   "cell_type": "code",
   "execution_count": 21,
   "metadata": {},
   "outputs": [
    {
     "name": "stdout",
     "output_type": "stream",
     "text": [
      "Shutter Open Time: 4800 s (1.3 hrs)\n",
      "Wall Clock Time: 4800 s (1.3 hrs)\n"
     ]
    }
   ],
   "source": [
    "myseq2_mosfire.estimate_time()"
   ]
  },
  {
   "cell_type": "code",
   "execution_count": 22,
   "metadata": {},
   "outputs": [
    {
     "name": "stdout",
     "output_type": "stream",
     "text": [
      "Pattern            |repeat |DetectorConfig               |InstrumentConfig                             \n",
      "-------------------|-------|-----------------------------|---------------------------------------------\n",
      "Stare              |     7 |11.0s (CDS, 1 coadds)        |longslit_3x0.7 Y-spectroscopy domeflatlamp=True\n",
      "Stare              |     7 |11.0s (CDS, 1 coadds)        |longslit_3x0.7 J-spectroscopy domeflatlamp=True\n",
      "Stare              |     7 |11.0s (CDS, 1 coadds)        |long2pos H-spectroscopy domeflatlamp=True    \n",
      "Stare              |     7 |11.0s (CDS, 1 coadds)        |long2pos K-spectroscopy domeflatlamp=True    \n",
      "Stare              |     7 |11.0s (CDS, 1 coadds)        |long2pos K-spectroscopy domeflatlamp=False   \n",
      "Stare              |     2 |1.0s (CDS, 1 coadds)         |long2pos K-spectroscopy arclamp=Ne           \n",
      "Stare              |     2 |1.0s (CDS, 1 coadds)         |long2pos K-spectroscopy arclamp=Ar           \n"
     ]
    }
   ],
   "source": [
    "cals_I_need = singleobj_Y.cals()\n",
    "cals_I_need.extend(singleobj_J.cals())\n",
    "cals_I_need.extend(singleobj_H.cals())\n",
    "cals_I_need.extend(singleobj_K.cals())\n",
    "print(cals_I_need)"
   ]
  },
  {
   "cell_type": "code",
   "execution_count": 23,
   "metadata": {},
   "outputs": [
    {
     "name": "stdout",
     "output_type": "stream",
     "text": [
      "Shutter Open Time: 389 s (0.1 hrs)\n",
      "Wall Clock Time: 389 s (0.1 hrs)\n"
     ]
    }
   ],
   "source": [
    "cals_I_need.estimate_time()"
   ]
  },
  {
   "cell_type": "code",
   "execution_count": null,
   "metadata": {},
   "outputs": [],
   "source": []
  }
 ],
 "metadata": {
  "kernelspec": {
   "display_name": "Python 3",
   "language": "python",
   "name": "python3"
  },
  "language_info": {
   "codemirror_mode": {
    "name": "ipython",
    "version": 3
   },
   "file_extension": ".py",
   "mimetype": "text/x-python",
   "name": "python",
   "nbconvert_exporter": "python",
   "pygments_lexer": "ipython3",
   "version": "3.7.6"
  }
 },
 "nbformat": 4,
 "nbformat_minor": 4
}
