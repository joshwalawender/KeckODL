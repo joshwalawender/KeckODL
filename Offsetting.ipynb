{
 "cells": [
  {
   "cell_type": "markdown",
   "metadata": {},
   "source": [
    "# Offset Examples"
   ]
  },
  {
   "cell_type": "code",
   "execution_count": 1,
   "metadata": {},
   "outputs": [],
   "source": [
    "from keckODL.offset import SkyFrame, InstrumentFrame, TelescopeOffset, OffsetPattern, StarSkyStar\n",
    "from astropy import units as u"
   ]
  },
  {
   "cell_type": "code",
   "execution_count": 2,
   "metadata": {},
   "outputs": [],
   "source": [
    "offset1 = TelescopeOffset(dx=2*u.arcsec, dy=0, posname='star', frame=SkyFrame(), guide=True)\n",
    "offset2 = TelescopeOffset(dx=1*u.arcmin, dy=0, posname='sky', frame=SkyFrame(), guide=False)"
   ]
  },
  {
   "cell_type": "code",
   "execution_count": 3,
   "metadata": {},
   "outputs": [
    {
     "data": {
      "text/plain": [
       " +60.0|  +0.0|    +0.0 deg|     sky| False"
      ]
     },
     "execution_count": 3,
     "metadata": {},
     "output_type": "execute_result"
    }
   ],
   "source": [
    "offset2"
   ]
  },
  {
   "cell_type": "code",
   "execution_count": 4,
   "metadata": {},
   "outputs": [],
   "source": [
    "skyframe = SkyFrame()\n",
    "mypatt = OffsetPattern([TelescopeOffset(dx=0, dy=0, posname='star', frame=skyframe, guide=True),\n",
    "                        TelescopeOffset(dx=1*u.arcmin, dy=0, posname='sky', frame=skyframe, guide=False),\n",
    "                        TelescopeOffset(dx=0, dy=0, posname='star', frame=SkyFrame(), guide=True),\n",
    "                       ], name='mypattern')"
   ]
  },
  {
   "cell_type": "code",
   "execution_count": 5,
   "metadata": {},
   "outputs": [
    {
     "data": {
      "text/plain": [
       "Frame: SkyFrame (RAOFF DECOFF)\n",
       "Repeats: 1\n",
       " dx(\")| dy(\")| dr(deg)|    name|guide?\n",
       "------|------|--------|--------|------\n",
       "  +0.0|  +0.0|    +0.0|    star|  True\n",
       " +60.0|  +0.0|    +0.0|     sky| False\n",
       "  +0.0|  +0.0|    +0.0|    star|  True"
      ]
     },
     "execution_count": 5,
     "metadata": {},
     "output_type": "execute_result"
    }
   ],
   "source": [
    "mypatt"
   ]
  },
  {
   "cell_type": "code",
   "execution_count": 6,
   "metadata": {},
   "outputs": [],
   "source": [
    "mypatt.write('offset_custom1.txt')"
   ]
  },
  {
   "cell_type": "code",
   "execution_count": 7,
   "metadata": {},
   "outputs": [],
   "source": [
    "s = StarSkyStar(dx=1*u.arcmin)"
   ]
  },
  {
   "cell_type": "code",
   "execution_count": 8,
   "metadata": {},
   "outputs": [
    {
     "data": {
      "text/plain": [
       "Frame: SkyFrame (RAOFF DECOFF)\n",
       "Repeats: 1\n",
       " dx(\")| dy(\")| dr(deg)|    name|guide?\n",
       "------|------|--------|--------|------\n",
       "  +0.0|  +0.0|    +0.0|    star|  True\n",
       " +60.0|  +0.0|    +0.0|     sky| False\n",
       "  +0.0|  +0.0|    +0.0|    star|  True"
      ]
     },
     "execution_count": 8,
     "metadata": {},
     "output_type": "execute_result"
    }
   ],
   "source": [
    "s"
   ]
  },
  {
   "cell_type": "code",
   "execution_count": 9,
   "metadata": {},
   "outputs": [
    {
     "name": "stdout",
     "output_type": "stream",
     "text": [
      "'RAOFF'.write(60.0, rel2base=t)\n",
      "'DECOFF'.write(0.0, rel2base=t)\n"
     ]
    }
   ],
   "source": [
    "s[1].execute()"
   ]
  },
  {
   "cell_type": "code",
   "execution_count": null,
   "metadata": {},
   "outputs": [],
   "source": []
  }
 ],
 "metadata": {
  "kernelspec": {
   "display_name": "Python 3",
   "language": "python",
   "name": "python3"
  },
  "language_info": {
   "codemirror_mode": {
    "name": "ipython",
    "version": 3
   },
   "file_extension": ".py",
   "mimetype": "text/x-python",
   "name": "python",
   "nbconvert_exporter": "python",
   "pygments_lexer": "ipython3",
   "version": "3.7.6"
  }
 },
 "nbformat": 4,
 "nbformat_minor": 4
}
