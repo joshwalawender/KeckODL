{
 "cells": [
  {
   "cell_type": "code",
   "execution_count": 4,
   "metadata": {},
   "outputs": [],
   "source": [
    "from keckODL.target import Target, TargetList\n",
    "from keckODL.offset import Stare, StarSkyStar, SkyStar\n",
    "from keckODL.block import ObservingBlockList, ScienceBlock, StandardStarBlock\n",
    "from keckODL.alignment import BlindAlign, GuiderAlign\n",
    "\n",
    "from astropy import units as u"
   ]
  },
  {
   "cell_type": "code",
   "execution_count": 6,
   "metadata": {},
   "outputs": [],
   "source": [
    "# Define some targets\n",
    "feige110 = Target('Feige110')\n",
    "ngc1333 = Target('NGC1333', rotmode='PA', PA=22.5)"
   ]
  },
  {
   "cell_type": "markdown",
   "metadata": {},
   "source": [
    "The following test cases are meant to be test particles for ODL implementations.  These are meant not to demonstrate a typical observation (though some do), but to challenge a language to describe something which may be somewhat non-standard."
   ]
  },
  {
   "cell_type": "markdown",
   "metadata": {},
   "source": [
    "### 1) A KCWI+KCRM Observation\n",
    "\n",
    "First, observe a single target with two blue exposures on target and a third on an offset sky position between them (in a star-sky-star pattern).  The offset pattern should use a sky position offset from the target by +60 arcseconds in RA and +30 arcseconds in Dec.  The blue exposures should be 1800s long and simultaneously to the blue exposures, the red side should take a pair of shorter exposures (approximately 900s long each).\n",
    "\n",
    "Second, observe a standard star observation in a single staring observation with both red and blue exposures of 10 seconds.  This will be a staring observation with no repeats.  The science observation above should store the information that this standard star observation is to be used by the DRP for that science observation."
   ]
  },
  {
   "cell_type": "code",
   "execution_count": 5,
   "metadata": {},
   "outputs": [],
   "source": [
    "from keckODL.kcwi import KCWIblueDetectorConfig, KCWIredDetectorConfig, KCWIConfig, mira"
   ]
  },
  {
   "cell_type": "code",
   "execution_count": 7,
   "metadata": {},
   "outputs": [],
   "source": [
    "# Define my long science exposures\n",
    "kcwib_1800s = KCWIblueDetectorConfig(exptime=1800, nexp=1, binning='2x2', readoutmode=0, ampmode=9)\n",
    "kcwir_1800s = KCWIredDetectorConfig(exptime=900, nexp=2, binning='2x2', readoutmode=0, ampmode=9)\n",
    "kcwir_1800s.match_time(kcwib_1800s.estimate_clock_time())\n",
    "# Define the short exposures for the standard star\n",
    "kcwib_10s = KCWIblueDetectorConfig(exptime=10, nexp=1, binning='2x2', readoutmode=0, ampmode=9)\n",
    "kcwir_10s = KCWIredDetectorConfig(exptime=10, nexp=1, binning='2x2', readoutmode=0, ampmode=9)\n",
    "# Define my instrument config\n",
    "med_slicer_b4800_r6500 = KCWIConfig(slicer='medium', bluegrating='BH3', bluecwave=4800,\n",
    "                                    redgrating='RH3', redcwave=6563)\n",
    "# Define the offset pattern to use for the science exposures\n",
    "skyoffset = StarSkyStar(dx=60*u.arcsec, dy=30*u.arcsec, repeat=3)\n",
    "# Define the standard star OB\n",
    "std1 = StandardStarBlock(target=feige110, pattern=Stare(),\n",
    "                         instconfig=med_slicer_b4800_r6500,\n",
    "                         detconfig=(kcwib_10s, kcwir_10s),\n",
    "                         align=BlindAlign(),\n",
    "                        )\n",
    "# Define the science OB\n",
    "sci1 = ScienceBlock(target=ngc1333, pattern=skyoffset,\n",
    "                    instconfig=med_slicer_b4800_r6500,\n",
    "                    detconfig=(kcwib_1800s, kcwir_1800s),\n",
    "                    align=BlindAlign(),\n",
    "                    associated=std1,\n",
    "                   )"
   ]
  },
  {
   "cell_type": "code",
   "execution_count": 11,
   "metadata": {},
   "outputs": [
    {
     "data": {
      "text/plain": [
       "{'name': 'KCWI 1800s x1',\n",
       " 'instrument': 'KCWI',\n",
       " 'detector': 'blue',\n",
       " 'exptime': 1800,\n",
       " 'nexp': 1,\n",
       " 'readoutmode': 0,\n",
       " 'ampmode': 9,\n",
       " 'dark': False,\n",
       " 'binning': '2x2',\n",
       " 'window': None}"
      ]
     },
     "execution_count": 11,
     "metadata": {},
     "output_type": "execute_result"
    }
   ],
   "source": [
    "# Show the detector configs\n",
    "kcwib_1800s.to_dict()['DetectorConfigs'][0]"
   ]
  },
  {
   "cell_type": "code",
   "execution_count": 12,
   "metadata": {},
   "outputs": [
    {
     "data": {
      "text/plain": [
       "{'name': 'KCWI 926s x2',\n",
       " 'instrument': 'KCWI',\n",
       " 'detector': 'red',\n",
       " 'exptime': 926.5,\n",
       " 'nexp': 2,\n",
       " 'readoutmode': 0,\n",
       " 'ampmode': 9,\n",
       " 'dark': False,\n",
       " 'binning': '2x2',\n",
       " 'window': None}"
      ]
     },
     "execution_count": 12,
     "metadata": {},
     "output_type": "execute_result"
    }
   ],
   "source": [
    "kcwir_1800s.to_dict()['DetectorConfigs'][0]"
   ]
  },
  {
   "cell_type": "code",
   "execution_count": 14,
   "metadata": {},
   "outputs": [
    {
     "data": {
      "text/plain": [
       "{'name': 'KCWI 10s x1',\n",
       " 'instrument': 'KCWI',\n",
       " 'detector': 'blue',\n",
       " 'exptime': 10,\n",
       " 'nexp': 1,\n",
       " 'readoutmode': 0,\n",
       " 'ampmode': 9,\n",
       " 'dark': False,\n",
       " 'binning': '2x2',\n",
       " 'window': None}"
      ]
     },
     "execution_count": 14,
     "metadata": {},
     "output_type": "execute_result"
    }
   ],
   "source": [
    "kcwib_10s.to_dict()['DetectorConfigs'][0]"
   ]
  },
  {
   "cell_type": "code",
   "execution_count": 13,
   "metadata": {},
   "outputs": [
    {
     "data": {
      "text/plain": [
       "{'name': 'KCWI 10s x1',\n",
       " 'instrument': 'KCWI',\n",
       " 'detector': 'red',\n",
       " 'exptime': 10,\n",
       " 'nexp': 1,\n",
       " 'readoutmode': 0,\n",
       " 'ampmode': 9,\n",
       " 'dark': False,\n",
       " 'binning': '2x2',\n",
       " 'window': None}"
      ]
     },
     "execution_count": 13,
     "metadata": {},
     "output_type": "execute_result"
    }
   ],
   "source": [
    "kcwir_10s.to_dict()['DetectorConfigs'][0]"
   ]
  },
  {
   "cell_type": "code",
   "execution_count": 15,
   "metadata": {},
   "outputs": [
    {
     "data": {
      "text/plain": [
       "{'name': 'medium BH3 4800 A',\n",
       " 'instrument': 'KCWI',\n",
       " 'slicer': 'medium',\n",
       " 'bluegrating': 'BH3',\n",
       " 'bluefilter': 'KBlue',\n",
       " 'bluenandsmask': False,\n",
       " 'bluefocus': None,\n",
       " 'bluecwave': 4800,\n",
       " 'bluepwave': None,\n",
       " 'redgrating': 'RH3',\n",
       " 'redfilter': 'KRed',\n",
       " 'rednandsmask': False,\n",
       " 'redfocus': None,\n",
       " 'redcwave': 6563,\n",
       " 'redpwave': None,\n",
       " 'calmirror': 'Sky',\n",
       " 'calobj': 'Dark',\n",
       " 'polarizer': 'Sky',\n",
       " 'arclamp': None,\n",
       " 'domeflatlamp': None}"
      ]
     },
     "execution_count": 15,
     "metadata": {},
     "output_type": "execute_result"
    }
   ],
   "source": [
    "# Show the instrument config\n",
    "med_slicer_b4800_r6500.to_dict()['InstrumentConfigs'][0]"
   ]
  },
  {
   "cell_type": "code",
   "execution_count": 17,
   "metadata": {},
   "outputs": [
    {
     "data": {
      "text/plain": [
       "{'name': 'StarSkyStar (60 30) x3',\n",
       " 'repeat': 3,\n",
       " 'offsets': [{'dx': 0.0,\n",
       "   'dy': 0.0,\n",
       "   'dr': 0.0,\n",
       "   'frame': 'SkyFrame',\n",
       "   'relative': False,\n",
       "   'posname': 'star',\n",
       "   'guide': True},\n",
       "  {'dx': 60.0,\n",
       "   'dy': 30.0,\n",
       "   'dr': 0.0,\n",
       "   'frame': 'SkyFrame',\n",
       "   'relative': False,\n",
       "   'posname': 'sky',\n",
       "   'guide': False},\n",
       "  {'dx': 0.0,\n",
       "   'dy': 0.0,\n",
       "   'dr': 0.0,\n",
       "   'frame': 'SkyFrame',\n",
       "   'relative': False,\n",
       "   'posname': 'star',\n",
       "   'guide': True}]}"
      ]
     },
     "execution_count": 17,
     "metadata": {},
     "output_type": "execute_result"
    }
   ],
   "source": [
    "# Show the custom offset pattern\n",
    "skyoffset.to_dict()['OffsetPatterns'][0]"
   ]
  },
  {
   "cell_type": "markdown",
   "metadata": {},
   "source": [
    "```\n",
    "# Mock up of the OB description (actual implementation TBD based on whether we want to store references, or the original data)\n",
    "{'target': ,\n",
    " 'pattern': ,\n",
    " 'instconfig': ,\n",
    " 'detconfig': [],\n",
    " 'align': ,\n",
    " 'blocktype': ,\n",
    " 'associatedblocks': [],\n",
    " 'guidestar': ,\n",
    " 'drp_args': {}, # a dict containing arguments for the data reduction pipeline\n",
    " 'ql_args' {}, # a dict containing arguments for the quick look pipeline\n",
    "}\n",
    "```"
   ]
  },
  {
   "cell_type": "markdown",
   "metadata": {},
   "source": [
    "### 2) A NIRES SPEC+SCAM Observation\n",
    "\n",
    "Acquire a faint target (which needs sky subtraction in SCAM) on to the NIRES slit and observe it with 5 repeats of an ABBA sequence with one 300 second SPEC exposure and ten 10 second SCAM exposures at each point in the ABBA sequence."
   ]
  },
  {
   "cell_type": "code",
   "execution_count": 20,
   "metadata": {},
   "outputs": [],
   "source": [
    "from keckODL.nires import NIRESConfig, NIRESSpecDetectorConfig, NIRESScamDetectorConfig, ABBA, mira"
   ]
  },
  {
   "cell_type": "code",
   "execution_count": 22,
   "metadata": {},
   "outputs": [],
   "source": [
    "# Define the SPEC and SCAM Exposures\n",
    "spec_300s = NIRESSpecDetectorConfig(exptime=300, readoutmode='MCDS32', coadds=1)\n",
    "scam_10s = NIRESScamDetectorConfig(exptime=10, readoutmode='CDS', coadds=1, nexp=6)\n",
    "# Define a NIRES instrument config\n",
    "nires = NIRESConfig()\n",
    "# Define the ABBA pattern to use\n",
    "abba5 = ABBA(offset=10*u.arcsec, repeat=5)\n",
    "# Define the OB\n",
    "OB = ScienceBlock(target=ngc1333, pattern=abba5, instconfig=nires, detconfig=[spec_300s, scam_10s], align=GuiderAlign(bright=False))"
   ]
  },
  {
   "cell_type": "code",
   "execution_count": 23,
   "metadata": {},
   "outputs": [
    {
     "data": {
      "text/plain": [
       "{'name': 'NIRES Spec 300s (MCDS32, 1 coadds) x1',\n",
       " 'instrument': 'NIRES Spec',\n",
       " 'detector': '',\n",
       " 'exptime': 300,\n",
       " 'nexp': 1,\n",
       " 'readoutmode': 'MCDS32',\n",
       " 'coadds': 1}"
      ]
     },
     "execution_count": 23,
     "metadata": {},
     "output_type": "execute_result"
    }
   ],
   "source": [
    "# Show the detector configs\n",
    "spec_300s.to_dict()['DetectorConfigs'][0]"
   ]
  },
  {
   "cell_type": "code",
   "execution_count": 24,
   "metadata": {},
   "outputs": [
    {
     "data": {
      "text/plain": [
       "{'name': 'NIRES SCAM 10s (CDS, 1 coadds) x6',\n",
       " 'instrument': 'NIRES SCAM',\n",
       " 'detector': '',\n",
       " 'exptime': 10,\n",
       " 'nexp': 6,\n",
       " 'readoutmode': 'CDS',\n",
       " 'coadds': 1}"
      ]
     },
     "execution_count": 24,
     "metadata": {},
     "output_type": "execute_result"
    }
   ],
   "source": [
    "# Show the detector configs\n",
    "scam_10s.to_dict()['DetectorConfigs'][0]"
   ]
  },
  {
   "cell_type": "code",
   "execution_count": 25,
   "metadata": {},
   "outputs": [
    {
     "data": {
      "text/plain": [
       "{'name': 'NIRES Instrument Config', 'instrument': 'NIRES'}"
      ]
     },
     "execution_count": 25,
     "metadata": {},
     "output_type": "execute_result"
    }
   ],
   "source": [
    "# Show the instrument config\n",
    "nires.to_dict()['InstrumentConfigs'][0]"
   ]
  },
  {
   "cell_type": "code",
   "execution_count": 26,
   "metadata": {},
   "outputs": [
    {
     "data": {
      "text/plain": [
       "{'name': 'ABBA (10.00 arcsec) x5',\n",
       " 'repeat': 5,\n",
       " 'offsets': [{'dx': 0.0,\n",
       "   'dy': 10.0,\n",
       "   'dr': 0.0,\n",
       "   'frame': 'NIRES Slit',\n",
       "   'relative': False,\n",
       "   'posname': 'A',\n",
       "   'guide': True},\n",
       "  {'dx': 0.0,\n",
       "   'dy': -10.0,\n",
       "   'dr': 0.0,\n",
       "   'frame': 'NIRES Slit',\n",
       "   'relative': False,\n",
       "   'posname': 'B',\n",
       "   'guide': True},\n",
       "  {'dx': 0.0,\n",
       "   'dy': -10.0,\n",
       "   'dr': 0.0,\n",
       "   'frame': 'NIRES Slit',\n",
       "   'relative': False,\n",
       "   'posname': 'B',\n",
       "   'guide': True},\n",
       "  {'dx': 0.0,\n",
       "   'dy': 10.0,\n",
       "   'dr': 0.0,\n",
       "   'frame': 'NIRES Slit',\n",
       "   'relative': False,\n",
       "   'posname': 'A',\n",
       "   'guide': True}]}"
      ]
     },
     "execution_count": 26,
     "metadata": {},
     "output_type": "execute_result"
    }
   ],
   "source": [
    "# Show the offset pattern\n",
    "abba5.to_dict()['OffsetPatterns'][0]"
   ]
  },
  {
   "cell_type": "markdown",
   "metadata": {},
   "source": [
    "```\n",
    "# Mock up of the OB description (actual implementation TBD based on whether we want to store references, or the original data)\n",
    "{'target': ,\n",
    " 'pattern': ,\n",
    " 'instconfig': ,\n",
    " 'detconfig': [],\n",
    " 'align': ,\n",
    " 'blocktype': ,\n",
    " 'associatedblocks': [],\n",
    " 'guidestar': ,\n",
    " 'drp_args': {}, # a dict containing arguments for the data reduction pipeline\n",
    " 'ql_args' {}, # a dict containing arguments for the quick look pipeline\n",
    "}\n",
    "```"
   ]
  },
  {
   "cell_type": "markdown",
   "metadata": {},
   "source": [
    "### 3) A MOSFIRE MOS Mask\n",
    "\n",
    "Observe a MOS mask using MOSFIRE in spectroscopy mode in the Y, J, H, and K filters.  Use the reccommended exposure time of either 120 or 180 seconds (depending on filter) with MCDS16 readout mode.  For the filters with 180 second exposures, use 5 repeats of an ABBA sequence, for the filters with 120 second exposures use 8 repeats.  The ABBA sequence should have a dither magnitude of 1.25 arcseconds."
   ]
  },
  {
   "cell_type": "markdown",
   "metadata": {},
   "source": [
    "### 4) A MOSFIRE Single Object\n",
    "\n",
    "Observe a single object using MOSFIRE in spectroscopy mode in the Y, J, H, and K filters.  Use the reccommended exposure time of either 120 or 180 seconds (depending on filter) with MCDS16 readout mode.  Use the longslit for Y and J filters with an ABBA pattern and 2 repeats, but use long2pos mask and a long2pos pattern for the H and K observations."
   ]
  },
  {
   "cell_type": "markdown",
   "metadata": {},
   "source": [
    "### 5) An Unusual MOSFIRE Observation\n",
    "\n",
    "First, acquire a target using an offset star and a MOS mask alignment process with a MOSFIRE long slit.\n",
    "\n",
    "Second, after offsetting to target, image the target in J-band through the alignment mask.  Use 9 coadds of 10 seconds each.\n",
    "\n",
    "Finally, take Y and J longslit spectra of the target using an ABBA pattern with 3 repeats and standard MOSFIRE exposure parameters (e.g. 180s and 120s exposure times)."
   ]
  },
  {
   "cell_type": "markdown",
   "metadata": {},
   "source": [
    "### 6) An Unusual MOSFIRE Observation: Alternate Observing Strategy\n",
    "\n",
    "First, acquire a target using an offset star and a MOS mask alignment process with a MOSFIRE long slit.\n",
    "\n",
    "Second, after offsetting to target, image the target in J-band through the alignment mask.  Use 9 coadds of 10 seconds each.\n",
    "\n",
    "Third, instead of changing to the “science” long slit mask, take the Y and J spectra by offsetting the target away from the central alignment box."
   ]
  },
  {
   "cell_type": "code",
   "execution_count": null,
   "metadata": {},
   "outputs": [],
   "source": []
  }
 ],
 "metadata": {
  "kernelspec": {
   "display_name": "Python 3",
   "language": "python",
   "name": "python3"
  },
  "language_info": {
   "codemirror_mode": {
    "name": "ipython",
    "version": 3
   },
   "file_extension": ".py",
   "mimetype": "text/x-python",
   "name": "python",
   "nbconvert_exporter": "python",
   "pygments_lexer": "ipython3",
   "version": "3.7.6"
  }
 },
 "nbformat": 4,
 "nbformat_minor": 4
}
