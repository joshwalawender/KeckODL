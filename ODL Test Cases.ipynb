{
 "cells": [
  {
   "cell_type": "markdown",
   "metadata": {},
   "source": [
    "# Observing Description Language\n",
    "\n",
    "## Vocabulary\n",
    "\n",
    "#### High Level Concepts\n",
    "\n",
    "- `ObservingBlock` (OB): This is the atomic operation which the observer will execute at night.\n",
    "- `ObservingBlockList`: Just a simple ordered list of OBs.\n",
    "- `Target`: Observers know this because it inherits all properties of targets in star lists.\n",
    "- `Alignment`: This is how you put your target in the position you want it (i.e. in a slit).\n",
    "- `InstrumentConfig`: This is how the instrument is configured.\n",
    "- `DetectorConfig`: This is how the detector is configured.\n",
    "- `OffsetPattern`: The dither pattern to use during observation.\n",
    "\n",
    "The `InstrumentConfig` and `DetectorConfig` have been separated out as two concepts because the standard calibrations we take are based entirely on the `InstrumentConfig`.\n",
    "\n",
    "\n",
    "#### Low Level Concepts\n",
    "\n",
    "- Observing blocks have types.  This is primarily to inform the DRP how to process this data.\n",
    "    - `ScienceBlock`\n",
    "    - `StandardStarBlock`\n",
    "    - `TelluricBlock`\n",
    "    - `CalibrationBlock`\n",
    "    - `FocusBlock` (e.g Mira or Autofoc)\n",
    "- Alignment can be done in multiple ways.  These alignment strategies trigger different actions using different software tools at night.\n",
    "    - `BlindAlign`\n",
    "    - `GuiderAlign`\n",
    "    - `MaskAlign`\n",
    "- An offset pattern contains other concepts\n",
    "    - `OffsetFrame` (e.g. sky frame, instrument frame, slit frame)\n",
    "    - `TelescopeOffset`\n",
    "\n",
    "## Syntax and Grammar\n",
    "\n",
    "I won't lay out all the rules here, but for example, an `ObservingBlock` is comprised of:\n",
    "\n",
    "- 0 or 1 Targets\n",
    "- 1 OffsetPattern\n",
    "- 1 Instrument Configuration\n",
    "- 0 or more Detector Configurations\n",
    "- 0 or 1 Alignment\n",
    "\n",
    "The behavior of the system will depend on which of these are specified.\n",
    "\n",
    "The `ObservingBlockList` is **ordered**, so it can be used to describe an order of operations, but fundamentally, the observer simply selects an OB to execute, so no higher order scheduling is implemented here.  If we want scheduling that is more sophisticated that this, we simply add a higher level component (e.g. the \"Minimum Schedulable Block\" or MSB) which is an ordered list of OBs, but has some extra scheduling metadata attached to it.\n",
    "\n",
    "## Written Form\n",
    "\n",
    "YAML or JSON are easy written forms to implement because the language is composed of dictionaries (key-value pairs) and lists.  I used YAML because it allows for comments in case some advnaced users want to write the YAML form directly, but I expect that won't be common.\n",
    "\n",
    "There are some `__str__` representations which are more human readbale, but which are not complete specifications; they are meant to be reminders.\n",
    "\n",
    "In its final form, each instance of an object would be given a unique ID of some sort to identify it rather than using the name string as we do here."
   ]
  },
  {
   "cell_type": "code",
   "execution_count": 1,
   "metadata": {},
   "outputs": [],
   "source": [
    "import yaml\n",
    "from pathlib import Path\n",
    "\n",
    "from odl.target import Target, TargetList\n",
    "from odl.offset import Stare, StarSkyStar, SkyStar, OffsetPattern, TelescopeOffset, SkyFrame\n",
    "from odl.block import ObservingBlockList, ScienceBlock, StandardStarBlock\n",
    "from odl.alignment import BlindAlign, GuiderAlign, MaskAlign\n",
    "\n",
    "from astropy import units as u"
   ]
  },
  {
   "cell_type": "code",
   "execution_count": 2,
   "metadata": {},
   "outputs": [],
   "source": [
    "# Define some targets\n",
    "ngc1333 = Target('NGC1333', rotmode='PA', PA=22.5)\n",
    "feige110 = Target('Feige110')"
   ]
  },
  {
   "cell_type": "code",
   "execution_count": 3,
   "metadata": {},
   "outputs": [
    {
     "name": "stdout",
     "output_type": "stream",
     "text": [
      "Dec: 31.3688\n",
      "DecOffset: null\n",
      "PA: 22.5\n",
      "PMDec: 0\n",
      "PMRA: 0\n",
      "RA: 52.2873\n",
      "RAOffset: null\n",
      "comment: null\n",
      "ddec: 0\n",
      "dra: 0\n",
      "epoch: 2021.161004443063\n",
      "equinox: 1999.9999085590325\n",
      "frame: icrs\n",
      "mag: {}\n",
      "name: NGC1333\n",
      "obstime: null\n",
      "rotmode: PA\n",
      "wrap: null\n",
      "\n"
     ]
    }
   ],
   "source": [
    "print(ngc1333.to_yaml())"
   ]
  },
  {
   "cell_type": "code",
   "execution_count": 4,
   "metadata": {},
   "outputs": [
    {
     "name": "stdout",
     "output_type": "stream",
     "text": [
      "Dec: -5.1656028563457\n",
      "DecOffset: null\n",
      "PA: null\n",
      "PMDec: 0\n",
      "PMRA: 0\n",
      "RA: 349.9933312710857\n",
      "RAOffset: null\n",
      "comment: null\n",
      "ddec: 0\n",
      "dra: 0\n",
      "epoch: 2021.1610044436004\n",
      "equinox: 1999.9999085590325\n",
      "frame: icrs\n",
      "mag: {}\n",
      "name: Feige110\n",
      "obstime: null\n",
      "rotmode: null\n",
      "wrap: null\n",
      "\n"
     ]
    }
   ],
   "source": [
    "print(feige110.to_yaml())"
   ]
  },
  {
   "cell_type": "markdown",
   "metadata": {},
   "source": [
    "The following test cases are meant to be test particles for ODL implementations.  These are meant not to demonstrate a typical observation (though some do), but to challenge a language to describe something which may be somewhat non-standard."
   ]
  },
  {
   "cell_type": "markdown",
   "metadata": {},
   "source": [
    "### 1) A KCWI+KCRM Observation\n",
    "\n",
    "First, observe a single target with two blue exposures on target and a third on an offset sky position between them (in a star-sky-star pattern).  The offset pattern should use a sky position offset from the target by +60 arcseconds in RA and +30 arcseconds in Dec.  The blue exposures should be 1800s long and simultaneously to the blue exposures, the red side should take a pair of shorter exposures (approximately 900s long each).\n",
    "\n",
    "Second, observe a standard star observation in a single staring observation with both red and blue exposures of 10 seconds.  This will be a staring observation with no repeats.  The science observation above should store the information that this standard star observation is to be used by the DRP for that science observation."
   ]
  },
  {
   "cell_type": "code",
   "execution_count": 5,
   "metadata": {},
   "outputs": [],
   "source": [
    "from odl.keck.kcwi import KCWIblueDetectorConfig, KCWIredDetectorConfig, KCWIConfig, mira"
   ]
  },
  {
   "cell_type": "code",
   "execution_count": 6,
   "metadata": {},
   "outputs": [
    {
     "data": {
      "text/plain": [
       "Target         |Pattern               |InstrumentConfig                             |DetectorConfig                      |AlignmentMethod     \n",
       "---------------|----------------------|---------------------------------------------|------------------------------------|--------------------\n",
       "NGC1333        |StarSkyStar (60 30) x1|medium BH3 4800 A                            |(KCWIblue 1800s x1, KCWIred 926s x2)|Blind Align         \n",
       "Feige110       |Stare x1              |medium BH3 4800 A                            |(KCWIblue 10s x1, KCWIred 10s x1)   |Blind Align         "
      ]
     },
     "execution_count": 6,
     "metadata": {},
     "output_type": "execute_result"
    }
   ],
   "source": [
    "# Define my long science exposures\n",
    "kcwib_1800s = KCWIblueDetectorConfig(exptime=1800, nexp=1, binning='2x2', readoutmode=0, ampmode=9)\n",
    "kcwir_1800s = KCWIredDetectorConfig(exptime=900, nexp=2, binning='2x2', readoutmode=0, ampmode=9)\n",
    "kcwir_1800s.match_time(kcwib_1800s.estimate_clock_time())\n",
    "# Define the short exposures for the standard star\n",
    "kcwib_10s = KCWIblueDetectorConfig(exptime=10, nexp=1, binning='2x2', readoutmode=0, ampmode=9)\n",
    "kcwir_10s = KCWIredDetectorConfig(exptime=10, nexp=1, binning='2x2', readoutmode=0, ampmode=9)\n",
    "# Define my instrument config\n",
    "med_slicer_b4800_r6500 = KCWIConfig(slicer='medium', bluegrating='BH3', bluecwave=4800,\n",
    "                                    redgrating='RH3', redcwave=6563)\n",
    "# Define the offset pattern to use for the science exposures\n",
    "skyoffset = StarSkyStar(dx=60*u.arcsec, dy=30*u.arcsec, repeat=1)\n",
    "stare = Stare()\n",
    "# Define the standard star OB\n",
    "std = StandardStarBlock(target=feige110, pattern=stare,\n",
    "                         instconfig=med_slicer_b4800_r6500,\n",
    "                         detconfig=(kcwib_10s, kcwir_10s),\n",
    "                         align=BlindAlign(),\n",
    "                        )\n",
    "# Define the science OB\n",
    "sci = ScienceBlock(target=ngc1333, pattern=skyoffset,\n",
    "                    instconfig=med_slicer_b4800_r6500,\n",
    "                    detconfig=(kcwib_1800s, kcwir_1800s),\n",
    "                    align=BlindAlign(),\n",
    "                    associatedblocks=std,\n",
    "                   )\n",
    "OBs = ObservingBlockList([sci, std])\n",
    "OBs"
   ]
  },
  {
   "cell_type": "code",
   "execution_count": 7,
   "metadata": {},
   "outputs": [
    {
     "data": {
      "text/plain": [
       "[{'target': 'NGC1333',\n",
       "  'pattern': 'StarSkyStar (60 30) x1',\n",
       "  'instconfig': 'medium BH3 4800 A',\n",
       "  'detconfig': ['KCWIblue 1800s x1', 'KCWIred 926s x2'],\n",
       "  'align': 'Blind Align',\n",
       "  'blocktype': 'Science',\n",
       "  'associatedblocks': ['StandardStar, Feige110, Stare x1, medium BH3 4800 A, (KCWIblue 10s x1, KCWIred 10s x1)'],\n",
       "  'guidestar': None,\n",
       "  'drp_args': None,\n",
       "  'ql_args': None},\n",
       " {'target': 'Feige110',\n",
       "  'pattern': 'Stare x1',\n",
       "  'instconfig': 'medium BH3 4800 A',\n",
       "  'detconfig': ['KCWIblue 10s x1', 'KCWIred 10s x1'],\n",
       "  'align': 'Blind Align',\n",
       "  'blocktype': 'StandardStar',\n",
       "  'associatedblocks': ['None'],\n",
       "  'guidestar': None,\n",
       "  'drp_args': None,\n",
       "  'ql_args': None}]"
      ]
     },
     "execution_count": 7,
     "metadata": {},
     "output_type": "execute_result"
    }
   ],
   "source": [
    "# Short Version\n",
    "[OB.to_dict(usenames=True) for OB in OBs]"
   ]
  },
  {
   "cell_type": "code",
   "execution_count": 8,
   "metadata": {},
   "outputs": [],
   "source": [
    "# Long Version\n",
    "with open('ODL_Test_Case1.yaml', 'w') as file:\n",
    "    file.write(OBs.to_yaml())"
   ]
  },
  {
   "cell_type": "markdown",
   "metadata": {},
   "source": [
    "### 2) A NIRES SPEC+SCAM Observation\n",
    "\n",
    "Acquire a faint target (which needs sky subtraction in SCAM) on to the NIRES slit and observe it with 5 repeats of an ABBA sequence with one 300 second SPEC exposure and ten 10 second SCAM exposures at each point in the ABBA sequence."
   ]
  },
  {
   "cell_type": "code",
   "execution_count": 10,
   "metadata": {},
   "outputs": [],
   "source": [
    "from odl.keck.nires import NIRESConfig, NIRESSpecDetectorConfig, NIRESScamDetectorConfig, ABBA, mira"
   ]
  },
  {
   "cell_type": "code",
   "execution_count": 11,
   "metadata": {},
   "outputs": [
    {
     "data": {
      "text/plain": [
       "Target         |Pattern               |InstrumentConfig                             |DetectorConfig                      |AlignmentMethod     \n",
       "---------------|----------------------|---------------------------------------------|------------------------------------|--------------------\n",
       "NGC1333        |ABBA (10.00 arcsec) x5|NIRES Instrument Config                      |[NIRES Spec 300s (MCDS32, 1 coadds) x1, NIRES SCAM 10s (CDS, 1 coadds) x6]|Guider Align, faint "
      ]
     },
     "execution_count": 11,
     "metadata": {},
     "output_type": "execute_result"
    }
   ],
   "source": [
    "# Define the SPEC and SCAM Exposures\n",
    "spec_300s = NIRESSpecDetectorConfig(exptime=300, readoutmode='MCDS32', coadds=1)\n",
    "scam_10s = NIRESScamDetectorConfig(exptime=10, readoutmode='CDS', coadds=1, nexp=6)\n",
    "# Define a NIRES instrument config\n",
    "nires = NIRESConfig()\n",
    "# Define the ABBA pattern to use\n",
    "abba5 = ABBA(offset=10*u.arcsec, repeat=5)\n",
    "# Define the OB\n",
    "OB1 = ScienceBlock(target=ngc1333, pattern=abba5, instconfig=nires, detconfig=[spec_300s, scam_10s], align=GuiderAlign(faint=True))\n",
    "OBs = ObservingBlockList([OB1])\n",
    "OBs"
   ]
  },
  {
   "cell_type": "code",
   "execution_count": 12,
   "metadata": {},
   "outputs": [
    {
     "data": {
      "text/plain": [
       "[{'target': 'NGC1333',\n",
       "  'pattern': 'ABBA (10.00 arcsec) x5',\n",
       "  'instconfig': 'NIRES Instrument Config',\n",
       "  'detconfig': ['NIRES Spec 300s (MCDS32, 1 coadds) x1',\n",
       "   'NIRES SCAM 10s (CDS, 1 coadds) x6'],\n",
       "  'align': 'Guider Align, faint',\n",
       "  'blocktype': 'Science',\n",
       "  'associatedblocks': ['None'],\n",
       "  'guidestar': None,\n",
       "  'drp_args': None,\n",
       "  'ql_args': None}]"
      ]
     },
     "execution_count": 12,
     "metadata": {},
     "output_type": "execute_result"
    }
   ],
   "source": [
    "# Short Version\n",
    "[OB.to_dict(usenames=True) for OB in OBs]"
   ]
  },
  {
   "cell_type": "code",
   "execution_count": 13,
   "metadata": {},
   "outputs": [],
   "source": [
    "# Long Version\n",
    "with open('ODL_Test_Case2.yaml', 'w') as file:\n",
    "    file.write(OBs.to_yaml())"
   ]
  },
  {
   "cell_type": "markdown",
   "metadata": {},
   "source": [
    "### 3) A MOSFIRE MOS Mask\n",
    "\n",
    "Observe a MOS mask using MOSFIRE in spectroscopy mode in the Y, J, H, and K filters.  Use the reccommended exposure time of either 120 or 180 seconds (depending on filter) with MCDS16 readout mode.  For the filters with 180 second exposures, use 5 repeats of an ABBA sequence, for the filters with 120 second exposures use 8 repeats.  The ABBA sequence should have a dither magnitude of 1.25 arcseconds."
   ]
  },
  {
   "cell_type": "code",
   "execution_count": 14,
   "metadata": {},
   "outputs": [],
   "source": [
    "from odl.keck.mosfire import MOSFIREConfig, MOSFIREDetectorConfig, long2pos, ABBA, mira, MOSFIREMaskAlign, MOSFIREBrightStarAlign"
   ]
  },
  {
   "cell_type": "markdown",
   "metadata": {},
   "source": [
    "#### MOSFIRE Mask Note\n",
    "\n",
    "In this example, the MOSFIRE mask is simply a string with the name of the mask.  In an actual implementaion, it would have to be either a an xml file or a reference to a database entry containing the mask design (which would contain the same info as the xml file)."
   ]
  },
  {
   "cell_type": "code",
   "execution_count": 15,
   "metadata": {},
   "outputs": [
    {
     "data": {
      "text/plain": [
       "Target         |Pattern               |InstrumentConfig                             |DetectorConfig                      |AlignmentMethod     \n",
       "---------------|----------------------|---------------------------------------------|------------------------------------|--------------------\n",
       "NGC1333        |ABBA (1.25 arcsec) x5 |my_MOS_mask Y-spectroscopy                   |[MOSFIRE 180s (MCDS16, 1 coadds) x1]|Mask Align (MOSFIRE 7s (CDS, 3 coadds) x1) take sky\n",
       "NGC1333        |ABBA (1.25 arcsec) x8 |my_MOS_mask J-spectroscopy                   |[MOSFIRE 120s (MCDS16, 1 coadds) x1]|None                \n",
       "NGC1333        |ABBA (1.25 arcsec) x8 |my_MOS_mask H-spectroscopy                   |[MOSFIRE 120s (MCDS16, 1 coadds) x1]|None                \n",
       "NGC1333        |ABBA (1.25 arcsec) x5 |my_MOS_mask K-spectroscopy                   |[MOSFIRE 180s (MCDS16, 1 coadds) x1]|None                "
      ]
     },
     "execution_count": 15,
     "metadata": {},
     "output_type": "execute_result"
    }
   ],
   "source": [
    "# Define my long science exposures\n",
    "mosfire_180s = MOSFIREDetectorConfig(exptime=180, readoutmode='MCDS16', coadds=1)\n",
    "mosfire_120s = MOSFIREDetectorConfig(exptime=120, readoutmode='MCDS16', coadds=1)\n",
    "# Define my instrument config\n",
    "mosfire_Y = MOSFIREConfig(mode='spectroscopy', filter='Y', mask='my_MOS_mask')\n",
    "mosfire_J = MOSFIREConfig(mode='spectroscopy', filter='J', mask='my_MOS_mask')\n",
    "mosfire_H = MOSFIREConfig(mode='spectroscopy', filter='H', mask='my_MOS_mask')\n",
    "mosfire_K = MOSFIREConfig(mode='spectroscopy', filter='K', mask='my_MOS_mask')\n",
    "# Define the offset patterns to use for the science exposures\n",
    "abba5 = ABBA(offset=1.25*u.arcsec, repeat=5)\n",
    "abba8 = ABBA(offset=1.25*u.arcsec, repeat=8)\n",
    "# Define the science OB\n",
    "OBs = ObservingBlockList([ScienceBlock(target=ngc1333, pattern=abba5, instconfig=mosfire_Y, detconfig=mosfire_180s, align=MOSFIREMaskAlign()),\n",
    "                          ScienceBlock(target=ngc1333, pattern=abba8, instconfig=mosfire_J, detconfig=mosfire_120s, align=None),\n",
    "                          ScienceBlock(target=ngc1333, pattern=abba8, instconfig=mosfire_H, detconfig=mosfire_120s, align=None),\n",
    "                          ScienceBlock(target=ngc1333, pattern=abba5, instconfig=mosfire_K, detconfig=mosfire_180s, align=None),\n",
    "                         ])\n",
    "OBs"
   ]
  },
  {
   "cell_type": "code",
   "execution_count": 16,
   "metadata": {},
   "outputs": [
    {
     "data": {
      "text/plain": [
       "[{'target': 'NGC1333',\n",
       "  'pattern': 'ABBA (1.25 arcsec) x5',\n",
       "  'instconfig': 'my_MOS_mask Y-spectroscopy',\n",
       "  'detconfig': ['MOSFIRE 180s (MCDS16, 1 coadds) x1'],\n",
       "  'align': 'Mask Align (MOSFIRE 7s (CDS, 3 coadds) x1) take sky',\n",
       "  'blocktype': 'Science',\n",
       "  'associatedblocks': ['None'],\n",
       "  'guidestar': None,\n",
       "  'drp_args': None,\n",
       "  'ql_args': None},\n",
       " {'target': 'NGC1333',\n",
       "  'pattern': 'ABBA (1.25 arcsec) x8',\n",
       "  'instconfig': 'my_MOS_mask J-spectroscopy',\n",
       "  'detconfig': ['MOSFIRE 120s (MCDS16, 1 coadds) x1'],\n",
       "  'align': 'None',\n",
       "  'blocktype': 'Science',\n",
       "  'associatedblocks': ['None'],\n",
       "  'guidestar': None,\n",
       "  'drp_args': None,\n",
       "  'ql_args': None},\n",
       " {'target': 'NGC1333',\n",
       "  'pattern': 'ABBA (1.25 arcsec) x8',\n",
       "  'instconfig': 'my_MOS_mask H-spectroscopy',\n",
       "  'detconfig': ['MOSFIRE 120s (MCDS16, 1 coadds) x1'],\n",
       "  'align': 'None',\n",
       "  'blocktype': 'Science',\n",
       "  'associatedblocks': ['None'],\n",
       "  'guidestar': None,\n",
       "  'drp_args': None,\n",
       "  'ql_args': None},\n",
       " {'target': 'NGC1333',\n",
       "  'pattern': 'ABBA (1.25 arcsec) x5',\n",
       "  'instconfig': 'my_MOS_mask K-spectroscopy',\n",
       "  'detconfig': ['MOSFIRE 180s (MCDS16, 1 coadds) x1'],\n",
       "  'align': 'None',\n",
       "  'blocktype': 'Science',\n",
       "  'associatedblocks': ['None'],\n",
       "  'guidestar': None,\n",
       "  'drp_args': None,\n",
       "  'ql_args': None}]"
      ]
     },
     "execution_count": 16,
     "metadata": {},
     "output_type": "execute_result"
    }
   ],
   "source": [
    "# Short Version\n",
    "[OB.to_dict(usenames=True) for OB in OBs]"
   ]
  },
  {
   "cell_type": "code",
   "execution_count": 17,
   "metadata": {},
   "outputs": [],
   "source": [
    "# Long Version\n",
    "with open('ODL_Test_Case3.yaml', 'w') as file:\n",
    "    file.write(OBs.to_yaml())"
   ]
  },
  {
   "cell_type": "markdown",
   "metadata": {},
   "source": [
    "### 4) A MOSFIRE Single Object\n",
    "\n",
    "Observe a single object using MOSFIRE in spectroscopy mode in the Y, J, H, and K filters.  Use the reccommended exposure time of either 120 or 180 seconds (depending on filter) with MCDS16 readout mode.  Use the longslit for Y and J filters with an ABBA pattern and 2 repeats, but use long2pos mask and a long2pos pattern for the H and K observations."
   ]
  },
  {
   "cell_type": "code",
   "execution_count": 18,
   "metadata": {},
   "outputs": [
    {
     "data": {
      "text/plain": [
       "Target         |Pattern               |InstrumentConfig                             |DetectorConfig                      |AlignmentMethod     \n",
       "---------------|----------------------|---------------------------------------------|------------------------------------|--------------------\n",
       "NGC1333        |ABBA (1.25 arcsec) x2 |longslit_3x0.7 Y-spectroscopy                |[MOSFIRE 180s (MCDS16, 1 coadds) x1]|Mask Align (MOSFIRE 7s (CDS, 3 coadds) x1) take sky\n",
       "NGC1333        |ABBA (1.25 arcsec) x2 |longslit_3x0.7 J-spectroscopy                |[MOSFIRE 120s (MCDS16, 1 coadds) x1]|None                \n",
       "NGC1333        |long2pos x2           |long2pos H-spectroscopy                      |[MOSFIRE 120s (MCDS16, 1 coadds) x1]|None                \n",
       "NGC1333        |long2pos x2           |long2pos K-spectroscopy                      |[MOSFIRE 180s (MCDS16, 1 coadds) x1]|None                "
      ]
     },
     "execution_count": 18,
     "metadata": {},
     "output_type": "execute_result"
    }
   ],
   "source": [
    "# Define my long science exposures\n",
    "mosfire_180s = MOSFIREDetectorConfig(exptime=180, readoutmode='MCDS16', coadds=1)\n",
    "mosfire_120s = MOSFIREDetectorConfig(exptime=120, readoutmode='MCDS16', coadds=1)\n",
    "# Define my instrument config\n",
    "singleobj_Y = MOSFIREConfig(mode='spectroscopy', filter='Y', mask='longslit_3x0.7')\n",
    "singleobj_J = MOSFIREConfig(mode='spectroscopy', filter='J', mask='longslit_3x0.7')\n",
    "singleobj_H = MOSFIREConfig(mode='spectroscopy', filter='H', mask='long2pos')\n",
    "singleobj_K = MOSFIREConfig(mode='spectroscopy', filter='K', mask='long2pos')\n",
    "# Define the offset patterns to use for the science exposures\n",
    "abba2 = ABBA(offset=1.25*u.arcsec, repeat=2)\n",
    "long2pos_pattern = long2pos(repeat=2)\n",
    "# Define the science OB\n",
    "OBs = ObservingBlockList([ScienceBlock(target=ngc1333, detconfig=mosfire_180s, pattern=abba2, instconfig=singleobj_Y, align=MOSFIREMaskAlign()),\n",
    "                          ScienceBlock(target=ngc1333, detconfig=mosfire_120s, pattern=abba2, instconfig=singleobj_J, align=None),\n",
    "                          ScienceBlock(target=ngc1333, detconfig=mosfire_120s, pattern=long2pos_pattern, instconfig=singleobj_H, align=None),\n",
    "                          ScienceBlock(target=ngc1333, detconfig=mosfire_180s, pattern=long2pos_pattern, instconfig=singleobj_K, align=None),\n",
    "                         ])\n",
    "OBs"
   ]
  },
  {
   "cell_type": "code",
   "execution_count": 19,
   "metadata": {},
   "outputs": [
    {
     "data": {
      "text/plain": [
       "[{'target': 'NGC1333',\n",
       "  'pattern': 'ABBA (1.25 arcsec) x2',\n",
       "  'instconfig': 'longslit_3x0.7 Y-spectroscopy',\n",
       "  'detconfig': ['MOSFIRE 180s (MCDS16, 1 coadds) x1'],\n",
       "  'align': 'Mask Align (MOSFIRE 7s (CDS, 3 coadds) x1) take sky',\n",
       "  'blocktype': 'Science',\n",
       "  'associatedblocks': ['None'],\n",
       "  'guidestar': None,\n",
       "  'drp_args': None,\n",
       "  'ql_args': None},\n",
       " {'target': 'NGC1333',\n",
       "  'pattern': 'ABBA (1.25 arcsec) x2',\n",
       "  'instconfig': 'longslit_3x0.7 J-spectroscopy',\n",
       "  'detconfig': ['MOSFIRE 120s (MCDS16, 1 coadds) x1'],\n",
       "  'align': 'None',\n",
       "  'blocktype': 'Science',\n",
       "  'associatedblocks': ['None'],\n",
       "  'guidestar': None,\n",
       "  'drp_args': None,\n",
       "  'ql_args': None},\n",
       " {'target': 'NGC1333',\n",
       "  'pattern': 'long2pos x2',\n",
       "  'instconfig': 'long2pos H-spectroscopy',\n",
       "  'detconfig': ['MOSFIRE 120s (MCDS16, 1 coadds) x1'],\n",
       "  'align': 'None',\n",
       "  'blocktype': 'Science',\n",
       "  'associatedblocks': ['None'],\n",
       "  'guidestar': None,\n",
       "  'drp_args': None,\n",
       "  'ql_args': None},\n",
       " {'target': 'NGC1333',\n",
       "  'pattern': 'long2pos x2',\n",
       "  'instconfig': 'long2pos K-spectroscopy',\n",
       "  'detconfig': ['MOSFIRE 180s (MCDS16, 1 coadds) x1'],\n",
       "  'align': 'None',\n",
       "  'blocktype': 'Science',\n",
       "  'associatedblocks': ['None'],\n",
       "  'guidestar': None,\n",
       "  'drp_args': None,\n",
       "  'ql_args': None}]"
      ]
     },
     "execution_count": 19,
     "metadata": {},
     "output_type": "execute_result"
    }
   ],
   "source": [
    "# Short Version\n",
    "[OB.to_dict(usenames=True) for OB in OBs]"
   ]
  },
  {
   "cell_type": "code",
   "execution_count": 20,
   "metadata": {},
   "outputs": [],
   "source": [
    "# Long Version\n",
    "with open('ODL_Test_Case4.yaml', 'w') as file:\n",
    "    file.write(OBs.to_yaml())"
   ]
  },
  {
   "cell_type": "markdown",
   "metadata": {},
   "source": [
    "### 5) An Unusual MOSFIRE Observation\n",
    "\n",
    "First, acquire a target using an offset star and a MOS mask alignment process with a MOSFIRE long slit.\n",
    "\n",
    "Second, after offsetting to target, image the target in J-band through the alignment mask.  Use 9 coadds of 10 seconds each.\n",
    "\n",
    "Finally, take Y and J longslit spectra of the target using an ABBA pattern with 3 repeats and standard MOSFIRE exposure parameters (e.g. 180s and 120s exposure times)."
   ]
  },
  {
   "cell_type": "code",
   "execution_count": 21,
   "metadata": {},
   "outputs": [
    {
     "data": {
      "text/plain": [
       "Target         |Pattern               |InstrumentConfig                             |DetectorConfig                      |AlignmentMethod     \n",
       "---------------|----------------------|---------------------------------------------|------------------------------------|--------------------\n",
       "NGC1333        |SkyStar (10 10) x1    |longslit_46x0.7-align J-imaging              |[MOSFIRE 10s (CDS, 9 coadds) x1]    |Mask Align (MOSFIRE 7s (CDS, 3 coadds) x1) take sky\n",
       "NGC1333        |ABBA (1.25 arcsec) x3 |longslit_46x0.7 J-spectroscopy               |[MOSFIRE 120s (MCDS16, 1 coadds) x1]|None                \n",
       "NGC1333        |ABBA (1.25 arcsec) x3 |longslit_46x0.7 Y-spectroscopy               |[MOSFIRE 180s (MCDS16, 1 coadds) x1]|None                "
      ]
     },
     "execution_count": 21,
     "metadata": {},
     "output_type": "execute_result"
    }
   ],
   "source": [
    "# Define my science exposures\n",
    "mosfire_30sx3 = MOSFIREDetectorConfig(exptime=30, readoutmode='CDS', coadds=3)\n",
    "mosfire_10sx9 = MOSFIREDetectorConfig(exptime=10, readoutmode='CDS', coadds=9)\n",
    "mosfire_180s = MOSFIREDetectorConfig(exptime=180, readoutmode='MCDS16', coadds=1)\n",
    "mosfire_120s = MOSFIREDetectorConfig(exptime=120, readoutmode='MCDS16', coadds=1)\n",
    "# Define my instrument config\n",
    "#   Build explicit align version of the mask so it can be sent as unique science mask\n",
    "singleobj_J_align = MOSFIREConfig(mode='imaging', filter='J', mask='longslit_46x0.7', alignmask=True)\n",
    "#   Build normal spectroscopy masks\n",
    "singleobj_J = MOSFIREConfig(mode='spectroscopy', filter='J', mask='longslit_46x0.7')\n",
    "singleobj_Y = MOSFIREConfig(mode='spectroscopy', filter='Y', mask='longslit_46x0.7')\n",
    "# Define the offset patterns to use for the science exposures\n",
    "skystar = SkyStar(dx=10*u.arcsec, dy=10*u.arcsec)\n",
    "abba3 = ABBA(offset=1.25*u.arcsec, repeat=3)\n",
    "# Define the science OB\n",
    "OBs = ObservingBlockList([ScienceBlock(target=ngc1333, pattern=skystar, instconfig=singleobj_J_align, detconfig=mosfire_10sx9, align=MOSFIREMaskAlign()),\n",
    "                          ScienceBlock(target=ngc1333, pattern=abba3, instconfig=singleobj_J, detconfig=mosfire_120s, align=None),\n",
    "                          ScienceBlock(target=ngc1333, pattern=abba3, instconfig=singleobj_Y, detconfig=mosfire_180s, align=None),\n",
    "                         ])\n",
    "OBs"
   ]
  },
  {
   "cell_type": "code",
   "execution_count": 22,
   "metadata": {},
   "outputs": [
    {
     "data": {
      "text/plain": [
       "[{'target': 'NGC1333',\n",
       "  'pattern': 'SkyStar (10 10) x1',\n",
       "  'instconfig': 'longslit_46x0.7-align J-imaging',\n",
       "  'detconfig': ['MOSFIRE 10s (CDS, 9 coadds) x1'],\n",
       "  'align': 'Mask Align (MOSFIRE 7s (CDS, 3 coadds) x1) take sky',\n",
       "  'blocktype': 'Science',\n",
       "  'associatedblocks': ['None'],\n",
       "  'guidestar': None,\n",
       "  'drp_args': None,\n",
       "  'ql_args': None},\n",
       " {'target': 'NGC1333',\n",
       "  'pattern': 'ABBA (1.25 arcsec) x3',\n",
       "  'instconfig': 'longslit_46x0.7 J-spectroscopy',\n",
       "  'detconfig': ['MOSFIRE 120s (MCDS16, 1 coadds) x1'],\n",
       "  'align': 'None',\n",
       "  'blocktype': 'Science',\n",
       "  'associatedblocks': ['None'],\n",
       "  'guidestar': None,\n",
       "  'drp_args': None,\n",
       "  'ql_args': None},\n",
       " {'target': 'NGC1333',\n",
       "  'pattern': 'ABBA (1.25 arcsec) x3',\n",
       "  'instconfig': 'longslit_46x0.7 Y-spectroscopy',\n",
       "  'detconfig': ['MOSFIRE 180s (MCDS16, 1 coadds) x1'],\n",
       "  'align': 'None',\n",
       "  'blocktype': 'Science',\n",
       "  'associatedblocks': ['None'],\n",
       "  'guidestar': None,\n",
       "  'drp_args': None,\n",
       "  'ql_args': None}]"
      ]
     },
     "execution_count": 22,
     "metadata": {},
     "output_type": "execute_result"
    }
   ],
   "source": [
    "# Short Version\n",
    "[OB.to_dict(usenames=True) for OB in OBs]"
   ]
  },
  {
   "cell_type": "code",
   "execution_count": 23,
   "metadata": {},
   "outputs": [],
   "source": [
    "# Long Version\n",
    "with open('ODL_Test_Case5.yaml', 'w') as file:\n",
    "    file.write(OBs.to_yaml())"
   ]
  },
  {
   "cell_type": "markdown",
   "metadata": {},
   "source": [
    "### 6) An Unusual MOSFIRE Observation: Alternate Observing Strategy\n",
    "\n",
    "First, acquire a target using an offset star and a MOS mask alignment process with a MOSFIRE long slit.\n",
    "\n",
    "Second, after offsetting to target, image the target in J-band through the alignment mask.  Use 9 coadds of 10 seconds each.\n",
    "\n",
    "Third, instead of changing to the “science” long slit mask, take the Y and J spectra by offsetting the target away from the central alignment box."
   ]
  },
  {
   "cell_type": "code",
   "execution_count": 24,
   "metadata": {},
   "outputs": [
    {
     "data": {
      "text/plain": [
       "Target         |Pattern               |InstrumentConfig                             |DetectorConfig                      |AlignmentMethod     \n",
       "---------------|----------------------|---------------------------------------------|------------------------------------|--------------------\n",
       "NGC1333        |SkyStar (10 10) x1    |longslit_46x0.7-align J-imaging              |[MOSFIRE 10s (CDS, 9 coadds) x1]    |Mask Align (MOSFIRE 7s (CDS, 3 coadds) x1) take sky\n",
       "NGC1333        |ABBA (7.00 arcsec) x3 |longslit_46x0.7-align J-spectroscopy         |[MOSFIRE 120s (MCDS16, 1 coadds) x1]|None                \n",
       "NGC1333        |ABBA (7.00 arcsec) x3 |longslit_46x0.7-align Y-spectroscopy         |[MOSFIRE 180s (MCDS16, 1 coadds) x1]|None                "
      ]
     },
     "execution_count": 24,
     "metadata": {},
     "output_type": "execute_result"
    }
   ],
   "source": [
    "# Define my science exposures\n",
    "mosfire_30sx3 = MOSFIREDetectorConfig(exptime=30, readoutmode='CDS', coadds=3)\n",
    "mosfire_10sx9 = MOSFIREDetectorConfig(exptime=10, readoutmode='CDS', coadds=9)\n",
    "mosfire_180s = MOSFIREDetectorConfig(exptime=180, readoutmode='MCDS16', coadds=1)\n",
    "mosfire_120s = MOSFIREDetectorConfig(exptime=120, readoutmode='MCDS16', coadds=1)\n",
    "# Define my instrument config\n",
    "#   Build explicit align version of the mask so it can be sent as unique science mask\n",
    "singleobj_J_align = MOSFIREConfig(mode='imaging', filter='J', mask='longslit_46x0.7', alignmask=True)\n",
    "singleobj_J_spec = MOSFIREConfig(mode='spectroscopy', filter='J', mask='longslit_46x0.7', alignmask=True)\n",
    "singleobj_Y_spec = MOSFIREConfig(mode='spectroscopy', filter='Y', mask='longslit_46x0.7', alignmask=True)\n",
    "# Define the offset patterns to use for the science exposures\n",
    "skystar = SkyStar(dx=10*u.arcsec, dy=10*u.arcsec)\n",
    "abba_wide3 = ABBA(offset=7*u.arcsec, repeat=3)\n",
    "# Define the science OB\n",
    "OBs = ObservingBlockList([ScienceBlock(target=ngc1333, pattern=skystar, instconfig=singleobj_J_align, detconfig=mosfire_10sx9, align=MOSFIREMaskAlign()),\n",
    "                          ScienceBlock(target=ngc1333, pattern=abba_wide3, instconfig=singleobj_J_spec, detconfig=mosfire_120s, align=None),\n",
    "                          ScienceBlock(target=ngc1333, pattern=abba_wide3, instconfig=singleobj_Y_spec, detconfig=mosfire_180s, align=None),\n",
    "                         ])\n",
    "OBs"
   ]
  },
  {
   "cell_type": "code",
   "execution_count": 25,
   "metadata": {},
   "outputs": [
    {
     "data": {
      "text/plain": [
       "[{'target': 'NGC1333',\n",
       "  'pattern': 'SkyStar (10 10) x1',\n",
       "  'instconfig': 'longslit_46x0.7-align J-imaging',\n",
       "  'detconfig': ['MOSFIRE 10s (CDS, 9 coadds) x1'],\n",
       "  'align': 'Mask Align (MOSFIRE 7s (CDS, 3 coadds) x1) take sky',\n",
       "  'blocktype': 'Science',\n",
       "  'associatedblocks': ['None'],\n",
       "  'guidestar': None,\n",
       "  'drp_args': None,\n",
       "  'ql_args': None},\n",
       " {'target': 'NGC1333',\n",
       "  'pattern': 'ABBA (7.00 arcsec) x3',\n",
       "  'instconfig': 'longslit_46x0.7-align J-spectroscopy',\n",
       "  'detconfig': ['MOSFIRE 120s (MCDS16, 1 coadds) x1'],\n",
       "  'align': 'None',\n",
       "  'blocktype': 'Science',\n",
       "  'associatedblocks': ['None'],\n",
       "  'guidestar': None,\n",
       "  'drp_args': None,\n",
       "  'ql_args': None},\n",
       " {'target': 'NGC1333',\n",
       "  'pattern': 'ABBA (7.00 arcsec) x3',\n",
       "  'instconfig': 'longslit_46x0.7-align Y-spectroscopy',\n",
       "  'detconfig': ['MOSFIRE 180s (MCDS16, 1 coadds) x1'],\n",
       "  'align': 'None',\n",
       "  'blocktype': 'Science',\n",
       "  'associatedblocks': ['None'],\n",
       "  'guidestar': None,\n",
       "  'drp_args': None,\n",
       "  'ql_args': None}]"
      ]
     },
     "execution_count": 25,
     "metadata": {},
     "output_type": "execute_result"
    }
   ],
   "source": [
    "# Short Version\n",
    "[OB.to_dict(usenames=True) for OB in OBs]"
   ]
  },
  {
   "cell_type": "code",
   "execution_count": 26,
   "metadata": {},
   "outputs": [],
   "source": [
    "# Long Version\n",
    "with open('ODL_Test_Case6.yaml', 'w') as file:\n",
    "    file.write(OBs.to_yaml())"
   ]
  },
  {
   "cell_type": "markdown",
   "metadata": {},
   "source": [
    "### 7) An unusual single object acquisition with LRIS\n",
    "\n",
    "First, acquire and perform a MOS observation with LRIS.\n",
    "\n",
    "Second, using the same MOS mask, put a standard star on one of the slits and observe it there instead of switching to long slit.\n",
    "\n",
    "The motivation for this was to save reconfig time with LRIS and to capture the standard star spectrum with a wavelength coverage that was more useful for the science than would have been obtained with a normal long slit.  The observers wanted to get the red end of the spectrum which would have gone off the edge of the detector for a normal long slit.  This matched the wavelength coverage of the highest priority slit in their mask."
   ]
  },
  {
   "cell_type": "markdown",
   "metadata": {},
   "source": [
    "#### Note\n",
    "\n",
    "Since this version of ODL has a backend, I did not do this example for LRIS, but for MOSFIRE as I do not have the components programmed for LRIS.  The principles are the same.\n",
    "\n",
    "#### Explaination\n",
    "\n",
    "This is obviously a challenging one to describe.  Without building a separate custom alignment tool, here's one way to describe the observation.  This uses a \"dummy\" OB with no observations in order to get the sequencing right.\n",
    "\n",
    "1. Observe the normal science OB as usual\n",
    "2. Observe the dummy OB:\n",
    "    - Slew to the standard star, but using a custom `Target` which has offsets which places the star in one of the alignment boxes in the mask.  Observers would have to pre-calculate the offsets based on the mask design or based on a mask image from the afternoon.\n",
    "    - Since this is a blind alignment, nothing happens for alignment step.\n",
    "    - Since the detector config is None, no science exposures are taken.\n",
    "3. Observe the standard star OB:\n",
    "    - The target is `None`, so no slew is made.\n",
    "    - Align the target in the alignment box (where it was placed by the previous OB) using the normal process for bright alignment stars.\n",
    "    - Observe the target using a special offset pattern which has a single position which is offset from base.  The offsets in that pattern would have to be calculated ahead of time by the observers to move the star from the alignment box to the slit of choice.\n"
   ]
  },
  {
   "cell_type": "code",
   "execution_count": 27,
   "metadata": {},
   "outputs": [
    {
     "data": {
      "text/plain": [
       "Target         |Pattern               |InstrumentConfig                             |DetectorConfig                      |AlignmentMethod     \n",
       "---------------|----------------------|---------------------------------------------|------------------------------------|--------------------\n",
       "NGC1333        |ABBA (1.25 arcsec) x5 |my_MOS_mask Y-spectroscopy                   |[MOSFIRE 180s (MCDS16, 1 coadds) x1]|Mask Align (MOSFIRE 7s (CDS, 3 coadds) x1) take sky\n",
       "Feige110       |Stare x1              |my_MOS_mask Y-spectroscopy                   |[None]                              |Blind Align         \n",
       "None           |Special x1            |my_MOS_mask Y-spectroscopy                   |[MOSFIRE 10s (CDS, 1 coadds) x1]    |Mask Align (MOSFIRE 2s (CDS, 5 coadds) x1)"
      ]
     },
     "execution_count": 27,
     "metadata": {},
     "output_type": "execute_result"
    }
   ],
   "source": [
    "# Define my long science exposures\n",
    "mosfire_180s = MOSFIREDetectorConfig(exptime=180, readoutmode='MCDS16', coadds=1)\n",
    "mosfire_10s = MOSFIREDetectorConfig(exptime=10, readoutmode='CDS', coadds=1)\n",
    "# Define my instrument config\n",
    "mosfire_Y = MOSFIREConfig(mode='spectroscopy', filter='Y', mask='my_MOS_mask')\n",
    "# Define the offset patterns to use for the science exposures\n",
    "abba5 = ABBA(offset=1.25*u.arcsec, repeat=5)\n",
    "\n",
    "# Define the science OBs\n",
    "sci = ScienceBlock(target=ngc1333, pattern=abba5, instconfig=mosfire_Y,\n",
    "                   detconfig=mosfire_180s, align=MOSFIREMaskAlign(),\n",
    "                   associatedblocks=std)\n",
    "\n",
    "# Define the Special Standard Star OB Components\n",
    "feige110_offset = feige110 = Target('Feige110',\n",
    "                                   RAOffset=22.3,\n",
    "                                   DecOffset=18.5,\n",
    "                                  )\n",
    "\n",
    "dummy = StandardStarBlock(target=feige110_offset,\n",
    "                          pattern=Stare(),\n",
    "                          instconfig=mosfire_Y,\n",
    "                          detconfig=None,\n",
    "                          align=BlindAlign(),\n",
    "                          )\n",
    "custom_pattern = OffsetPattern([TelescopeOffset(dx=-35.1*u.arcsec,\n",
    "                                                dy=-29.9*u.arcsec,\n",
    "                                                posname='on_slit',\n",
    "                                                frame=SkyFrame())],\n",
    "                               name='Special', repeat=1)\n",
    "std = StandardStarBlock(target=None,\n",
    "                        pattern=custom_pattern,\n",
    "                        instconfig=mosfire_Y,\n",
    "                        detconfig=mosfire_10s,\n",
    "                        align=MOSFIREBrightStarAlign(),\n",
    "                        )\n",
    "\n",
    "OBs = ObservingBlockList([sci,dummy,std])\n",
    "OBs"
   ]
  },
  {
   "cell_type": "code",
   "execution_count": 28,
   "metadata": {},
   "outputs": [
    {
     "data": {
      "text/plain": [
       "[{'target': 'NGC1333',\n",
       "  'pattern': 'ABBA (1.25 arcsec) x5',\n",
       "  'instconfig': 'my_MOS_mask Y-spectroscopy',\n",
       "  'detconfig': ['MOSFIRE 180s (MCDS16, 1 coadds) x1'],\n",
       "  'align': 'Mask Align (MOSFIRE 7s (CDS, 3 coadds) x1) take sky',\n",
       "  'blocktype': 'Science',\n",
       "  'associatedblocks': ['StandardStar, Feige110, Stare x1, medium BH3 4800 A, (KCWIblue 10s x1, KCWIred 10s x1)'],\n",
       "  'guidestar': None,\n",
       "  'drp_args': None,\n",
       "  'ql_args': None},\n",
       " {'target': 'Feige110',\n",
       "  'pattern': 'Stare x1',\n",
       "  'instconfig': 'my_MOS_mask Y-spectroscopy',\n",
       "  'detconfig': ['None'],\n",
       "  'align': 'Blind Align',\n",
       "  'blocktype': 'StandardStar',\n",
       "  'associatedblocks': ['None'],\n",
       "  'guidestar': None,\n",
       "  'drp_args': None,\n",
       "  'ql_args': None},\n",
       " {'target': 'None',\n",
       "  'pattern': 'Special x1',\n",
       "  'instconfig': 'my_MOS_mask Y-spectroscopy',\n",
       "  'detconfig': ['MOSFIRE 10s (CDS, 1 coadds) x1'],\n",
       "  'align': 'Mask Align (MOSFIRE 2s (CDS, 5 coadds) x1)',\n",
       "  'blocktype': 'StandardStar',\n",
       "  'associatedblocks': ['None'],\n",
       "  'guidestar': None,\n",
       "  'drp_args': None,\n",
       "  'ql_args': None}]"
      ]
     },
     "execution_count": 28,
     "metadata": {},
     "output_type": "execute_result"
    }
   ],
   "source": [
    "# Short Version\n",
    "[OB.to_dict(usenames=True) for OB in OBs]"
   ]
  },
  {
   "cell_type": "code",
   "execution_count": 29,
   "metadata": {},
   "outputs": [],
   "source": [
    "# Long Version\n",
    "with open('ODL_Test_Case7.yaml', 'w') as file:\n",
    "    file.write(OBs.to_yaml())"
   ]
  },
  {
   "cell_type": "code",
   "execution_count": null,
   "metadata": {},
   "outputs": [],
   "source": []
  }
 ],
 "metadata": {
  "kernelspec": {
   "display_name": "Python 3",
   "language": "python",
   "name": "python3"
  },
  "language_info": {
   "codemirror_mode": {
    "name": "ipython",
    "version": 3
   },
   "file_extension": ".py",
   "mimetype": "text/x-python",
   "name": "python",
   "nbconvert_exporter": "python",
   "pygments_lexer": "ipython3",
   "version": "3.7.6"
  }
 },
 "nbformat": 4,
 "nbformat_minor": 4
}
