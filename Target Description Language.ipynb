{
 "cells": [
  {
   "cell_type": "markdown",
   "metadata": {},
   "source": [
    "# Target Description Language"
   ]
  },
  {
   "cell_type": "code",
   "execution_count": 1,
   "metadata": {},
   "outputs": [],
   "source": [
    "from pathlib import Path\n",
    "import yaml\n",
    "from keckODL.target import Target, TargetList\n",
    "from keckODL import upload_to_DB"
   ]
  },
  {
   "cell_type": "code",
   "execution_count": 2,
   "metadata": {},
   "outputs": [
    {
     "data": {
      "text/plain": [
       "M42              05 30 29.67 -05 07 23.30 2000 rotmode=PA PA=90.0 raoff=8.4 decoff=-4.5 wrap=shortest vmag=4.30 # Vmag=4.30 Kmag=6.70 Star formation is cool"
      ]
     },
     "execution_count": 2,
     "metadata": {},
     "output_type": "execute_result"
    }
   ],
   "source": [
    "# Example: fully specify target.  Coordinates in decimal degrees.\n",
    "t1 = Target(name='M42', RA=82.5, Dec=-5, frame='icrs',\n",
    "            PMRA=10, PMDec=-10, epoch=1975.5,\n",
    "            rotmode='PA', PA=90,\n",
    "            objecttype='science',\n",
    "            RAOffset=8.4, DecOffset=-4.5,\n",
    "            acquisition='guider: offset',\n",
    "            mag={'V': 4.3, 'K': 6.7},\n",
    "            comment='Star formation is cool',\n",
    "            wrap='shortest',\n",
    "           )\n",
    "t1"
   ]
  },
  {
   "cell_type": "code",
   "execution_count": 3,
   "metadata": {},
   "outputs": [
    {
     "data": {
      "text/plain": [
       "M31              00 42 44.33 +41 16 07.50 2000 rotmode=PA PA=32.0 raoff=12.1 decoff=-1.9 wrap=north vmag=2.30 # Vmag=2.30 Kmag=8.70 Galaxies are boring"
      ]
     },
     "execution_count": 3,
     "metadata": {},
     "output_type": "execute_result"
    }
   ],
   "source": [
    "# Example: fully specify target.  Coordinates in hmsdms.\n",
    "t2 = Target(name='M31', RA='00:42:44.33', Dec='41:16:07.50',\n",
    "            rotmode='PA', PA=32,\n",
    "            RAOffset=12.1, DecOffset=-1.9,\n",
    "            objecttype='science',\n",
    "            acquisition='guider: offset',\n",
    "            mag={'V': 2.3, 'K': 8.7},\n",
    "            comment='Galaxies are boring',\n",
    "            wrap='north',\n",
    "           )\n",
    "t2"
   ]
  },
  {
   "cell_type": "code",
   "execution_count": 4,
   "metadata": {},
   "outputs": [
    {
     "data": {
      "text/plain": [
       "NGC1333          03 29 08.95 +31 22 07.68 2000 rotmode=PA PA=22.5 # Low mass star formation is the coolest"
      ]
     },
     "execution_count": 4,
     "metadata": {},
     "output_type": "execute_result"
    }
   ],
   "source": [
    "# Example: Resolve target by name.\n",
    "t3 = Target('NGC1333',\n",
    "            rotmode='PA', PA=22.5,\n",
    "            objecttype='science',\n",
    "            acquisition='blind',\n",
    "            comment='Low mass star formation is the coolest')\n",
    "t3"
   ]
  },
  {
   "cell_type": "code",
   "execution_count": 5,
   "metadata": {},
   "outputs": [
    {
     "name": "stderr",
     "output_type": "stream",
     "text": [
      "/Users/joshw/git/KeckODL/keckODL/target.py:266: TargetWarning: No PA given, assuming 0 deg\n",
      "  warn('No PA given, assuming 0 deg', category=TargetWarning)\n"
     ]
    },
    {
     "data": {
      "text/plain": [
       "Feige110         23 19 58.40 -05 09 56.17 2000 rotmode=vertical PA=0.0 # I guess we need a standard"
      ]
     },
     "execution_count": 5,
     "metadata": {},
     "output_type": "execute_result"
    }
   ],
   "source": [
    "# Example: Resolve target by name, set vertical angle mode, set obstype\n",
    "t4 = Target('Feige110',\n",
    "            objecttype='flux standard',\n",
    "            rotmode='vertical',\n",
    "            acquisition='guider: bright',\n",
    "            comment='I guess we need a standard')\n",
    "t4"
   ]
  },
  {
   "cell_type": "code",
   "execution_count": 6,
   "metadata": {},
   "outputs": [
    {
     "data": {
      "text/plain": [
       "M42              05 30 29.67 -05 07 23.30 2000 rotmode=PA PA=90.0 raoff=8.4 decoff=-4.5 wrap=shortest vmag=4.30 # Vmag=4.30 Kmag=6.70 Star formation is cool\n",
       "M31              00 42 44.33 +41 16 07.50 2000 rotmode=PA PA=32.0 raoff=12.1 decoff=-1.9 wrap=north vmag=2.30 # Vmag=2.30 Kmag=8.70 Galaxies are boring\n",
       "NGC1333          03 29 08.95 +31 22 07.68 2000 rotmode=PA PA=22.5 # Low mass star formation is the coolest\n",
       "Feige110         23 19 58.40 -05 09 56.17 2000 rotmode=vertical PA=0.0 # I guess we need a standard"
      ]
     },
     "execution_count": 6,
     "metadata": {},
     "output_type": "execute_result"
    }
   ],
   "source": [
    "# Build a target list, write as TDL TAML file and as starlist\n",
    "tl = TargetList([t1, t2, t3, t4])\n",
    "tl.write('targets.txt')\n",
    "tl.write_starlist('starlist.txt')\n",
    "tl"
   ]
  },
  {
   "cell_type": "code",
   "execution_count": 7,
   "metadata": {},
   "outputs": [
    {
     "ename": "NotImplementedError",
     "evalue": "",
     "output_type": "error",
     "traceback": [
      "\u001b[0;31m---------------------------------------------------------------------------\u001b[0m",
      "\u001b[0;31mNotImplementedError\u001b[0m                       Traceback (most recent call last)",
      "\u001b[0;32m<ipython-input-7-43175a0bc20a>\u001b[0m in \u001b[0;36m<module>\u001b[0;34m\u001b[0m\n\u001b[1;32m      1\u001b[0m \u001b[0;31m# Read in a target list from the TDL YAML file\u001b[0m\u001b[0;34m\u001b[0m\u001b[0;34m\u001b[0m\u001b[0;34m\u001b[0m\u001b[0m\n\u001b[0;32m----> 2\u001b[0;31m \u001b[0mnewtl\u001b[0m \u001b[0;34m=\u001b[0m \u001b[0mTargetList\u001b[0m\u001b[0;34m(\u001b[0m\u001b[0;34m)\u001b[0m\u001b[0;34m.\u001b[0m\u001b[0mread\u001b[0m\u001b[0;34m(\u001b[0m\u001b[0;34m'targets.txt'\u001b[0m\u001b[0;34m)\u001b[0m\u001b[0;34m\u001b[0m\u001b[0;34m\u001b[0m\u001b[0m\n\u001b[0m\u001b[1;32m      3\u001b[0m \u001b[0mnewtl\u001b[0m\u001b[0;34m\u001b[0m\u001b[0;34m\u001b[0m\u001b[0m\n",
      "\u001b[0;32m~/git/KeckODL/keckODL/target.py\u001b[0m in \u001b[0;36mread\u001b[0;34m(self, file)\u001b[0m\n\u001b[1;32m    470\u001b[0m         '''Read targets from a YAML formatted file.\n\u001b[1;32m    471\u001b[0m         '''\n\u001b[0;32m--> 472\u001b[0;31m         \u001b[0;32mraise\u001b[0m \u001b[0mNotImplementedError\u001b[0m\u001b[0;34m\u001b[0m\u001b[0;34m\u001b[0m\u001b[0m\n\u001b[0m\u001b[1;32m    473\u001b[0m         \u001b[0mp\u001b[0m \u001b[0;34m=\u001b[0m \u001b[0mPath\u001b[0m\u001b[0;34m(\u001b[0m\u001b[0mfile\u001b[0m\u001b[0;34m)\u001b[0m\u001b[0;34m.\u001b[0m\u001b[0mexpanduser\u001b[0m\u001b[0;34m(\u001b[0m\u001b[0;34m)\u001b[0m\u001b[0;34m.\u001b[0m\u001b[0mabsolute\u001b[0m\u001b[0;34m(\u001b[0m\u001b[0;34m)\u001b[0m\u001b[0;34m\u001b[0m\u001b[0;34m\u001b[0m\u001b[0m\n\u001b[1;32m    474\u001b[0m         \u001b[0;32mif\u001b[0m \u001b[0mp\u001b[0m\u001b[0;34m.\u001b[0m\u001b[0mexists\u001b[0m\u001b[0;34m(\u001b[0m\u001b[0;34m)\u001b[0m \u001b[0;32mis\u001b[0m \u001b[0;32mFalse\u001b[0m\u001b[0;34m:\u001b[0m\u001b[0;34m\u001b[0m\u001b[0;34m\u001b[0m\u001b[0m\n",
      "\u001b[0;31mNotImplementedError\u001b[0m: "
     ]
    }
   ],
   "source": [
    "# Read in a target list from the TDL YAML file\n",
    "newtl = TargetList().read('targets.txt')\n",
    "newtl"
   ]
  },
  {
   "cell_type": "code",
   "execution_count": 8,
   "metadata": {},
   "outputs": [
    {
     "name": "stderr",
     "output_type": "stream",
     "text": [
      "WARNING: ErfaWarning: ERFA function \"dtf2d\" yielded 1 of \"dubious year (Note 6)\" [astropy._erfa.core]\n",
      "WARNING: ErfaWarning: ERFA function \"utctai\" yielded 1 of \"dubious year (Note 3)\" [astropy._erfa.core]\n",
      "WARNING: ErfaWarning: ERFA function \"taiutc\" yielded 1 of \"dubious year (Note 4)\" [astropy._erfa.core]\n"
     ]
    },
    {
     "data": {
      "text/plain": [
       "M42              05 30 45.44 -05 11 18.69 2000 rotmode=PA PA=90.0 raoff=8.4 decoff=-4.5 wrap=shortest vmag=4.30 # Vmag=4.30 Kmag=6.70 Star formation is cool\n",
       "M31              00 42 44.33 +41 16 07.50 2000 rotmode=PA PA=32.0 raoff=12.1 decoff=-1.9 wrap=north vmag=2.30 # Vmag=2.30 Kmag=8.70 Galaxies are boring\n",
       "NGC1333          03 29 08.95 +31 22 07.68 2000 rotmode=PA PA=22.5 # Low mass star formation is the coolest\n",
       "Feige110         23 19 58.40 -05 09 56.17 2000 rotmode=vertical PA=0.0 # I guess we need a standard"
      ]
     },
     "execution_count": 8,
     "metadata": {},
     "output_type": "execute_result"
    }
   ],
   "source": [
    "from astropy.time import Time\n",
    "tl.set_obstime(Time(2045.11, format='decimalyear'))\n",
    "tl"
   ]
  },
  {
   "cell_type": "code",
   "execution_count": 11,
   "metadata": {},
   "outputs": [
    {
     "name": "stdout",
     "output_type": "stream",
     "text": [
      "- Targets:\n",
      "  - Dec: -5.188524194239093\n",
      "    DecOffset: -4.5\n",
      "    PA: 90\n",
      "    PMDec: -10\n",
      "    PMRA: 10\n",
      "    RA: 82.68932711003823\n",
      "    RAOffset: 8.4\n",
      "    acquisition: 'guider: offset'\n",
      "    comment: Star formation is cool\n",
      "    ddec: 0\n",
      "    dra: 0\n",
      "    epoch: 2045.1128502043098\n",
      "    equinox: 1999.9999085590325\n",
      "    frame: icrs\n",
      "    mag:\n",
      "      K: 6.7\n",
      "      V: 4.3\n",
      "    name: M42\n",
      "    objecttype: science\n",
      "    obstime: 2045.11\n",
      "    rotmode: PA\n",
      "    wrap: shortest\n",
      "  - Dec: 41.26875\n",
      "    DecOffset: -1.9\n",
      "    PA: 32\n",
      "    PMDec: 0\n",
      "    PMRA: 0\n",
      "    RA: 10.684708333333331\n",
      "    RAOffset: 12.1\n",
      "    acquisition: 'guider: offset'\n",
      "    comment: Galaxies are boring\n",
      "    ddec: 0\n",
      "    dra: 0\n",
      "    epoch: 2020.958272360754\n",
      "    equinox: 1999.9999085590325\n",
      "    frame: icrs\n",
      "    mag:\n",
      "      K: 8.7\n",
      "      V: 2.3\n",
      "    name: M31\n",
      "    objecttype: science\n",
      "    obstime: 2045.11\n",
      "    rotmode: PA\n",
      "    wrap: north\n",
      "  - Dec: 31.3688\n",
      "    DecOffset: null\n",
      "    PA: 22.5\n",
      "    PMDec: 0\n",
      "    PMRA: 0\n",
      "    RA: 52.2873\n",
      "    RAOffset: null\n",
      "    acquisition: blind\n",
      "    comment: Low mass star formation is the coolest\n",
      "    ddec: 0\n",
      "    dra: 0\n",
      "    epoch: 2020.9582723609674\n",
      "    equinox: 1999.9999085590325\n",
      "    frame: icrs\n",
      "    mag: {}\n",
      "    name: NGC1333\n",
      "    objecttype: science\n",
      "    obstime: 2045.11\n",
      "    rotmode: PA\n",
      "    wrap: null\n",
      "  - Dec: -5.1656028563457\n",
      "    DecOffset: null\n",
      "    PA: 0\n",
      "    PMDec: 0\n",
      "    PMRA: 0\n",
      "    RA: 349.9933312710857\n",
      "    RAOffset: null\n",
      "    acquisition: 'guider: bright'\n",
      "    comment: I guess we need a standard\n",
      "    ddec: 0\n",
      "    dra: 0\n",
      "    epoch: 2020.9582723614578\n",
      "    equinox: 1999.9999085590325\n",
      "    frame: icrs\n",
      "    mag: {}\n",
      "    name: Feige110\n",
      "    objecttype: flux standard\n",
      "    obstime: 2045.11\n",
      "    rotmode: vertical\n",
      "    wrap: null\n",
      "\n"
     ]
    }
   ],
   "source": [
    "output = upload_to_DB(tl)\n",
    "for line in output.split('\\n'):\n",
    "    print(line)"
   ]
  },
  {
   "cell_type": "code",
   "execution_count": null,
   "metadata": {},
   "outputs": [],
   "source": []
  }
 ],
 "metadata": {
  "kernelspec": {
   "display_name": "Python 3",
   "language": "python",
   "name": "python3"
  },
  "language_info": {
   "codemirror_mode": {
    "name": "ipython",
    "version": 3
   },
   "file_extension": ".py",
   "mimetype": "text/x-python",
   "name": "python",
   "nbconvert_exporter": "python",
   "pygments_lexer": "ipython3",
   "version": "3.7.6"
  }
 },
 "nbformat": 4,
 "nbformat_minor": 4
}
