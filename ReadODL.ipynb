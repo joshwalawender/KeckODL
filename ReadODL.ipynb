{
 "cells": [
  {
   "cell_type": "code",
   "execution_count": 5,
   "metadata": {},
   "outputs": [],
   "source": [
    "import importlib\n",
    "import yaml\n",
    "from pathlib import Path\n",
    "from keckODL import upload_to_DB, parse_yaml"
   ]
  },
  {
   "cell_type": "code",
   "execution_count": 6,
   "metadata": {},
   "outputs": [
    {
     "data": {
      "text/plain": [
       "{'ampmode': 9,\n",
       " 'binning': '2x2',\n",
       " 'dark': False,\n",
       " 'detector': 'blue',\n",
       " 'exptime': 1800,\n",
       " 'instrument': 'KCWI',\n",
       " 'name': 'KCWI 1800s x1',\n",
       " 'nexp': 1,\n",
       " 'readoutmode': 0,\n",
       " 'window': None}"
      ]
     },
     "execution_count": 6,
     "metadata": {},
     "output_type": "execute_result"
    }
   ],
   "source": [
    "file = Path('data.txt')\n",
    "with open(file, 'r') as FO:\n",
    "    contents = FO.read()\n",
    "contents = yaml.safe_load(contents)\n",
    "dc_dict = contents[2]['DetectorConfigs'][0]\n",
    "dc_dict"
   ]
  },
  {
   "cell_type": "code",
   "execution_count": 7,
   "metadata": {},
   "outputs": [
    {
     "data": {
      "text/plain": [
       "<module 'keckODL.kcwi' from '/Users/joshw/git/KeckODL/keckODL/kcwi.py'>"
      ]
     },
     "execution_count": 7,
     "metadata": {},
     "output_type": "execute_result"
    }
   ],
   "source": [
    "instname = dc_dict.pop('instrument')\n",
    "detectorname = dc_dict.pop('detector')"
   ]
  },
  {
   "cell_type": "code",
   "execution_count": 15,
   "metadata": {},
   "outputs": [
    {
     "data": {
      "text/plain": [
       "KCWI 1800s x1"
      ]
     },
     "execution_count": 15,
     "metadata": {},
     "output_type": "execute_result"
    }
   ],
   "source": [
    "bdc = getattr(importlib.import_module(f'keckODL.{instname.lower()}'), f'{instname}{detectorname}DetectorConfig')(**dc_dict)\n",
    "bdc"
   ]
  },
  {
   "cell_type": "code",
   "execution_count": null,
   "metadata": {},
   "outputs": [],
   "source": []
  },
  {
   "cell_type": "code",
   "execution_count": 22,
   "metadata": {},
   "outputs": [
    {
     "data": {
      "text/plain": [
       "{'arclamp': None,\n",
       " 'bluecwave': 4800,\n",
       " 'bluefilter': 'KBlue',\n",
       " 'bluefocus': None,\n",
       " 'bluegrating': 'BH3',\n",
       " 'bluenandsmask': False,\n",
       " 'bluepwave': 4500,\n",
       " 'calmirror': 'Sky',\n",
       " 'calobj': 'Dark',\n",
       " 'detconfig': ['KCWIblue 1800s x1', 'KCWIred 926s x2'],\n",
       " 'domeflatlamp': None,\n",
       " 'instrument': 'KCWIblue',\n",
       " 'name': 'medium BH3 4800 A',\n",
       " 'polarizer': 'Sky',\n",
       " 'redcwave': 6563,\n",
       " 'redfilter': 'KRed',\n",
       " 'redfocus': None,\n",
       " 'redgrating': 'RH3',\n",
       " 'rednandsmask': False,\n",
       " 'redpwave': 6263,\n",
       " 'slicer': 'medium'}"
      ]
     },
     "execution_count": 22,
     "metadata": {},
     "output_type": "execute_result"
    }
   ],
   "source": [
    "ic_dict = contents[4]['InstrumentConfigs'][0]\n",
    "ic_dict"
   ]
  },
  {
   "cell_type": "code",
   "execution_count": null,
   "metadata": {},
   "outputs": [],
   "source": []
  },
  {
   "cell_type": "code",
   "execution_count": null,
   "metadata": {},
   "outputs": [],
   "source": []
  },
  {
   "cell_type": "code",
   "execution_count": null,
   "metadata": {},
   "outputs": [],
   "source": [
    "with open(file, 'r') as FO:\n",
    "    contents = FO.read()\n",
    "contents = yaml.safe_load(contents)"
   ]
  },
  {
   "cell_type": "code",
   "execution_count": null,
   "metadata": {},
   "outputs": [],
   "source": [
    "tl, ops, ics, dcs = parse_yaml(contents)"
   ]
  },
  {
   "cell_type": "code",
   "execution_count": null,
   "metadata": {},
   "outputs": [],
   "source": [
    "tl"
   ]
  },
  {
   "cell_type": "code",
   "execution_count": null,
   "metadata": {},
   "outputs": [],
   "source": [
    "ops"
   ]
  },
  {
   "cell_type": "code",
   "execution_count": null,
   "metadata": {},
   "outputs": [],
   "source": [
    "ics"
   ]
  },
  {
   "cell_type": "code",
   "execution_count": null,
   "metadata": {},
   "outputs": [],
   "source": [
    "dcs"
   ]
  },
  {
   "cell_type": "code",
   "execution_count": null,
   "metadata": {},
   "outputs": [],
   "source": []
  },
  {
   "cell_type": "code",
   "execution_count": null,
   "metadata": {},
   "outputs": [],
   "source": []
  }
 ],
 "metadata": {
  "kernelspec": {
   "display_name": "Python 3",
   "language": "python",
   "name": "python3"
  },
  "language_info": {
   "codemirror_mode": {
    "name": "ipython",
    "version": 3
   },
   "file_extension": ".py",
   "mimetype": "text/x-python",
   "name": "python",
   "nbconvert_exporter": "python",
   "pygments_lexer": "ipython3",
   "version": "3.7.6"
  }
 },
 "nbformat": 4,
 "nbformat_minor": 4
}
