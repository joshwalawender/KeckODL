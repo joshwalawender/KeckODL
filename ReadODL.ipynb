{
 "cells": [
  {
   "cell_type": "code",
   "execution_count": 1,
   "metadata": {},
   "outputs": [],
   "source": [
    "from pathlib import Path\n",
    "import yaml\n",
    "from keckODL import parse_yaml"
   ]
  },
  {
   "cell_type": "code",
   "execution_count": 2,
   "metadata": {},
   "outputs": [],
   "source": [
    "file = Path('data.txt')\n",
    "with open(file, 'r') as FO:\n",
    "    contents = FO.read()\n",
    "contents = yaml.safe_load(contents)"
   ]
  },
  {
   "cell_type": "code",
   "execution_count": 3,
   "metadata": {},
   "outputs": [
    {
     "name": "stderr",
     "output_type": "stream",
     "text": [
      "/Users/joshw/git/KeckODL/keckODL/offset.py:158: OffsetWarning: No offset unit given for dx, assuming arcseconds\n",
      "  category=OffsetWarning)\n"
     ]
    }
   ],
   "source": [
    "tl, ops, ics, dcs = parse_yaml(contents)"
   ]
  },
  {
   "cell_type": "code",
   "execution_count": 4,
   "metadata": {},
   "outputs": [
    {
     "data": {
      "text/plain": [
       "M42              05 30 29.68 -05 07 23.41 2000 rotmode=PA PA=90.0 raoff=8.4 decoff=-4.5 vmag=4.30 # Kmag=6.70 Vmag=4.30 Star formation is cool\n",
       "M31              00 42 44.33 +41 16 07.50 2000 rotmode=PA PA=32.0 raoff=12.1 decoff=-1.9 vmag=2.30 # Kmag=8.70 Vmag=2.30 Galaxies are boring\n",
       "NGC1333          03 29 11.28 +31 18 36.00 2000 rotmode=PA PA=22.5 # Low mass star formation is the coolest\n",
       "Feige110         23 19 58.40 -05 09 56.17 2000 rotmode=vertical # I guess we need a standard"
      ]
     },
     "execution_count": 4,
     "metadata": {},
     "output_type": "execute_result"
    }
   ],
   "source": [
    "tl"
   ]
  },
  {
   "cell_type": "code",
   "execution_count": 5,
   "metadata": {},
   "outputs": [
    {
     "data": {
      "text/plain": [
       "[Frame: SkyFrame (RAOFF DECOFF)\n",
       " Repeats: 1\n",
       "  dx(\")| dy(\")| dr(deg)|    name|guide?\n",
       " ------|------|--------|--------|------\n",
       "   +0.0|  +0.0|    +0.0|    star|  True\n",
       "  +60.0|  +0.0|    +0.0|     sky| False\n",
       "   +0.0|  +0.0|    +0.0|    star|  True]"
      ]
     },
     "execution_count": 5,
     "metadata": {},
     "output_type": "execute_result"
    }
   ],
   "source": [
    "ops"
   ]
  },
  {
   "cell_type": "code",
   "execution_count": 6,
   "metadata": {},
   "outputs": [
    {
     "data": {
      "text/plain": [
       "[KCWI 1800s x1, KCWI 900s x2]"
      ]
     },
     "execution_count": 6,
     "metadata": {},
     "output_type": "execute_result"
    }
   ],
   "source": [
    "ics"
   ]
  },
  {
   "cell_type": "code",
   "execution_count": 7,
   "metadata": {},
   "outputs": [
    {
     "data": {
      "text/plain": [
       "[medium BH3 4800 A]"
      ]
     },
     "execution_count": 7,
     "metadata": {},
     "output_type": "execute_result"
    }
   ],
   "source": [
    "dcs"
   ]
  },
  {
   "cell_type": "code",
   "execution_count": null,
   "metadata": {},
   "outputs": [],
   "source": []
  }
 ],
 "metadata": {
  "kernelspec": {
   "display_name": "Python 3",
   "language": "python",
   "name": "python3"
  },
  "language_info": {
   "codemirror_mode": {
    "name": "ipython",
    "version": 3
   },
   "file_extension": ".py",
   "mimetype": "text/x-python",
   "name": "python",
   "nbconvert_exporter": "python",
   "pygments_lexer": "ipython3",
   "version": "3.7.6"
  }
 },
 "nbformat": 4,
 "nbformat_minor": 4
}
